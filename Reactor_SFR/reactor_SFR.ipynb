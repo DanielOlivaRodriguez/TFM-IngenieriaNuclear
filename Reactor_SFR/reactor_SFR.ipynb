{
 "cells": [
  {
   "cell_type": "markdown",
   "id": "ccbd7afb-caf3-4f06-b456-2e6cec2cd672",
   "metadata": {},
   "source": [
    "---"
   ]
  },
  {
   "cell_type": "markdown",
   "id": "82ed532d-d13a-4155-bd9c-b3745a0d0555",
   "metadata": {},
   "source": [
    "# REACTOR SFR\n",
    "__*Daniel Oliva Rodríguez*__"
   ]
  },
  {
   "cell_type": "markdown",
   "id": "db6c238b-4f23-4f07-84dd-85af87ace112",
   "metadata": {},
   "source": [
    "---"
   ]
  },
  {
   "cell_type": "markdown",
   "id": "07647a3e-e176-46e9-9830-11b93d87cb60",
   "metadata": {},
   "source": [
    "Para realizar una simulación en __*OpenMC*__ es necesario crear 3 archivos:\n",
    "-  *materials.xml*: definición de los materiales presentes en el problema.\n",
    "-  *geometry.xml*: definición de la geometría.\n",
    "-  *settings.xml*: definición de la configuración de la simulación.\n",
    "\n",
    "Siendo opcioneles la creación de otros 2:\n",
    "-  *tallies.xml*: definición de los parámetros que se quieren medir durante la simulación.\n",
    "-  *plots.xml*: definición de la representación gráfica de la geometría."
   ]
  },
  {
   "cell_type": "markdown",
   "id": "343722bb-6ad6-4dd5-8ca2-eb896a4be40e",
   "metadata": {},
   "source": [
    "---"
   ]
  },
  {
   "cell_type": "markdown",
   "id": "6476c6e5-73c7-49d2-a483-b939e7b24e95",
   "metadata": {},
   "source": [
    "**ruta del archivo jupyter: _\"raiz/simulaciones/sfr\"_**"
   ]
  },
  {
   "cell_type": "markdown",
   "id": "6bea7c8e-4c94-4210-b5e4-172859b87095",
   "metadata": {},
   "source": [
    "Ruta para guardar los archivos generados:"
   ]
  },
  {
   "cell_type": "code",
   "execution_count": null,
   "id": "8579f938-b375-49aa-acee-0a085d6c604d",
   "metadata": {},
   "outputs": [],
   "source": [
    "ruta = './build_100k'"
   ]
  },
  {
   "cell_type": "markdown",
   "id": "c2428d23-cd7d-400f-8cc4-f4f547402380",
   "metadata": {},
   "source": [
    "---"
   ]
  },
  {
   "cell_type": "markdown",
   "id": "7963eb79-a360-4643-8c8e-1d0730c5fc5b",
   "metadata": {},
   "source": [
    "Importación de los módulos necesarios para la simulación:"
   ]
  },
  {
   "cell_type": "code",
   "execution_count": null,
   "id": "93fe3285-acf5-48cd-8bf5-86ba2d07f0b5",
   "metadata": {},
   "outputs": [],
   "source": [
    "import openmc\n",
    "import openmc.deplete\n",
    "import math\n",
    "import os\n",
    "import numpy as np\n",
    "from matplotlib import pyplot\n",
    "from PIL import Image as Image_ppm # Para convertir la imagen .ppm en .jpg\n",
    "from IPython.display import Image, display # Para mostrar la imagen .jpg"
   ]
  },
  {
   "cell_type": "code",
   "execution_count": null,
   "id": "ac632efc-604f-43a6-828b-be8cdb4b67b9",
   "metadata": {},
   "outputs": [],
   "source": [
    "os.mkdir(ruta)"
   ]
  },
  {
   "cell_type": "code",
   "execution_count": null,
   "id": "160bbd0d-85f3-4038-8230-0d98f7cc37fc",
   "metadata": {},
   "outputs": [],
   "source": [
    "os.mkdir(ruta + \"/imagenes\")"
   ]
  },
  {
   "cell_type": "markdown",
   "id": "1a69fda3-3a78-4338-988f-5af22841ec7c",
   "metadata": {
    "jp-MarkdownHeadingCollapsed": true
   },
   "source": [
    "## Materiales"
   ]
  },
  {
   "cell_type": "markdown",
   "id": "ed2d8593-7843-408e-9788-6f9f1162f039",
   "metadata": {},
   "source": [
    "**Paso 1: Definición de Materiales** <br>\n",
    "En este primer apartado __*materials*__ se definen los materiales que se van a emplear en la simulación (combustible, revestimiento, moderador, refrigerante, etc.)."
   ]
  },
  {
   "cell_type": "markdown",
   "id": "f9c8328a-b945-484c-987e-1a5a5c1da6bc",
   "metadata": {},
   "source": [
    "Todas las definiciones de materiales tienen la misma morfología:\n",
    "-  Se inicializa el material con __*openmc.Material(ID, \"nombre\")*__.\n",
    "-  Se añade un elemento (con sus isótopos naturales) mediante __*add_element('símbolo', fracción, tipo_fracción)*__.\n",
    "   -  La fracción puede ser atómica (*ao*) o en masa (*wo*). Si no se especifica, se toma por defecto *ao*.\n",
    "   -  Se puede usar __*add_nuclide('símbolo', fracción, tipo_fracción)*__ para especificar un solo isótopo del elemento.\n",
    "   -  En el caso del uranio, se puede establecer el enriquecimiento en U235 mediante un ajuste adicional: __*enrichment=4.2*__.\n",
    "-  La densidad total del material se especifica mediante __*set_density('unidades', densidad)*__."
   ]
  },
  {
   "cell_type": "markdown",
   "id": "73bc9662-7f5b-4703-90ba-9a550a18991c",
   "metadata": {},
   "source": [
    "Definición de los materiales del **combustible**:<br>"
   ]
  },
  {
   "cell_type": "markdown",
   "id": "ecf31df7-abdb-42d1-b59e-14911383b610",
   "metadata": {},
   "source": [
    "Densidades:"
   ]
  },
  {
   "cell_type": "code",
   "execution_count": null,
   "id": "795559f4-aed7-4e1a-bede-812a9bdbbb5c",
   "metadata": {},
   "outputs": [],
   "source": [
    "densidad_uo2 = 0.955 * 10.97"
   ]
  },
  {
   "cell_type": "code",
   "execution_count": null,
   "id": "7e457a8f-f417-4127-9e2d-fc5b6cf13e46",
   "metadata": {},
   "outputs": [],
   "source": [
    "densidad_puo2 = 0.955 * 11.50"
   ]
  },
  {
   "cell_type": "code",
   "execution_count": null,
   "id": "dbf8090c-37ee-4fe2-a3ec-09ed121aad9c",
   "metadata": {},
   "outputs": [],
   "source": [
    "densidad_npo2 = 11"
   ]
  },
  {
   "cell_type": "code",
   "execution_count": null,
   "id": "effd614f-ac69-45cf-beac-155c995e9e26",
   "metadata": {},
   "outputs": [],
   "source": [
    "densidad_amo2 = 11"
   ]
  },
  {
   "cell_type": "code",
   "execution_count": null,
   "id": "8f19548a-0113-423f-95be-bcd159a85dd6",
   "metadata": {},
   "outputs": [],
   "source": [
    "densidad_cmo2 = 11"
   ]
  },
  {
   "cell_type": "markdown",
   "id": "359b7969-856b-4616-866b-010bafef8012",
   "metadata": {},
   "source": [
    "**Uranio**"
   ]
  },
  {
   "cell_type": "code",
   "execution_count": null,
   "id": "7e705248-8659-4bde-af47-7b16a4677cbc",
   "metadata": {},
   "outputs": [],
   "source": [
    "fuel_uo2 = openmc.Material(name='Combustible UO2')\n",
    "fuel_uo2.set_density('g/cm3', densidad_uo2)\n",
    "fuel_uo2.add_element('O', 2.0)\n",
    "fuel_uo2.add_element('U', 1.0)"
   ]
  },
  {
   "cell_type": "markdown",
   "id": "dde70c04-1539-41a6-8cfe-3450b122b591",
   "metadata": {},
   "source": [
    "**Plutonio**"
   ]
  },
  {
   "cell_type": "code",
   "execution_count": null,
   "id": "659f5e87-4217-4633-8115-f764c0238ad0",
   "metadata": {},
   "outputs": [],
   "source": [
    "fuel_puo2 = openmc.Material(name='Combustible PuO2')\n",
    "fuel_puo2.set_density('g/cm3', densidad_puo2)\n",
    "fuel_puo2.add_element('O', 2.0)\n",
    "fuel_puo2.add_nuclide('Pu238', 0.025)\n",
    "fuel_puo2.add_nuclide('Pu239', 0.55)\n",
    "fuel_puo2.add_nuclide('Pu240', 0.25)\n",
    "fuel_puo2.add_nuclide('Pu241', 0.1)\n",
    "fuel_puo2.add_nuclide('Pu242', 0.075)"
   ]
  },
  {
   "cell_type": "markdown",
   "id": "439e236e-02c1-4f2c-bc84-4301e6c6642b",
   "metadata": {},
   "source": [
    "**Actinidos minoritarios**"
   ]
  },
  {
   "cell_type": "code",
   "execution_count": null,
   "id": "33f4cebf-be26-4178-988d-e8edfbe56f15",
   "metadata": {},
   "outputs": [],
   "source": [
    "fuel_npo2 = openmc.Material(name='Combustible Np237')\n",
    "fuel_npo2.set_density('g/cm3', densidad_npo2)\n",
    "fuel_npo2.add_element('O', 2.0)\n",
    "fuel_npo2.add_nuclide('Np237', 1)"
   ]
  },
  {
   "cell_type": "code",
   "execution_count": null,
   "id": "67fafbf7-4d0d-4248-a4c8-0022f1a67b8d",
   "metadata": {},
   "outputs": [],
   "source": [
    "fuel_amo2 = openmc.Material(name='Combustible AmO2')\n",
    "fuel_amo2.set_density('g/cm3', densidad_amo2)\n",
    "fuel_amo2.add_element('O', 2.0)\n",
    "fuel_amo2.add_nuclide('Am241', 0.85)\n",
    "fuel_amo2.add_nuclide('Am243', 0.15)"
   ]
  },
  {
   "cell_type": "code",
   "execution_count": null,
   "id": "1d0511c8-f26e-4abd-b0dd-ea7cccb0841a",
   "metadata": {},
   "outputs": [],
   "source": [
    "fuel_cmo2 = openmc.Material(name='Combustible CmO2')\n",
    "fuel_cmo2.set_density('g/cm3', densidad_cmo2)\n",
    "fuel_cmo2.add_element('O', 2.0)\n",
    "fuel_cmo2.add_nuclide('Cm244', 0.8)\n",
    "fuel_cmo2.add_nuclide('Cm245', 0.2)"
   ]
  },
  {
   "cell_type": "code",
   "execution_count": null,
   "id": "208f8c40-19ff-48f2-8963-8860ef194cbd",
   "metadata": {},
   "outputs": [],
   "source": [
    "helium = openmc.Material(name='Helio')\n",
    "helium.set_density('g/cm3', 0.1785)\n",
    "helium.add_element('He', 1.0)"
   ]
  },
  {
   "cell_type": "markdown",
   "id": "dcf1e906-95d1-4c1f-8432-8051d39af8d0",
   "metadata": {},
   "source": [
    "**Productos de fisión**"
   ]
  },
  {
   "cell_type": "code",
   "execution_count": null,
   "id": "30c73da0-58c9-4fed-b181-ac17140e4583",
   "metadata": {},
   "outputs": [],
   "source": [
    "tc99 = openmc.Material(name='Tecnecio-99')\n",
    "tc99.add_nuclide('Tc99', 1.0)\n",
    "tc99.set_density('g/cm3', 11.46)\n",
    "tc99.depletable = True"
   ]
  },
  {
   "cell_type": "code",
   "execution_count": null,
   "id": "211e992f-6242-4671-a31c-c61dcb752462",
   "metadata": {},
   "outputs": [],
   "source": [
    "yi3 = openmc.Material(name='Yoduro de itrio')\n",
    "yi3.add_nuclide('I129', 3.0)\n",
    "yi3.add_element('Y', 1.0)\n",
    "yi3.set_density('g/cm3', 4.58)\n",
    "yi3.depletable = True"
   ]
  },
  {
   "cell_type": "markdown",
   "id": "e9b24a2a-5fac-4e6b-9a97-7016d35f42bb",
   "metadata": {},
   "source": [
    "**Reflector**"
   ]
  },
  {
   "cell_type": "code",
   "execution_count": null,
   "id": "cd24fa06-b84b-4842-901d-296d3964d8db",
   "metadata": {},
   "outputs": [],
   "source": [
    "acero_ht9 = openmc.Material(name='Acero HT9')\n",
    "acero_ht9.add_element('Fe', 0.8555, 'wo')\n",
    "acero_ht9.add_element('Cr', 0.12, 'wo')\n",
    "acero_ht9.add_element('Mo', 0.01, 'wo')\n",
    "acero_ht9.add_element('W', 0.005, 'wo')\n",
    "acero_ht9.add_element('Ni', 0.005, 'wo')\n",
    "acero_ht9.add_element('V', 0.0025, 'wo')\n",
    "acero_ht9.add_element('C', 0.002, 'wo')\n",
    "acero_ht9.set_density('g/cm3', 7.7)"
   ]
  },
  {
   "cell_type": "markdown",
   "id": "0660c856-0b85-4349-9ad7-91a9f0a0b576",
   "metadata": {},
   "source": [
    "**Revestimiento varilla**"
   ]
  },
  {
   "cell_type": "code",
   "execution_count": null,
   "id": "bb847bb8-16ba-4228-a092-9440e19a782f",
   "metadata": {},
   "outputs": [],
   "source": [
    "al2o3 = openmc.Material(name='Al2O3')\n",
    "al2o3.set_density('g/cm3', 4.0)\n",
    "al2o3.add_element('O', 3.0)\n",
    "al2o3.add_element('Al', 2.0)"
   ]
  },
  {
   "cell_type": "code",
   "execution_count": null,
   "id": "3d2d9a76-993e-4d47-8279-c41d59fbe95f",
   "metadata": {},
   "outputs": [],
   "source": [
    "clad = openmc.Material.mix_materials([acero_ht9, al2o3], [0.997, 0.003], 'wo')"
   ]
  },
  {
   "cell_type": "markdown",
   "id": "60103332-c498-4277-af2d-de2da2afd561",
   "metadata": {},
   "source": [
    "**Revestimiento elemento combustible**"
   ]
  },
  {
   "cell_type": "code",
   "execution_count": null,
   "id": "c635e3db-ec82-4057-b003-9c9b7f9d7741",
   "metadata": {},
   "outputs": [],
   "source": [
    "acero_em10 = openmc.Material(name='Acero EM10')\n",
    "acero_em10.add_element('Fe', 0.87785, 'wo')\n",
    "acero_em10.add_element('Cr', 0.088, 'wo')\n",
    "acero_em10.add_element('Mo', 0.0109, 'wo')\n",
    "acero_em10.add_element('Si', 0.0037, 'wo')\n",
    "acero_em10.add_element('Mn', 0.0051, 'wo')\n",
    "acero_em10.add_element('Ni', 0.0018, 'wo')\n",
    "acero_em10.add_element('N', 0.0024, 'wo')\n",
    "acero_em10.add_element('P', 0.00015, 'wo')\n",
    "acero_em10.add_element('S', 0.0005, 'wo')\n",
    "acero_em10.add_element('C', 0.0096, 'wo')\n",
    "acero_em10.set_density('g/cm3', 7.76)"
   ]
  },
  {
   "cell_type": "markdown",
   "id": "efd4d968-bcc5-460d-9434-db298f8dc1af",
   "metadata": {},
   "source": [
    "**Refrigerante**"
   ]
  },
  {
   "cell_type": "code",
   "execution_count": null,
   "id": "9b17dde6-2a72-4d02-921a-313dff34ce42",
   "metadata": {},
   "outputs": [],
   "source": [
    "sodium = openmc.Material(name='Sodio')\n",
    "sodium.add_element('Na', 1.0)\n",
    "# sodium.add_element('B', 9935.546875 * 1e-4) # criticidad\n",
    "sodium.set_density('g/cm3', 0.850)"
   ]
  },
  {
   "cell_type": "markdown",
   "id": "6f00e229-0d51-4ba2-8688-851a6b856b69",
   "metadata": {},
   "source": [
    "**Vasija**"
   ]
  },
  {
   "cell_type": "code",
   "execution_count": null,
   "id": "7f05fe85-a5de-4e26-94f7-fd756f2cc47f",
   "metadata": {},
   "outputs": [],
   "source": [
    "vasija = openmc.Material(name='Vasija')\n",
    "vasija.add_element('Fe', 0.8555, 'wo')\n",
    "vasija.add_element('Cr', 0.12, 'wo')\n",
    "vasija.add_element('Mo', 0.01, 'wo')\n",
    "vasija.add_element('W', 0.005, 'wo')\n",
    "vasija.add_element('Ni', 0.005, 'wo')\n",
    "vasija.add_element('V', 0.0025, 'wo')\n",
    "vasija.add_element('C', 0.002, 'wo')\n",
    "vasija.set_density('g/cm3', 7.7)"
   ]
  },
  {
   "cell_type": "markdown",
   "id": "e041f683-48cf-44ad-ad12-d112993c107f",
   "metadata": {},
   "source": [
    "**Combustible reactor**"
   ]
  },
  {
   "cell_type": "code",
   "execution_count": null,
   "id": "f6a10e40-355a-4faf-8dea-8fc62b6d81c3",
   "metadata": {},
   "outputs": [],
   "source": [
    "inner = openmc.Material.mix_materials(\n",
    "    [fuel_uo2, fuel_puo2, fuel_npo2, fuel_amo2, fuel_cmo2],\n",
    "    [0.758, 0.20, 0.005, 0.032, 0.005],\n",
    "    'wo')"
   ]
  },
  {
   "cell_type": "code",
   "execution_count": null,
   "id": "86a1d453-389a-4c8e-b002-06b9bd380bfd",
   "metadata": {},
   "outputs": [],
   "source": [
    "outer = openmc.Material.mix_materials(\n",
    "    [fuel_uo2, fuel_puo2, fuel_npo2, fuel_amo2, fuel_cmo2],\n",
    "    [0.705, 0.25, 0.005, 0.035, 0.005],\n",
    "    'wo')"
   ]
  },
  {
   "cell_type": "code",
   "execution_count": null,
   "id": "d0f24d11-456c-4315-bdd1-d172efaf9e8b",
   "metadata": {},
   "outputs": [],
   "source": [
    "materials = openmc.Materials([inner, outer, helium, sodium, clad, acero_ht9, acero_em10, tc99, yi3, vasija])\n",
    "materials.export_to_xml()"
   ]
  },
  {
   "cell_type": "markdown",
   "id": "a38563f7-0751-41d8-923c-3c726faaa462",
   "metadata": {
    "jp-MarkdownHeadingCollapsed": true
   },
   "source": [
    "## Geometry"
   ]
  },
  {
   "cell_type": "markdown",
   "id": "2a5b1c0a-5b0b-4121-9f1d-905c42ea8b8a",
   "metadata": {},
   "source": [
    "**Paso 2: Definición de la Geometría** <br>\n",
    "En este segundo apartado __*geometry*__ se define la disposción geométrica de los materiales definidos anteriormente.<br>\n",
    "OpenMC representa volúmenes mediante Geometría Constructiva de Sólidos (CSG), para ello es necesario definir los siguientes elementos:<br>\n",
    "\n",
    "-  Superficies\n",
    "-  Regiones y condiciones de contorno\n",
    "-  Celdas\n",
    "-  Universos\n",
    "-  Lattices"
   ]
  },
  {
   "cell_type": "markdown",
   "id": "272311b5-05ca-4024-8152-d1ef29c4fdcd",
   "metadata": {},
   "source": [
    "Primero se definen los parámetros especfíficos del diseño del reactor:"
   ]
  },
  {
   "cell_type": "code",
   "execution_count": null,
   "id": "c8d0e52c-2e90-4e7f-aba4-3430057a58bb",
   "metadata": {},
   "outputs": [],
   "source": [
    "pitch = 1.24                 # Pitch varillas\n",
    "pitch_assembly = 21.2205     # Pitch fuel assembly\n",
    "combustible_r = 0.4742       # Radio pastilla de combustible\n",
    "rev_ri = 0.4893              # Radio interno revestimiento\n",
    "rev_re = 0.5419              # Radio externo revestimiento\n",
    "ref_re = 0.5419              # Radio externo varilla reflector\n",
    "altura_nucleo = 110          # Altura activa núcleo"
   ]
  },
  {
   "cell_type": "markdown",
   "id": "3a6b0985-b35e-4484-b10f-e06b32ba740d",
   "metadata": {},
   "source": [
    "**Superficies y condiciones de contorno**"
   ]
  },
  {
   "cell_type": "code",
   "execution_count": null,
   "id": "0ac54f0d-d056-48b4-9c80-49abfdc8b72f",
   "metadata": {},
   "outputs": [],
   "source": [
    "# Superficies cilíndricas\n",
    "fuel_or = openmc.ZCylinder(surface_id=1, r=combustible_r)  # Superficie externa del combustible\n",
    "clad_ir = openmc.ZCylinder(surface_id=2, r=rev_ri)         # Superficie interna revestimiento\n",
    "clad_or = openmc.ZCylinder(surface_id=3, r=rev_re)         # Superficie externa revestimiento\n",
    "ref_or = openmc.ZCylinder(surface_id=4, r=ref_re)          # Superficie externa varilla reflector\n",
    "\n",
    "# Superficies planas\n",
    "s_z0 = openmc.ZPlane(z0=-108.0, surface_id=20, boundary_type='vacuum') # Límite inferior de la vasija\n",
    "s_z1 = openmc.ZPlane(z0=-88.0, surface_id=21) # Límite inferior reflector\n",
    "s_z2 = openmc.ZPlane(z0=-55.0, surface_id=22)  # Plano inferior del combustible\n",
    "s_z3 = openmc.ZPlane(z0=+55.0, surface_id=23)  # Plano superior del combustible\n",
    "s_z4 = openmc.ZPlane(z0=+220.0, surface_id=24) # Límite superior helio\n",
    "s_z5 = openmc.ZPlane(z0=+255.0, surface_id=25) # Límite superior reflector\n",
    "s_z6 = openmc.ZPlane(z0=+275.0, surface_id=26, boundary_type='vacuum') # Límite superior vasija\n",
    "\n",
    "# Superficies hexagonales para el reflector y blindaje\n",
    "outer_core_surface = openmc.model.HexagonalPrism(edge_length=367.82, boundary_type='vacuum')\n",
    "outer_ref_surface = openmc.model.HexagonalPrism(edge_length=352.82)"
   ]
  },
  {
   "cell_type": "markdown",
   "id": "0d8ca8d2-c204-4b68-ac96-7eec1e657710",
   "metadata": {},
   "source": [
    "**Regiones**"
   ]
  },
  {
   "cell_type": "code",
   "execution_count": null,
   "id": "4e0fd0d3-3f3e-4f3b-95e1-c35d521e70a8",
   "metadata": {},
   "outputs": [],
   "source": [
    "# Varilla de combustible\n",
    "fuel_region = -fuel_or & -s_z3 & +s_z2                     # Región de combustible\n",
    "plenum_region = -clad_ir & -s_z4 & +s_z3                   # Región del plenum de helio\n",
    "gap_region  = +fuel_or & -clad_ir  & -s_z3 & +s_z2         # Hueco entre combustible y revestimiento\n",
    "clad_region = +clad_ir & -clad_or  & -s_z4 & +s_z2         # Región de revestimiento\n",
    "sodium_region = +clad_or & -s_z4 & +s_z2                   # Región de refrigerante\n",
    "\n",
    "# Varilla reflector\n",
    "ref_region = -ref_or & -s_z4 & +s_z2\n",
    "\n",
    "# Reflectores estructurales\n",
    "reflector_region_inf = -s_z2 & +s_z1 & -outer_ref_surface  # Región de reflector inferior\n",
    "reflector_region_sup = -s_z5 & +s_z4 & -outer_ref_surface  # Región de reflector superior\n",
    "\n",
    "# Vasija\n",
    "shield_region_inf = -s_z1 & +s_z0 & -outer_core_surface    # Región de blindaje inferior\n",
    "shield_region_sup = -s_z6 & +s_z5 & -outer_core_surface    # Región de blindaje superior\n",
    "shield_region_inf_a = -s_z2 & +s_z1 & -outer_core_surface & +outer_ref_surface   # Región de blindaje inferior auxiliar\n",
    "shield_region_sup_a = -s_z5 & +s_z4 & -outer_core_surface & +outer_ref_surface   # Región de blindaje superior auxiliar"
   ]
  },
  {
   "cell_type": "markdown",
   "id": "77b5439c-7ef8-48b0-9dcd-542261a4a4cc",
   "metadata": {},
   "source": [
    "**Celdas para el combustible de los anillos interiores**"
   ]
  },
  {
   "cell_type": "code",
   "execution_count": null,
   "id": "cef60343-6ab1-4b3f-8db0-b906f66ba8ec",
   "metadata": {},
   "outputs": [],
   "source": [
    "# Celda de combustible del anillo interior\n",
    "inner_fuel_cell = openmc.Cell(cell_id=101, fill=inner, region=fuel_region)\n",
    "\n",
    "# Celda de plenum de helio\n",
    "plenum_cell_i = openmc.Cell(cell_id=102, fill=helium, region=plenum_region)\n",
    "\n",
    "# Celda del hueco entre el revestimiento y el combustible\n",
    "gap_cell_i = openmc.Cell(cell_id=103, fill=helium, region=gap_region)\n",
    "\n",
    "# Celda de revestimiento\n",
    "clad_cell_i = openmc.Cell(cell_id=104, fill=clad, region=clad_region)\n",
    "\n",
    "# Celda de refrigerante\n",
    "sodium_cell_i = openmc.Cell(cell_id=105, fill=sodium, region=sodium_region)"
   ]
  },
  {
   "cell_type": "markdown",
   "id": "08c74a9b-8752-4c29-8264-241da9a49020",
   "metadata": {},
   "source": [
    "**Celdas para el combustible de los anillos exteriores**"
   ]
  },
  {
   "cell_type": "code",
   "execution_count": null,
   "id": "c6c0c680-21a9-4e29-bd78-a7def75964f9",
   "metadata": {},
   "outputs": [],
   "source": [
    "# Celda para combustible del anillo exterior\n",
    "outer_fuel_cell = openmc.Cell(cell_id=106, fill=outer, region=fuel_region)\n",
    "\n",
    "# Celda de plenum de helio\n",
    "plenum_cell_o = openmc.Cell(cell_id=107, fill=helium, region=plenum_region)\n",
    "\n",
    "# Celda del hueco entre el revestimiento y el combustible\n",
    "gap_cell_o = openmc.Cell(cell_id=108, fill=helium, region=gap_region)\n",
    "\n",
    "# Celda de revestimiento\n",
    "clad_cell_o = openmc.Cell(cell_id=109, fill=clad, region=clad_region)\n",
    "\n",
    "# Celda de refrigerante\n",
    "sodium_cell_o = openmc.Cell(cell_id=110, fill=sodium, region=sodium_region)"
   ]
  },
  {
   "cell_type": "markdown",
   "id": "1a7c81ef-4ebd-4a8a-b84a-8c24e8173802",
   "metadata": {},
   "source": [
    "**Otras celdas**"
   ]
  },
  {
   "cell_type": "code",
   "execution_count": null,
   "id": "e8e679a8-0552-417e-bb35-6ea770a88a39",
   "metadata": {},
   "outputs": [],
   "source": [
    "# Celda de refrigerante para las regiones vacías del núcleo\n",
    "sodium_cell = openmc.Cell(cell_id=111, fill=sodium)"
   ]
  },
  {
   "cell_type": "code",
   "execution_count": null,
   "id": "9885a822-423d-4ea1-986a-91d7059383b5",
   "metadata": {},
   "outputs": [],
   "source": [
    "# Celda para la varilla de reflector\n",
    "ref_cell = openmc.Cell(cell_id=112, fill=acero_ht9, region=ref_region)\n",
    "sodium_ref_cell = openmc.Cell(cell_id=113, fill=sodium, region=sodium_region)"
   ]
  },
  {
   "cell_type": "code",
   "execution_count": null,
   "id": "ef18fe5b-3b2d-45a6-a638-51933e62803c",
   "metadata": {},
   "outputs": [],
   "source": [
    "# Celda para la vasija\n",
    "vessel_cell = openmc.Cell(cell_id=114, fill=vasija)"
   ]
  },
  {
   "cell_type": "markdown",
   "id": "5a11d02d-6413-4096-be7c-fbb0d17e92af",
   "metadata": {},
   "source": [
    "**Celdas para los productos de fisión**"
   ]
  },
  {
   "cell_type": "code",
   "execution_count": null,
   "id": "e5dee2d7-79aa-4633-bc1e-bbad2299b1ab",
   "metadata": {},
   "outputs": [],
   "source": [
    "# Celda para la varilla de Tecnecio 99\n",
    "tc99_cell = openmc.Cell(cell_id=115, fill=tc99, region=fuel_region)\n",
    "\n",
    "# Celda de combustible del anillo interior\n",
    "plenum_cell_tc99 = openmc.Cell(cell_id=116, fill=helium, region=plenum_region)\n",
    "\n",
    "# Celda del hueco entre el revestimiento y el combustible\n",
    "gap_cell_tc99 = openmc.Cell(cell_id=117, fill=helium, region=gap_region)\n",
    "\n",
    "# Celda de revestimiento\n",
    "clad_cell_tc99 = openmc.Cell(cell_id=118, fill=clad, region=clad_region)\n",
    "\n",
    "# Celda de refrigerante\n",
    "sodium_cell_tc99 = openmc.Cell(cell_id=119, fill=sodium, region=sodium_region)"
   ]
  },
  {
   "cell_type": "code",
   "execution_count": null,
   "id": "ce5954f3-6a98-4e18-aa79-fc2dc3e6d993",
   "metadata": {},
   "outputs": [],
   "source": [
    "# Celda para la varilla de Iodo129\n",
    "yi3_cell = openmc.Cell(cell_id=120, fill=yi3, region=fuel_region)\n",
    "\n",
    "# Celda de combustible del anillo interior\n",
    "plenum_cell_yi3 = openmc.Cell(cell_id=121, fill=helium, region=plenum_region)\n",
    "\n",
    "# Celda del hueco entre el revestimiento y el combustible\n",
    "gap_cell_yi3 = openmc.Cell(cell_id=122, fill=helium, region=gap_region)\n",
    "\n",
    "# Celda de revestimiento\n",
    "clad_cell_yi3 = openmc.Cell(cell_id=123, fill=clad, region=clad_region)\n",
    "\n",
    "# Celda de refrigerante\n",
    "sodium_cell_yi3 = openmc.Cell(cell_id=124, fill=sodium, region=sodium_region)"
   ]
  },
  {
   "cell_type": "markdown",
   "id": "f0d03cc4-d446-4f32-8514-787951ab3312",
   "metadata": {},
   "source": [
    "**Universos**"
   ]
  },
  {
   "cell_type": "code",
   "execution_count": null,
   "id": "fd8e9b91-4e1b-437d-bf87-889935dbedde",
   "metadata": {},
   "outputs": [],
   "source": [
    "# Universo con la geometría de una varilla de combustible (combustible, plenum, hueco, revestimiento y refrigerante)\n",
    "# Interior\n",
    "inner_u = openmc.Universe(universe_id=1, cells=(inner_fuel_cell, plenum_cell_i, gap_cell_i, clad_cell_i, sodium_cell_i))\n",
    "# Exterior\n",
    "outer_u = openmc.Universe(universe_id=2, cells=(outer_fuel_cell, plenum_cell_o, gap_cell_o, clad_cell_o, sodium_cell_o))"
   ]
  },
  {
   "cell_type": "code",
   "execution_count": null,
   "id": "28ad79d1-8f7f-4f47-bfe7-db5b62e011da",
   "metadata": {},
   "outputs": [],
   "source": [
    "sodium_u = openmc.Universe(universe_id=3, cells=(sodium_cell,))"
   ]
  },
  {
   "cell_type": "code",
   "execution_count": null,
   "id": "00a0ce61-d2b9-44c1-8a6f-ebf5d60b89e0",
   "metadata": {},
   "outputs": [],
   "source": [
    "ref_u = openmc.Universe(universe_id=4, cells=(ref_cell, sodium_ref_cell))"
   ]
  },
  {
   "cell_type": "code",
   "execution_count": null,
   "id": "0665ab9c-818d-4d9e-8d16-f803797e85c7",
   "metadata": {},
   "outputs": [],
   "source": [
    "vessel_u = openmc.Universe(universe_id=5, cells=(vessel_cell,))"
   ]
  },
  {
   "cell_type": "code",
   "execution_count": null,
   "id": "5b459f60-fe2d-4eab-8dc1-6c65cb7fc507",
   "metadata": {},
   "outputs": [],
   "source": [
    "tc99_u = openmc.Universe(universe_id=6, cells=(tc99_cell, plenum_cell_tc99, gap_cell_tc99, clad_cell_tc99, sodium_cell_tc99))"
   ]
  },
  {
   "cell_type": "code",
   "execution_count": null,
   "id": "1bb9ead6-0553-4162-bd52-fb8146484a16",
   "metadata": {},
   "outputs": [],
   "source": [
    "yi3_u = openmc.Universe(universe_id=7, cells=(yi3_cell, plenum_cell_yi3, gap_cell_yi3, clad_cell_yi3, sodium_cell_yi3))"
   ]
  },
  {
   "cell_type": "markdown",
   "id": "07f731f8-2a6d-4b47-b857-7b076a687957",
   "metadata": {},
   "source": [
    "**Definición del elemento combustible** (anillos interiores)"
   ]
  },
  {
   "cell_type": "code",
   "execution_count": null,
   "id": "7a473333-e6c4-4b01-b463-1100c7ea3b11",
   "metadata": {},
   "outputs": [],
   "source": [
    "# Se define un patrón hexagonal para los elementos combustibles del anillo interior\n",
    "in_lat = openmc.HexLattice(lattice_id=1000, name='Elemento combustible anillo interior')\n",
    "in_lat.center = (0, 0)       # Centro del patrón\n",
    "in_lat.pitch = (pitch,)      # Pitch de las varillas\n",
    "in_lat.orientation = 'x'     # Orientación de la matriz\n",
    "in_lat.outer = sodium_u      # Exterior del patrón cubierto con sodio\n",
    "\n",
    "# Se define la distribución hexagonal de las varillas de combustible (de fuera hacia dentro)\n",
    "inone = [inner_u]*48         # Varillas exteriores del elemento hexagonal\n",
    "intwo = [inner_u]*42\n",
    "inthree = [inner_u]*36\n",
    "infour = [inner_u]*30\n",
    "infive = [inner_u]*24\n",
    "insix = [inner_u]*18\n",
    "inseven = [inner_u]*12\n",
    "ineight = [inner_u]*6\n",
    "innine = [inner_u]*1         # Varilla central del elemento hexagonal\n",
    "\n",
    "# Total varillas combustibles de los elementos interiores = 217\n",
    "\n",
    "# Se añade la distribución de las varillas al patrón del elemento combustible\n",
    "in_lat.universes = [inone, intwo, inthree, infour, infive, insix, inseven, ineight, innine]\n",
    "\n",
    "# Se crea la superficie hexagonal exterior del elemento combustible\n",
    "outer_in_surface = openmc.model.HexagonalPrism(edge_length=12.1705, orientation='x')\n",
    "\n",
    "# Se crea la superficie hexagonal para el conducto del elemento combustible\n",
    "outer_duct_in = openmc.model.HexagonalPrism(edge_length=11.623, orientation='x')\n",
    "inner_duct_in = openmc.model.HexagonalPrism(edge_length=11.1705, orientation='x')\n",
    "\n",
    "# Se rellena el elemento combustible con el patrón definido\n",
    "main_in_assembly = openmc.Cell(cell_id=200, fill=in_lat, region=-inner_duct_in & -s_z4 & +s_z2)\n",
    "\n",
    "# Se define el material del conducto y su región\n",
    "duct_in_assembly = openmc.Cell(cell_id=201, fill=acero_em10, region=-outer_duct_in & +inner_duct_in & -s_z4 & +s_z2)\n",
    "\n",
    "# Se rellena el exterior del patrón con refrigerante\n",
    "out_in_assembly  = openmc.Cell(cell_id=202, fill=sodium, region=+outer_duct_in & -s_z4 & +s_z2)\n",
    "\n",
    "# Se crea el universo que contiene un elemento combustible (anillos interiores)\n",
    "main_in_u = openmc.Universe(universe_id=100, cells=[main_in_assembly, out_in_assembly, duct_in_assembly])"
   ]
  },
  {
   "cell_type": "markdown",
   "id": "87a44791-91dd-40ae-a325-32bc87d55224",
   "metadata": {},
   "source": [
    "**Definición del elemento combustible** (anillos exteriores)"
   ]
  },
  {
   "cell_type": "code",
   "execution_count": null,
   "id": "f575795c-e0f9-48b9-a92f-46c30cb8c23e",
   "metadata": {},
   "outputs": [],
   "source": [
    "# Se define un patrón hexagonal para los elementos combustibles del anillo exterior\n",
    "out_lat = openmc.HexLattice(lattice_id=1001, name='Elemento combustible anillo exterior')\n",
    "out_lat.center = (0, 0)       # Centro del patrón\n",
    "out_lat.pitch = (pitch,)      # Pitch de las varillas\n",
    "out_lat.orientation = 'x'     # Orientación de la matriz\n",
    "out_lat.outer = sodium_u      # Exterior del patrón cubierto con sodio\n",
    "\n",
    "# Se define la distribución hexagonal de las varillas de combustible  (de fuera hacia dentro)\n",
    "outone = [outer_u]*48         # Varillas exteriores del elemento hexagonal\n",
    "outtwo = [outer_u]*42\n",
    "outthree = [outer_u]*36\n",
    "outfour = [outer_u]*30\n",
    "outfive = [outer_u]*24\n",
    "outsix = [outer_u]*18\n",
    "outseven = [outer_u]*12\n",
    "outeight = [outer_u]*6\n",
    "outnine = [outer_u]*1         # Varilla central del elemento hexagonal\n",
    "\n",
    "# Total varillas combustibles de los elementos exteriores = 217\n",
    "\n",
    "out_lat.universes = [outone, outtwo, outthree, outfour, outfive, outsix, outseven, outeight, outnine]\n",
    "\n",
    "# Se crea la superficie hexagonal exterior del elemento combustible\n",
    "outer_out_surface = openmc.model.HexagonalPrism(edge_length=12.1705, orientation='x')\n",
    "\n",
    "# Se crea la superficie hexagonal para el conducto del elemento combustible\n",
    "outer_duct_out = openmc.model.HexagonalPrism(edge_length=11.623, orientation='x')\n",
    "inner_duct_out = openmc.model.HexagonalPrism(edge_length=11.1705, orientation='x')\n",
    "\n",
    "# Se rellena el elemento combustible con el patrón definido\n",
    "main_out_assembly = openmc.Cell(cell_id=203, fill=out_lat, region=-inner_duct_out & -s_z4 & +s_z2)\n",
    "\n",
    "# Se define el material del conducto y su región\n",
    "duct_out_assembly = openmc.Cell(cell_id=204, fill=acero_em10, region=-outer_duct_out & +inner_duct_out & -s_z4 & +s_z2)\n",
    "\n",
    "# Se rellena el exterior del patrón con refrigerante\n",
    "out_out_assembly  = openmc.Cell(cell_id=205, fill=sodium, region=+outer_duct_out & -s_z4 & +s_z2)\n",
    "\n",
    "# Se crea el universo que contiene un elemento combustible (anillos exteriores)\n",
    "main_out_u = openmc.Universe(universe_id=101, cells=[main_out_assembly, out_out_assembly, duct_out_assembly])"
   ]
  },
  {
   "cell_type": "markdown",
   "id": "5035509a-f581-4165-84a6-56e32ddb98a6",
   "metadata": {},
   "source": [
    "**Definición de un elemento vacío** (con sodio)"
   ]
  },
  {
   "cell_type": "code",
   "execution_count": null,
   "id": "1eba664a-f76d-4441-bb6b-1ad9a7c1d638",
   "metadata": {},
   "outputs": [],
   "source": [
    "# Se crea la superficie hexagonal exterior del elemento combustible\n",
    "outer_sod_surface = openmc.model.HexagonalPrism(edge_length=12.1705, orientation='x')\n",
    "\n",
    "# Se crea la superficie hexagonal para el conducto del elemento combustible\n",
    "outer_duct_sod = openmc.model.HexagonalPrism(edge_length=11.623, orientation='x')\n",
    "inner_duct_sod = openmc.model.HexagonalPrism(edge_length=11.1705, orientation='x')\n",
    "\n",
    "# Se rellena el elemento combustible con el patrón definido\n",
    "main_sod_assembly = openmc.Cell(cell_id=206, fill=sodium, region=-inner_duct_sod & -s_z4 & +s_z2)\n",
    "duct_sod_assembly = openmc.Cell(cell_id=207, fill=acero_em10, region=-outer_duct_sod & +inner_duct_sod & -s_z4 & +s_z2)\n",
    "\n",
    "# Se rellena el exterior del patrón con refrigerante\n",
    "out_sod_assembly  = openmc.Cell(cell_id=208, fill=sodium, region=+outer_duct_sod & -s_z4 & +s_z2)\n",
    "\n",
    "# Se crea el universo que contiene un elemento combustible (anillos interiores)\n",
    "main_sod_u = openmc.Universe(universe_id=102, cells=[main_sod_assembly, out_sod_assembly, duct_sod_assembly])"
   ]
  },
  {
   "cell_type": "markdown",
   "id": "9b10298b-afcd-4d16-9355-b1e9dd78740a",
   "metadata": {},
   "source": [
    "**Definición de un elemento reflector**"
   ]
  },
  {
   "cell_type": "code",
   "execution_count": null,
   "id": "31753a5b-2640-4fd2-a2ed-b815ea05f9e5",
   "metadata": {},
   "outputs": [],
   "source": [
    "# Se define un patrón hexagonal para los elementos combustibles del anillo exterior\n",
    "ref_lat = openmc.HexLattice(lattice_id=1002, name='Elemento reflector')\n",
    "ref_lat.center = (0, 0)       # Centro del patrón\n",
    "ref_lat.pitch = (pitch,)      # Pitch de las varillas\n",
    "ref_lat.orientation = 'x'     # Orientación de la matriz\n",
    "ref_lat.outer = sodium_u      # Exterior del patrón cubierto con sodio\n",
    "\n",
    "# Se define la distribución hexagonal de las varillas de combustible  (de fuera hacia dentro)\n",
    "refone = [ref_u]*48         \n",
    "reftwo = [ref_u]*42\n",
    "refthree = [ref_u]*36\n",
    "reffour = [ref_u]*30\n",
    "reffive = [ref_u]*24\n",
    "refsix = [ref_u]*18\n",
    "refseven = [ref_u]*12\n",
    "refeight = [ref_u]*6\n",
    "refnine = [ref_u]*1         \n",
    "\n",
    "# Total varillas combustibles de los elementos exteriores = 217\n",
    "\n",
    "ref_lat.universes = [refone, reftwo, refthree, reffour, reffive, refsix, refseven, refeight, refnine]\n",
    "\n",
    "# Se crea la superficie hexagonal exterior del elemento combustible\n",
    "outer_ref_surface = openmc.model.HexagonalPrism(edge_length=12.1705, orientation='x')\n",
    "\n",
    "# Se crea la superficie hexagonal para el conducto del elemento combustible\n",
    "outer_duct_ref = openmc.model.HexagonalPrism(edge_length=11.623, orientation='x')\n",
    "inner_duct_ref = openmc.model.HexagonalPrism(edge_length=11.1705, orientation='x')\n",
    "\n",
    "# Se rellena el elemento combustible con el patrón definido\n",
    "main_ref_assembly = openmc.Cell(cell_id=209, fill=ref_lat, region=-inner_duct_ref & -s_z4 & +s_z2)\n",
    "\n",
    "# Se define el material del conducto y su región\n",
    "duct_ref_assembly = openmc.Cell(cell_id=210, fill=acero_em10, region=-outer_duct_ref & +inner_duct_ref & -s_z4 & +s_z2)\n",
    "\n",
    "# Se rellena el exterior del patrón con refrigerante\n",
    "out_ref_assembly  = openmc.Cell(cell_id=211, fill=sodium, region=+outer_duct_ref & -s_z4 & +s_z2)\n",
    "\n",
    "# Se crea el universo que contiene un elemento combustible (anillos exteriores)\n",
    "main_ref_u = openmc.Universe(universe_id=103, cells=[main_ref_assembly, out_ref_assembly, duct_ref_assembly])"
   ]
  },
  {
   "cell_type": "markdown",
   "id": "546d4aab-aff8-49dd-99dd-9dfc2ccb20fd",
   "metadata": {},
   "source": [
    "**Definición de un elemento para los productos de fisión**"
   ]
  },
  {
   "cell_type": "code",
   "execution_count": null,
   "id": "b7e3b81e-2f87-48c8-a89d-b6acc45c743b",
   "metadata": {},
   "outputs": [],
   "source": [
    "# Se define un patrón hexagonal para los elementos combustibles del anillo exterior\n",
    "fp_lat = openmc.HexLattice(lattice_id=1003, name='Elemento combustible con productos de fisión')\n",
    "fp_lat.center = (0, 0)       # Centro del patrón\n",
    "fp_lat.pitch = (pitch,)      # Pitch de las varillas\n",
    "fp_lat.orientation = 'x'     # Orientación de la matriz\n",
    "fp_lat.outer = sodium_u      # Exterior del patrón cubierto con sodio\n",
    "\n",
    "# Se define la distribución hexagonal de las varillas de combustible  (de fuera hacia dentro)\n",
    "fpone = [inner_u]*48\n",
    "fptwo = [inner_u]*42\n",
    "fpthree = ([inner_u]*3 + [yi3_u]*1 + [inner_u]*2)*6\n",
    "fpfour = ([tc99_u]*1 + [inner_u]*4 + [tc99_u]*1 + [inner_u]*4 + [tc99_u]*1 + [inner_u]*4)*2\n",
    "fpfive = [inner_u]*24\n",
    "fpsix = [inner_u]*18\n",
    "fpseven = ([yi3_u] + [inner_u])*6\n",
    "fpeight = [inner_u]*6\n",
    "fpnine = [tc99_u]*1\n",
    "\n",
    "# Varillas de los productos de fisión\n",
    "n_varillas_tc99 = 7\n",
    "n_varillas_yi3 = 12\n",
    "\n",
    "fp_lat.universes = [fpone, fptwo, fpthree, fpfour, fpfive, fpsix, fpseven, fpeight, fpnine]\n",
    "\n",
    "# Se crea la superficie hexagonal exterior del elemento combustible\n",
    "outer_fp_surface = openmc.model.HexagonalPrism(edge_length=12.1705, orientation='x')\n",
    "\n",
    "# Se crea la superficie hexagonal para el conducto del elemento combustible\n",
    "outer_duct_fp = openmc.model.HexagonalPrism(edge_length=11.623, orientation='x')\n",
    "inner_duct_fp = openmc.model.HexagonalPrism(edge_length=11.1705, orientation='x')\n",
    "\n",
    "# Se rellena el elemento combustible con el patrón definido\n",
    "main_fp_assembly = openmc.Cell(cell_id=212, fill=fp_lat, region=-inner_duct_fp & -s_z4 & +s_z2)\n",
    "\n",
    "# Se define el material del conducto y su región\n",
    "duct_fp_assembly = openmc.Cell(cell_id=213, fill=acero_em10, region=-outer_duct_fp & +inner_duct_fp & -s_z4 & +s_z2)\n",
    "\n",
    "# Se rellena el exterior del patrón con refrigerante\n",
    "out_fp_assembly  = openmc.Cell(cell_id=214, fill=sodium, region=+outer_duct_fp & -s_z4 & +s_z2)\n",
    "\n",
    "# Se crea el universo que contiene un elemento combustible (anillos exteriores)\n",
    "main_fp_u = openmc.Universe(universe_id=104, cells=[main_fp_assembly, out_fp_assembly, duct_fp_assembly])"
   ]
  },
  {
   "cell_type": "markdown",
   "id": "6ac426c5-1b6a-4121-a84b-07cfad297f9d",
   "metadata": {},
   "source": [
    "**Geometría del núcleo**"
   ]
  },
  {
   "cell_type": "markdown",
   "id": "1cc57a3f-e5ea-4715-8e97-8e88a2382679",
   "metadata": {},
   "source": [
    "Con los elementos combustibles definidos, se construye la geometría del reactor."
   ]
  },
  {
   "cell_type": "code",
   "execution_count": null,
   "id": "6e82d994-bae5-449d-9f71-523af26e6f90",
   "metadata": {},
   "outputs": [],
   "source": [
    "# Se define el patrón hexagonal del núcleo\n",
    "\n",
    "core_lat = openmc.HexLattice(lattice_id=1004, name='core')\n",
    "core_lat.center = (0, 0)             # Centro de la matriz\n",
    "core_lat.pitch = (pitch_assembly,)   # Pitch de los elementos combustibles\n",
    "core_lat.outer = vessel_u            # Exterior del patrón formado por la vasija"
   ]
  },
  {
   "cell_type": "raw",
   "id": "342d62e3-8566-43f2-b8b6-a82bc8fa7220",
   "metadata": {},
   "source": [
    "# Se definen los anillos que forman el patrón del núcleo\n",
    "\n",
    "ref_one = [main_ref_u] * 96\n",
    "ref_two = [main_ref_u] * 90\n",
    "ref_three = [main_ref_u] * 84\n",
    "ref_four = ([main_ref_u] * 5 + [main_out_u] * 4 + [main_ref_u] * 4) * 6\n",
    "ref_five = ([main_ref_u] + [main_out_u] * 11) * 6\n",
    "out_one = [main_out_u]*66\n",
    "out_two = [main_out_u]*60\n",
    "out_three = ([main_out_u]*2 + [main_in_u]*6 + [main_out_u] * 1)*6\n",
    "in_one = [main_in_u]*48\n",
    "in_two = [main_in_u]*42\n",
    "in_three = ([main_sod_u] + [main_in_u]*5)*6\n",
    "in_four = [main_in_u]*30\n",
    "in_five = ([main_in_u]*2 + [main_fp_u]*1 + [main_in_u]*1)*6\n",
    "in_six = ([main_sod_u] + [main_in_u] + [main_in_u])*6\n",
    "in_seven = ([main_in_u] + [main_fp_u])*6\n",
    "in_eight = [main_in_u]*6\n",
    "in_nine = [main_sod_u]*1\n",
    "\n",
    "# Elementos vacíos\n",
    "n_ec_vacios = 13\n",
    "\n",
    "# Total elementos combustibles exteriores\n",
    "n_ec_exteriores = 234\n",
    "\n",
    "# Total elementos combustibles interiores\n",
    "n_ec_interiores = 240 - n_ec_vacios\n",
    "\n",
    "# Total elementos combustibles con productos de fisión\n",
    "n_ec_pf = 12\n",
    "\n",
    "core_lat.universes = [ref_one,ref_two,ref_three,ref_four,ref_five,out_one,out_two,out_three,in_one,in_two,in_three,in_four,in_five,in_six,in_seven,in_eight,in_nine]"
   ]
  },
  {
   "cell_type": "code",
   "execution_count": null,
   "id": "efa96608-2e09-4924-8ac9-a050b5b780df",
   "metadata": {},
   "outputs": [],
   "source": [
    "# Se definen los anillos que forman el patrón del núcleo\n",
    "\n",
    "ref_one = [main_ref_u] * 96\n",
    "ref_two = [main_ref_u] * 90\n",
    "ref_three = [main_ref_u] * 84\n",
    "ref_four = ([main_ref_u] * 5 + [main_out_u] * 4 + [main_ref_u] * 4) * 6\n",
    "ref_five = ([main_ref_u] + [main_out_u] * 11) * 6\n",
    "out_one = [main_out_u]*66\n",
    "out_two = ([main_out_u]*5 + [main_sod_u] + [main_out_u]*4)*6\n",
    "out_three = ([main_out_u]*2 + [main_sod_u] + [main_in_u]*4 + [main_sod_u] + [main_out_u] * 1)*6\n",
    "in_one = [main_in_u]*48\n",
    "in_two = [main_in_u]*42\n",
    "\n",
    "in_three = ([main_in_u]*1 + [main_sod_u] + [main_in_u]*3 + [main_sod_u] + \n",
    "            [main_in_u]*3 + [main_sod_u] + [main_in_u]*3 + [main_sod_u] + \n",
    "            [main_in_u]*3 + [main_sod_u] + [main_in_u]*3 + [main_sod_u] + \n",
    "            [main_in_u]*3 + [main_sod_u] + [main_in_u]*3 + [main_sod_u] + \n",
    "            [main_in_u]*3 + [main_sod_u] + [main_in_u]*2)\n",
    "\n",
    "in_four = [main_in_u]*30\n",
    "in_five = ([main_in_u]*2 + [main_fp_u]*1 + [main_in_u]*1)*6\n",
    "in_six = ([main_sod_u] + [main_in_u] + [main_in_u])*6\n",
    "in_seven = ([main_in_u] + [main_fp_u])*6\n",
    "in_eight = [main_in_u]*6\n",
    "in_nine = [main_sod_u]*1\n",
    "\n",
    "# Elementos vacíos\n",
    "n_ec_vacios_ext = 6\n",
    "n_ec_vacios_int = 28\n",
    "\n",
    "# Total elementos combustibles exteriores\n",
    "n_ec_exteriores = 234 - n_ec_vacios_ext\n",
    "\n",
    "# Total elementos combustibles interiores\n",
    "n_ec_interiores = 240 - n_ec_vacios_int\n",
    "\n",
    "# Total elementos combustibles con productos de fisión\n",
    "n_ec_pf = 12\n",
    "\n",
    "core_lat.universes = [ref_one,ref_two,ref_three,ref_four,ref_five,out_one,out_two,out_three,in_one,in_two,in_three,in_four,in_five,in_six,in_seven,in_eight,in_nine]"
   ]
  },
  {
   "cell_type": "code",
   "execution_count": null,
   "id": "949fab98-b002-49b6-8bb0-08955e48cb0d",
   "metadata": {},
   "outputs": [],
   "source": [
    "# Se define una celda formada por el patrón del núcleo contenido en la vasija\n",
    "core = openmc.Cell(cell_id=250, fill=core_lat, region=-outer_core_surface & -s_z4 & +s_z2)\n",
    "\n",
    "# Se definen las celdas referentes a los reflectores estructurales y vasija\n",
    "reflector_inf = openmc.Cell(cell_id=215, fill=acero_ht9, region=reflector_region_inf)   # Reflector inferior\n",
    "reflector_sup = openmc.Cell(cell_id=216, fill=acero_ht9, region=reflector_region_sup)   # Reflector superior\n",
    "blindaje_inf = openmc.Cell(cell_id=217, fill=vasija, region=shield_region_inf)          # Reflector inferior\n",
    "blindaje_sup = openmc.Cell(cell_id=218, fill=vasija, region=shield_region_sup)          # Reflector superior\n",
    "blindaje_inf_aux = openmc.Cell(cell_id=219, fill=vasija, region=shield_region_inf_a)    # Reflector inferior\n",
    "blindaje_sup_aux = openmc.Cell(cell_id=220, fill=vasija, region=shield_region_sup_a)    # Reflector superior\n",
    "\n",
    "# Se crea el universo que contiene la geometría completa del núcleo\n",
    "main_u = openmc.Universe(universe_id=105, cells=[core, reflector_inf, reflector_sup, blindaje_inf, blindaje_sup, blindaje_inf_aux, blindaje_sup_aux]) "
   ]
  },
  {
   "cell_type": "markdown",
   "id": "2dd92db5-f2bb-496a-b176-21040faf91f7",
   "metadata": {},
   "source": [
    "Se asigna el universo a root:"
   ]
  },
  {
   "cell_type": "code",
   "execution_count": null,
   "id": "18b28524-02c8-4192-b69d-14923d24d2e0",
   "metadata": {},
   "outputs": [],
   "source": [
    "geometry = openmc.Geometry()\n",
    "geometry.root_universe = main_u"
   ]
  },
  {
   "cell_type": "markdown",
   "id": "7e98a09c-517b-4d67-8625-bdb0f561186f",
   "metadata": {},
   "source": [
    "Se exporta la geometría"
   ]
  },
  {
   "cell_type": "code",
   "execution_count": null,
   "id": "1d71224b-10d9-4156-acbd-2b2b1ebac341",
   "metadata": {},
   "outputs": [],
   "source": [
    "geometry.export_to_xml()"
   ]
  },
  {
   "cell_type": "markdown",
   "id": "a7ad6ba4-a529-4429-a79e-e5841c2170b4",
   "metadata": {
    "jp-MarkdownHeadingCollapsed": true
   },
   "source": [
    "## Settings"
   ]
  },
  {
   "cell_type": "markdown",
   "id": "013968a1-fdaa-424d-995e-efb7518a6fc9",
   "metadata": {},
   "source": [
    "**Paso 3: Configuración de la ejecución** <br>\n",
    "En este tercer apartado __*settings*__ se define la configuración de la simulación mediante la clase __*openmc.Settings*__.<br>\n",
    "El modo en que se realiza la simulación se define mediante el atributo __*Settings.run_mode*__.<br>\n",
    "Hay 5 modos, pero para simular un reactor nuclear se emplea el modo __*eigenvalue*__."
   ]
  },
  {
   "cell_type": "code",
   "execution_count": null,
   "id": "c5f4dcea-42f5-4a23-9c29-7550ab755fa3",
   "metadata": {},
   "outputs": [],
   "source": [
    "settings = openmc.Settings()\n",
    "settings.run_mode = 'eigenvalue'"
   ]
  },
  {
   "cell_type": "markdown",
   "id": "5b69219e-9130-460c-89d4-21925ea52df5",
   "metadata": {},
   "source": [
    "Hay que realizar una hipótesis respecto a cómo se distribuyen las fisiones en el instante inicial.<br>\n",
    "Independientemente de este ajuste, la simulación debería converger a una distribución real.<br>\n",
    "En este caso se emplea una distribución puntual en una varilla de combustible."
   ]
  },
  {
   "cell_type": "markdown",
   "id": "8bff8899-ef96-4bd5-b06b-9fd3e300a50f",
   "metadata": {},
   "source": [
    "Se define un cubo que abarque todo el núcleo"
   ]
  },
  {
   "cell_type": "code",
   "execution_count": null,
   "id": "b0e71ed1-f124-404a-bcf1-8fb13c3f6a11",
   "metadata": {},
   "outputs": [],
   "source": [
    "lower_left = [-300, -300, -50]\n",
    "upper_right = [300, 300, 50]"
   ]
  },
  {
   "cell_type": "markdown",
   "id": "6c7dbd87-7641-44c7-8a75-49d79fa9df3f",
   "metadata": {},
   "source": [
    "Se define una distribución inicial sobre todo el núcleo:"
   ]
  },
  {
   "cell_type": "code",
   "execution_count": null,
   "id": "12e75a67-8146-49d7-861f-0069a4fd9a0b",
   "metadata": {},
   "outputs": [],
   "source": [
    "spatial_dist = openmc.stats.Box(lower_left, upper_right)\n",
    "source = openmc.IndependentSource(space=spatial_dist, constraints={'fissionable': True})\n",
    "settings.source = source"
   ]
  },
  {
   "cell_type": "markdown",
   "id": "61ae0dd2-3514-4668-aa91-18997a5e5ffb",
   "metadata": {},
   "source": [
    "Para la simulación, se deben definir 3 variables de la simulación:\n",
    "-  __*Batches*__: el número total de partículas simuladas determina el nivel de incertidumbre de los resultados.\n",
    "-  __*Inactive batches*__: al inicil de la simulación, la distribución de la fuente no es conocida y es necesario realizar una hipótesis para empezar a iterar. A medida que se realizan más iteraciones, la distribución se acerca más a la distribución real. Cuando la distribución converge, ya es posible obtener resultados fiables. Las *Inactive batches* son iteraciones empleadas para hacer converger la distribución, pero no almacenar resultados. Para problemas pequeños es suficiente con 50 o 100, pero para problemas más complejos, se debe usar un valor mayor. \n",
    "-  __*Particles*__: de igual forma que para *batches*. Para simulaciones *eigenvalue* se recomienda al menos 10.000 partículas."
   ]
  },
  {
   "cell_type": "code",
   "execution_count": null,
   "id": "f2fed9c2-de88-4501-8dab-499517499a14",
   "metadata": {},
   "outputs": [],
   "source": [
    "settings.batches = 50\n",
    "settings.inactive = 10\n",
    "settings.particles = 100000"
   ]
  },
  {
   "cell_type": "markdown",
   "id": "59601730-bec3-416a-92f1-bfeb182587d9",
   "metadata": {},
   "source": [
    "Por último, se exporta a *XML*:"
   ]
  },
  {
   "cell_type": "code",
   "execution_count": null,
   "id": "2f851841-d7bb-4b1e-b5f8-fb64ff0d5ebd",
   "metadata": {},
   "outputs": [],
   "source": [
    "settings.export_to_xml()"
   ]
  },
  {
   "cell_type": "markdown",
   "id": "01418159-ff6d-458a-a315-d8d732951358",
   "metadata": {
    "jp-MarkdownHeadingCollapsed": true
   },
   "source": [
    "## Tallies"
   ]
  },
  {
   "cell_type": "markdown",
   "id": "0ec36243-2528-44f9-89d9-f5e5ea903e81",
   "metadata": {},
   "source": [
    "**Paso 4: Configuración de los parámetros a leer** <br>\n",
    "En este cuarto apartado __*tallies*__ se definen las magnitudes físicas a monitorizar durante la simulación mediante la clase __*openmc.Tally*__.<br>\n",
    "\n",
    "-  Los *filters* definen dónde queremos medir los resultados.<br>\n",
    "-  Los *scores* definen qué queremos medir.<br>\n",
    "\n",
    "En este caso, queremos medir en la celda de combustible, por lo que el *filter* se inicializa en las celdas de combustible interior y exterior."
   ]
  },
  {
   "cell_type": "code",
   "execution_count": null,
   "id": "eedc874e-cbd7-4854-9b9d-0766d865480c",
   "metadata": {},
   "outputs": [],
   "source": [
    "cell_filter = openmc.CellFilter([101, 106, 115, 120])\n",
    "# 101 - Combustible interior\n",
    "# 106 - Combustible exterior\n",
    "# 115 - Tecnecio 99\n",
    "# 120 - Iodo 129"
   ]
  },
  {
   "cell_type": "markdown",
   "id": "94f1ec5e-de53-417d-9521-09025fdf0ebf",
   "metadata": {},
   "source": [
    "Una vez que se han creado todos los filtros, es necesario crear el objeto Tally (con un ID) y asignar los filtros."
   ]
  },
  {
   "cell_type": "code",
   "execution_count": null,
   "id": "ab020c0d-e49f-46c6-b3b4-dc613e2a60f1",
   "metadata": {},
   "outputs": [],
   "source": [
    "tally = openmc.Tally(1)\n",
    "tally.filters = [cell_filter]"
   ]
  },
  {
   "cell_type": "markdown",
   "id": "6a8d3efe-be12-401f-acb3-a18f32eacbe1",
   "metadata": {},
   "source": [
    "En los *scores* se definen los parámetros a medir, en este caso, los ratios dereacción total, de fisión, de absorción y (n,γ):"
   ]
  },
  {
   "cell_type": "code",
   "execution_count": null,
   "id": "9e69e066-a073-4ec1-a709-6435f250f3e0",
   "metadata": {},
   "outputs": [],
   "source": [
    "tally.scores = ['total', 'fission', 'absorption', '(n,gamma)', 'nu-fission']"
   ]
  },
  {
   "cell_type": "markdown",
   "id": "40db7e25-c566-4ee8-b09b-30bb69f69a16",
   "metadata": {},
   "source": [
    "Adicionalmente, se pueden especificar los nucleidos que queremos monitorizar mediante: __*tally.nuclides = ['U235']*__\n",
    "\n",
    "Si no se incluyen, por defecto se monitorizan todos los nucleidos presentes en la simulación."
   ]
  },
  {
   "cell_type": "code",
   "execution_count": null,
   "id": "1eb3c6cc-cc8e-404b-b1c9-b5af008e4f4f",
   "metadata": {},
   "outputs": [],
   "source": [
    "tally.nuclides = ['U235','U238', 'Pu238', 'Pu239', 'Pu240', 'Pu241', 'Pu242', 'Am241', 'Am243', 'Np237', 'Cm244', 'Cm245']"
   ]
  },
  {
   "cell_type": "markdown",
   "id": "2158fd56-bbbc-4649-b61d-0bcb8d830f5c",
   "metadata": {},
   "source": [
    "Tallies para el flujo neutrónico:"
   ]
  },
  {
   "cell_type": "code",
   "execution_count": null,
   "id": "b7b93188-2afa-4f10-9b67-055f9341faa7",
   "metadata": {},
   "outputs": [],
   "source": [
    "# Create equal-lethargy energies to put in filter\n",
    "energies = np.logspace(np.log10(1e-5), np.log10(20.0e6), 501)\n",
    "e_filter = openmc.EnergyFilter(energies)\n",
    "\n",
    "# Create tally with energy filter\n",
    "tallyflux = openmc.Tally()\n",
    "tallyflux.filters = [e_filter]\n",
    "tallyflux.scores = ['flux']"
   ]
  },
  {
   "cell_type": "code",
   "execution_count": null,
   "id": "395ce7a7-9a4d-430a-b905-fac3b83c8144",
   "metadata": {},
   "outputs": [],
   "source": [
    "# Create energy filter using SHEM-361 group structure\n",
    "energies_shem = openmc.mgxs.GROUP_STRUCTURES['SHEM-361']\n",
    "shem_filter = openmc.EnergyFilter(openmc.mgxs.GROUP_STRUCTURES['SHEM-361'])\n",
    "\n",
    "tally_shem = openmc.Tally()\n",
    "tally_shem.filters = [shem_filter]\n",
    "tally_shem.scores = ['flux']"
   ]
  },
  {
   "cell_type": "markdown",
   "id": "3ef026d7-7761-4cb9-a3a2-bde2f3d1cf2a",
   "metadata": {},
   "source": [
    "Finalmente, se crea la colección o lista de *tallies* y se exporta a *XML*."
   ]
  },
  {
   "cell_type": "code",
   "execution_count": null,
   "id": "07a50523-4d23-49f9-8b61-971a25c2482d",
   "metadata": {},
   "outputs": [],
   "source": [
    "tallies = openmc.Tallies([tally, tallyflux, tally_shem])"
   ]
  },
  {
   "cell_type": "code",
   "execution_count": null,
   "id": "838726ab-80db-40e8-a25e-6e5dd3d70b78",
   "metadata": {},
   "outputs": [],
   "source": [
    "tallies.export_to_xml()"
   ]
  },
  {
   "cell_type": "code",
   "execution_count": null,
   "id": "3d5ed568-cafc-492d-9fd3-e3e124ac95c1",
   "metadata": {},
   "outputs": [],
   "source": [
    "# cat tallies.xml"
   ]
  },
  {
   "cell_type": "markdown",
   "id": "0e64ce0d-66e4-4463-abb7-f0df09dff881",
   "metadata": {
    "jp-MarkdownHeadingCollapsed": true
   },
   "source": [
    "## Plots"
   ]
  },
  {
   "cell_type": "markdown",
   "id": "941499fb-fa13-4e79-9735-5b0eb8cf2db5",
   "metadata": {},
   "source": [
    "**Paso 5: Configuración del archivo de plots** <br>\n",
    "En este quinto apartado __*plots*__ se define la configuración de los plots."
   ]
  },
  {
   "cell_type": "code",
   "execution_count": null,
   "id": "045158ca-352b-4738-8bf1-28dafc290ae4",
   "metadata": {},
   "outputs": [],
   "source": [
    "# Núcleo completo\n",
    "plot_fc = openmc.Plot()\n",
    "plot_fc.filename = 'sfr_core_full'   # Nombre de la imagen que se genera\n",
    "plot_fc.origin = (0, 0, 0)      # Origen de la imagen\n",
    "plot_fc.width = (750, 750)      # Tamaño de la imagen\n",
    "plot_fc.pixels = (2500, 2500)   # Tamaño en pixeles de la imagen\n",
    "plot_fc.color_by = 'material'\n",
    "plot_fc.colors = {inner: 'white', outer: 'yellow', helium: 'palegreen', sodium: 'lightblue', acero_ht9: 'gray', \n",
    "                      acero_em10: 'gray', clad: 'gray', yi3: 'gold', tc99:'lightseagreen', vasija: 'steelblue'}"
   ]
  },
  {
   "cell_type": "code",
   "execution_count": null,
   "id": "c05e11e6-abfc-4415-84d5-cf978889d0b1",
   "metadata": {},
   "outputs": [],
   "source": [
    "# Núcleo completo\n",
    "plot_fc_d = openmc.Plot()\n",
    "plot_fc_d.filename = 'sfr_core_detail'   # Nombre de la imagen que se genera\n",
    "plot_fc_d.origin = (0, 0, 0)      # Origen de la imagen\n",
    "plot_fc_d.width = (200, 200)      # Tamaño de la imagen\n",
    "plot_fc_d.pixels = (2500, 2500)   # Tamaño en pixeles de la imagen\n",
    "plot_fc_d.color_by = 'material'\n",
    "plot_fc_d.colors = {inner: 'white', outer: 'yellow', helium: 'palegreen', sodium: 'lightblue', acero_ht9: 'gray', \n",
    "                      acero_em10: 'gray', clad: 'gray', yi3: 'gold', tc99:'lightseagreen', vasija: 'steelblue'}"
   ]
  },
  {
   "cell_type": "code",
   "execution_count": null,
   "id": "7ed30b96-7d31-4fed-aada-6b46c553b5a6",
   "metadata": {},
   "outputs": [],
   "source": [
    "# Cuarto de núcleo\n",
    "plot_qc = openmc.Plot()\n",
    "plot_qc.filename = 'sfr_core_allass'   # Nombre de la imagen que se genera\n",
    "plot_qc.origin = (175, 175, 0)     # Origen de la imagen\n",
    "plot_qc.width = (230, 230)         # Tamaño de la imagen\n",
    "plot_qc.pixels = (2500, 2500)      # Tamaño en pixeles de la imagen\n",
    "plot_qc.color_by = 'material'\n",
    "plot_qc.colors = {inner: 'white', outer: 'yellow', helium: 'palegreen', sodium: 'lightblue', acero_ht9: 'gray', \n",
    "                      acero_em10: 'gray', clad: 'gray', yi3: 'gold', tc99:'lightseagreen', vasija: 'steelblue'}"
   ]
  },
  {
   "cell_type": "code",
   "execution_count": null,
   "id": "ae24a50c-7778-4c6c-aa4a-5439245fa90f",
   "metadata": {},
   "outputs": [],
   "source": [
    "# Elemento combustible\n",
    "plot_fa = openmc.Plot()\n",
    "plot_fa.filename = 'sfr_assembly'  # Nombre de la imagen que se genera\n",
    "plot_fa.origin = (18.5, 10.6, 0)         # Origen de la imagen\n",
    "plot_fa.width = (24, 24)     # Tamaño de la imagen\n",
    "plot_fa.pixels = (2500, 2500)      # Tamaño en pixeles de la imagen\n",
    "plot_fa.color_by = 'material'\n",
    "plot_fa.colors = {inner: 'white', outer: 'yellow', helium: 'palegreen', sodium: 'lightblue', acero_ht9: 'gray', \n",
    "                      acero_em10: 'gray', clad: 'gray', yi3: 'gold', tc99:'lightseagreen', vasija: 'steelblue'}"
   ]
  },
  {
   "cell_type": "code",
   "execution_count": null,
   "id": "04a3b67d-8dea-4167-a3d8-85f1d96fc150",
   "metadata": {},
   "outputs": [],
   "source": [
    "# Elemento combustible con productos de fisión\n",
    "plot_fafp = openmc.Plot()\n",
    "plot_fafp.filename = 'sfr_assembly_fp'  # Nombre de la imagen que se genera\n",
    "plot_fafp.origin = (37, 0, 0)         # Origen de la imagen\n",
    "plot_fafp.width = (24, 24)     # Tamaño de la imagen\n",
    "plot_fafp.pixels = (2500, 2500)      # Tamaño en pixeles de la imagen\n",
    "plot_fafp.color_by = 'material'\n",
    "plot_fafp.colors = {inner: 'white', outer: 'yellow', helium: 'palegreen', sodium: 'lightblue', acero_ht9: 'gray', \n",
    "                      acero_em10: 'gray', clad: 'gray', yi3: 'gold', tc99:'lightseagreen', vasija: 'steelblue'}"
   ]
  },
  {
   "cell_type": "code",
   "execution_count": null,
   "id": "68bf30b5-552e-4ba9-80bd-010796c5dfbb",
   "metadata": {},
   "outputs": [],
   "source": [
    "# Varilla de combustible\n",
    "plot_fp = openmc.Plot()\n",
    "plot_fp.filename = 'sfr_fuelpin'       # Nombre de la imagen que se genera\n",
    "plot_fp.origin = (18.5, 10.6, 0)   # Origen de la imagen\n",
    "plot_fp.width = (1.5, 1.5)             # Tamaño de la imagen\n",
    "plot_fp.pixels = (2500, 2500)        # Tamaño en pixeles de la imagen\n",
    "plot_fp.color_by = 'material'\n",
    "plot_fp.colors = {inner: 'white', outer: 'yellow', helium: 'palegreen', sodium: 'lightblue', acero_ht9: 'gray', \n",
    "                      acero_em10: 'gray', clad: 'gray', yi3: 'gold', tc99:'lightseagreen', vasija: 'steelblue'}"
   ]
  },
  {
   "cell_type": "code",
   "execution_count": null,
   "id": "50e862b4-3967-4b41-a5ef-09436dd5edca",
   "metadata": {},
   "outputs": [],
   "source": [
    "plots = openmc.Plots([plot_fc, plot_fa, plot_qc, plot_fp, plot_fafp, plot_fc_d])\n",
    "plots.export_to_xml()"
   ]
  },
  {
   "cell_type": "markdown",
   "id": "2a7df2af-d759-4acd-b514-cc2eefdea5ec",
   "metadata": {},
   "source": [
    "Por último, se ejecuta **OpenMC** en modo *plot*. (El \"%%capture\" es para que la celda del jupyter no muestre ninguna salida)"
   ]
  },
  {
   "cell_type": "code",
   "execution_count": null,
   "id": "39114029-4af7-4c14-91f5-af24d99d1a45",
   "metadata": {},
   "outputs": [],
   "source": [
    "%%capture\n",
    "openmc.plot_geometry()"
   ]
  },
  {
   "cell_type": "markdown",
   "id": "e8a7c99c-0019-4bf0-99c8-15e496834cca",
   "metadata": {},
   "source": [
    "Se convierten las imágenes a *.jpg*:"
   ]
  },
  {
   "cell_type": "code",
   "execution_count": null,
   "id": "0bb08474-5874-4e31-9e58-4a18e966ee4a",
   "metadata": {},
   "outputs": [],
   "source": [
    "im = Image_ppm.open(\"sfr_core_full.ppm\")\n",
    "im.save(ruta + \"/imagenes/sfr_core_full.jpg\")"
   ]
  },
  {
   "cell_type": "code",
   "execution_count": null,
   "id": "425facd5-3450-46dd-a23e-625896c15a68",
   "metadata": {},
   "outputs": [],
   "source": [
    "im = Image_ppm.open(\"sfr_core_detail.ppm\")\n",
    "im.save(ruta + \"/imagenes/sfr_core_detail.jpg\")"
   ]
  },
  {
   "cell_type": "code",
   "execution_count": null,
   "id": "01103922-50e0-4eac-b7c4-2c65cfaacddf",
   "metadata": {},
   "outputs": [],
   "source": [
    "im = Image_ppm.open(\"sfr_core_allass.ppm\")\n",
    "im.save(ruta + \"/imagenes/sfr_core_allass.jpg\")"
   ]
  },
  {
   "cell_type": "code",
   "execution_count": null,
   "id": "ef293597-746a-4414-ad3d-2da775ac28ee",
   "metadata": {},
   "outputs": [],
   "source": [
    "im = Image_ppm.open(\"sfr_assembly.ppm\")\n",
    "im.save(ruta + \"/imagenes/sfr_assembly.jpg\")"
   ]
  },
  {
   "cell_type": "code",
   "execution_count": null,
   "id": "43ff8712-4fb5-4073-96db-0601463df4ff",
   "metadata": {},
   "outputs": [],
   "source": [
    "im = Image_ppm.open(\"sfr_assembly_fp.ppm\")\n",
    "im.save(ruta + \"/imagenes/sfr_assembly_fp.jpg\")"
   ]
  },
  {
   "cell_type": "code",
   "execution_count": null,
   "id": "adc9af54-caf0-4ccc-8c65-9b6ad8cec82a",
   "metadata": {},
   "outputs": [],
   "source": [
    "im = Image_ppm.open(\"sfr_fuelpin.ppm\")\n",
    "im.save(ruta + \"/imagenes/sfr_fuelpin.jpg\")"
   ]
  },
  {
   "cell_type": "markdown",
   "id": "246cbe20-2114-4fe8-a0e1-83ddd4cf0c5d",
   "metadata": {},
   "source": [
    "Se eliminan las imágenes *.ppm*:"
   ]
  },
  {
   "cell_type": "code",
   "execution_count": null,
   "id": "5a459b2f-8c9f-4176-a1bc-cb470b4c4dca",
   "metadata": {},
   "outputs": [],
   "source": [
    "os.remove(\"sfr_core_full.ppm\")\n",
    "os.remove(\"sfr_core_detail.ppm\")\n",
    "os.remove(\"sfr_core_allass.ppm\")\n",
    "os.remove(\"sfr_assembly.ppm\")\n",
    "os.remove(\"sfr_assembly_fp.ppm\")\n",
    "os.remove(\"sfr_fuelpin.ppm\")"
   ]
  },
  {
   "cell_type": "markdown",
   "id": "645c41d7-b364-468b-b528-28322efe0c5a",
   "metadata": {},
   "source": [
    "Se muestran las imágenes:"
   ]
  },
  {
   "cell_type": "code",
   "execution_count": null,
   "id": "1d9defbe-1413-428f-a1ca-9a4864414410",
   "metadata": {},
   "outputs": [],
   "source": [
    "display(Image(filename=ruta + \"/imagenes/sfr_core_full.jpg\"))"
   ]
  },
  {
   "cell_type": "code",
   "execution_count": null,
   "id": "8b7d864f-42c6-4813-845b-16b855020e38",
   "metadata": {},
   "outputs": [],
   "source": [
    "display(Image(filename=ruta + \"/imagenes/sfr_core_detail.jpg\"))"
   ]
  },
  {
   "cell_type": "code",
   "execution_count": null,
   "id": "f5649b65-0177-40d4-a5fc-3d3800939298",
   "metadata": {},
   "outputs": [],
   "source": [
    "display(Image(filename=ruta + \"/imagenes/sfr_core_allass.jpg\"))"
   ]
  },
  {
   "cell_type": "code",
   "execution_count": null,
   "id": "8da2abb5-a749-4a7d-9208-3d1e59e113de",
   "metadata": {},
   "outputs": [],
   "source": [
    "display(Image(filename=ruta + \"/imagenes/sfr_assembly.jpg\"))"
   ]
  },
  {
   "cell_type": "code",
   "execution_count": null,
   "id": "7f1681ff-78e6-4fc9-b737-6c9bd409abf2",
   "metadata": {},
   "outputs": [],
   "source": [
    "display(Image(filename=ruta + \"/imagenes/sfr_assembly_fp.jpg\"))"
   ]
  },
  {
   "cell_type": "code",
   "execution_count": null,
   "id": "349c8ef6-7e02-4142-9a91-ad0fb296fd02",
   "metadata": {},
   "outputs": [],
   "source": [
    "display(Image(filename=ruta + \"/imagenes/sfr_fuelpin.jpg\"))"
   ]
  },
  {
   "cell_type": "markdown",
   "id": "1a8d78ac-2ec9-4851-aa8b-db1ab5d757d3",
   "metadata": {
    "jp-MarkdownHeadingCollapsed": true
   },
   "source": [
    "## Run"
   ]
  },
  {
   "cell_type": "markdown",
   "id": "0c400808-8231-4e79-a043-592efa8e9b93",
   "metadata": {},
   "source": [
    "Se ejecuta la simulación:"
   ]
  },
  {
   "cell_type": "code",
   "execution_count": null,
   "id": "a0448d8e-5996-4c27-9344-72e9e371bd7c",
   "metadata": {
    "scrolled": true
   },
   "outputs": [],
   "source": [
    "# openmc.run()"
   ]
  },
  {
   "cell_type": "markdown",
   "id": "fb3b0842-f2b3-4077-af42-48b95d2e6552",
   "metadata": {},
   "source": [
    "En caso de fallo, se puede comprobar la geometría ejecutando:"
   ]
  },
  {
   "cell_type": "code",
   "execution_count": null,
   "id": "95695cc8-f8d2-454e-b08d-efcb2fa44e25",
   "metadata": {
    "scrolled": true
   },
   "outputs": [],
   "source": [
    "# openmc.run(geometry_debug=True)"
   ]
  },
  {
   "cell_type": "markdown",
   "id": "94e4c440-a5cd-438f-a7f7-0af6dd0a2d04",
   "metadata": {
    "jp-MarkdownHeadingCollapsed": true
   },
   "source": [
    "## Depletion"
   ]
  },
  {
   "cell_type": "markdown",
   "id": "270caa42-43e8-4be4-9c2e-34f9271d84cd",
   "metadata": {},
   "source": [
    "**Cálculo de quemado de combustible**"
   ]
  },
  {
   "cell_type": "markdown",
   "id": "5d004d0e-2b4d-4d2d-af25-db8c3f08e95a",
   "metadata": {},
   "source": [
    "Para poder llevar a cabo la simulación del Depletion, es necesario proporcionar el volumen total de combustible.<br>\n",
    "Este es un paso clave en la simulación ya que afecta directamente al quemado del combustible."
   ]
  },
  {
   "cell_type": "code",
   "execution_count": null,
   "id": "46967005-05ea-430f-a293-b82e72425b89",
   "metadata": {},
   "outputs": [],
   "source": [
    "inner.volume = math.pi * (combustible_r) ** 2 * altura_nucleo * (217 * n_ec_interiores - ((n_varillas_tc99 + n_varillas_yi3) * n_ec_pf))"
   ]
  },
  {
   "cell_type": "code",
   "execution_count": null,
   "id": "7ce3af2c-14e0-4b62-aeeb-73eeb81111ad",
   "metadata": {},
   "outputs": [],
   "source": [
    "outer.volume = math.pi * (combustible_r) ** 2 * altura_nucleo * 217 * n_ec_exteriores"
   ]
  },
  {
   "cell_type": "code",
   "execution_count": null,
   "id": "b582cd90-3ae3-46fd-b20f-0a46b50b2cc9",
   "metadata": {},
   "outputs": [],
   "source": [
    "tc99.volume = math.pi * (combustible_r) ** 2 * altura_nucleo * n_varillas_tc99 * n_ec_pf"
   ]
  },
  {
   "cell_type": "code",
   "execution_count": null,
   "id": "2620e1e7-0bf6-4d40-bf87-8074dcdaa31f",
   "metadata": {},
   "outputs": [],
   "source": [
    "yi3.volume = math.pi * (combustible_r) ** 2 * altura_nucleo * n_varillas_yi3 * n_ec_pf"
   ]
  },
  {
   "cell_type": "markdown",
   "id": "b3cb3796-1643-4bc8-8a74-80f6e3e0b7d0",
   "metadata": {},
   "source": [
    "La ejecución de la simulación se realiza mediante __*openmc.deplete*__"
   ]
  },
  {
   "cell_type": "markdown",
   "id": "46ccd97e-5e37-4be0-97a3-de167e34c2ac",
   "metadata": {},
   "source": [
    "Es necesario aportar la cadena de desintegración, en este caso se usa la librería **ENDF/B-VII.1** para **espectro rápido**:"
   ]
  },
  {
   "cell_type": "code",
   "execution_count": null,
   "id": "07cf7b85-d264-4879-8890-a5a351ffc4d2",
   "metadata": {},
   "outputs": [],
   "source": [
    "chain = openmc.deplete.Chain.from_xml(\"./../../openmc/Cross_Section_Libraries/endfb71_hdf5/chain_endfb71_sfr.xml\")"
   ]
  },
  {
   "cell_type": "markdown",
   "id": "6f8f9016-e7eb-4d72-9eeb-f5ebc9d22543",
   "metadata": {},
   "source": [
    "El primer paso es crear el *Operator* a partir de la geometría y la configuración (los materiales se leen automáticamente)."
   ]
  },
  {
   "cell_type": "code",
   "execution_count": null,
   "id": "c6499767-84a0-4637-861b-1e9fd47c4d72",
   "metadata": {},
   "outputs": [],
   "source": [
    "model = openmc.Model(geometry=geometry, settings=settings)\n",
    "operator = openmc.deplete.CoupledOperator(model, \"./../../openmc/Cross_Section_Libraries/endfb71_hdf5/chain_endfb71_sfr.xml\")"
   ]
  },
  {
   "cell_type": "markdown",
   "id": "dfaa161f-4219-4acd-a1af-2f1cebb049ea",
   "metadata": {},
   "source": [
    "Se define el nombre de la carpeta en la que se almacenan los archivos generados durante la simulación"
   ]
  },
  {
   "cell_type": "code",
   "execution_count": null,
   "id": "d73557a3-4d4f-4ba9-8ab7-72737e9f27f7",
   "metadata": {},
   "outputs": [],
   "source": [
    "operator.output_dir= ruta"
   ]
  },
  {
   "cell_type": "markdown",
   "id": "b214b10d-13e9-4336-ab74-2e5d0a3b3702",
   "metadata": {},
   "source": [
    "Se define la potencia de la celda de combustible en *W*. Para un reactor de este tipo, se definen 1000 MWe"
   ]
  },
  {
   "cell_type": "code",
   "execution_count": null,
   "id": "30ae19ef-b0de-43f3-8ac9-7170f17be4db",
   "metadata": {},
   "outputs": [],
   "source": [
    "power = 1200e6"
   ]
  },
  {
   "cell_type": "markdown",
   "id": "5d9b65d7-3106-42b3-a860-73abb18bb049",
   "metadata": {},
   "source": [
    "Se definen los pasos de la simulación, en este caso se va a simular el reactor en pasos de 30 días y durante 4 años y medio (54 meses)"
   ]
  },
  {
   "cell_type": "code",
   "execution_count": null,
   "id": "8fe05e90-da7e-4671-8bf7-f7412530c1c8",
   "metadata": {},
   "outputs": [],
   "source": [
    "n_pasos = 30"
   ]
  },
  {
   "cell_type": "code",
   "execution_count": null,
   "id": "fc8ea60b-4b81-4dd5-8728-fa90f35de699",
   "metadata": {},
   "outputs": [],
   "source": [
    "n_repeticion_pasos = 54"
   ]
  },
  {
   "cell_type": "code",
   "execution_count": null,
   "id": "0e4ec0a0-4d2e-4775-87db-320537fe0dbc",
   "metadata": {},
   "outputs": [],
   "source": [
    "time_steps = [n_pasos] * n_repeticion_pasos"
   ]
  },
  {
   "cell_type": "markdown",
   "id": "4cf24195-c0d5-4e91-910b-9b63b10d1f69",
   "metadata": {},
   "source": [
    "Se ejecuta la simulación:"
   ]
  },
  {
   "cell_type": "code",
   "execution_count": null,
   "id": "f0cdcbb8-e144-4595-8616-3419abad34c7",
   "metadata": {},
   "outputs": [],
   "source": [
    "integrator = openmc.deplete.PredictorIntegrator(operator, time_steps, power, timestep_units='d')"
   ]
  },
  {
   "cell_type": "code",
   "execution_count": null,
   "id": "90a62913-d1e7-45ea-8f03-c70ad1e0f029",
   "metadata": {
    "scrolled": true
   },
   "outputs": [],
   "source": [
    "integrator.integrate()"
   ]
  },
  {
   "cell_type": "markdown",
   "id": "8451b278-b591-46d9-9e28-012aa7a4cd24",
   "metadata": {
    "jp-MarkdownHeadingCollapsed": true
   },
   "source": [
    "## Resultados"
   ]
  },
  {
   "cell_type": "code",
   "execution_count": null,
   "id": "05f6ba65-60a4-4222-bd1d-2627db9a4555",
   "metadata": {},
   "outputs": [],
   "source": [
    "ruta = './build_100k'"
   ]
  },
  {
   "cell_type": "code",
   "execution_count": null,
   "id": "4c01b32d-f066-484c-a615-a19c63f223ca",
   "metadata": {},
   "outputs": [],
   "source": [
    "import openmc\n",
    "import openmc.deplete\n",
    "import math\n",
    "import os\n",
    "import numpy as np\n",
    "from matplotlib import pyplot\n",
    "from PIL import Image as Image_ppm # Para convertir la imagen .ppm en .jpg\n",
    "from IPython.display import Image, display # Para mostrar la imagen .jpg"
   ]
  },
  {
   "cell_type": "code",
   "execution_count": null,
   "id": "afe987db-4b5b-4cbc-a697-e622685e1a3d",
   "metadata": {},
   "outputs": [],
   "source": [
    "n_repeticion_pasos = 54"
   ]
  },
  {
   "cell_type": "markdown",
   "id": "749e0b67-f17e-4878-b847-6681db9c786c",
   "metadata": {},
   "source": [
    "### 0 - Importación de resultados desde el archivo"
   ]
  },
  {
   "cell_type": "markdown",
   "id": "e879754e-1ae3-4dcd-bbca-7c68b8dca9e6",
   "metadata": {},
   "source": [
    "Se importan los resultados desde el archivo creado."
   ]
  },
  {
   "cell_type": "code",
   "execution_count": null,
   "id": "a3d5042f-b386-4c33-8774-fba819ab2149",
   "metadata": {},
   "outputs": [],
   "source": [
    "results = openmc.deplete.Results(ruta + \"/depletion_results.h5\")"
   ]
  },
  {
   "cell_type": "markdown",
   "id": "d9c78d22-489a-42cb-ac30-3d39545ad107",
   "metadata": {},
   "source": [
    "Se obtiene la *k efectiva*."
   ]
  },
  {
   "cell_type": "code",
   "execution_count": null,
   "id": "6f4989b0-3a2a-4bc9-985e-12f845ea5e3a",
   "metadata": {},
   "outputs": [],
   "source": [
    "time, k = results.get_keff()"
   ]
  },
  {
   "cell_type": "markdown",
   "id": "ceb3b989-a81c-4191-ad86-70bfd07eda70",
   "metadata": {},
   "source": [
    "Se convierten las unidades de tiempo (de segundos a días)."
   ]
  },
  {
   "cell_type": "code",
   "execution_count": null,
   "id": "8b5553e6-6a48-4ef2-995d-00bb2d4c0e9c",
   "metadata": {},
   "outputs": [],
   "source": [
    "time /= (24 * 60 * 60)"
   ]
  },
  {
   "cell_type": "code",
   "execution_count": null,
   "id": "c6106108-8f7c-4a94-ac40-cea9b925eeb2",
   "metadata": {},
   "outputs": [],
   "source": [
    "inner_ID = \"15\"\n",
    "outer_ID = \"16\"\n",
    "tc99_ID = \"7\"\n",
    "yi3_ID = \"8\""
   ]
  },
  {
   "cell_type": "markdown",
   "id": "58ab6bf2-efd7-4406-98e5-f2d32b0dc0d4",
   "metadata": {},
   "source": [
    "### 1 - Resultados generales"
   ]
  },
  {
   "cell_type": "code",
   "execution_count": null,
   "id": "fccc4909-ddd1-494d-aec3-1165f30fc06c",
   "metadata": {},
   "outputs": [],
   "source": [
    "pyplot.errorbar(time, k[:, 0], yerr=k[:, 1], color='steelblue')\n",
    "pyplot.ylim(0.95, 1.05)\n",
    "pyplot.xlabel(\"Tiempo [días]\")\n",
    "pyplot.ylabel(\"$k_{eff}\\pm \\sigma$\")\n",
    "pyplot.savefig(ruta + \"/imagenes/01_keff.png\")"
   ]
  },
  {
   "cell_type": "code",
   "execution_count": null,
   "id": "519a6726-40bb-4f2d-b71b-d915ed1d5f0c",
   "metadata": {},
   "outputs": [],
   "source": [
    "_, u235_fission1 = results.get_reaction_rate(inner_ID, \"U235\", \"fission\")\n",
    "_, u235_fission2 = results.get_reaction_rate(outer_ID, \"U235\", \"fission\")\n",
    "_, u238_fission1 = results.get_reaction_rate(inner_ID, \"U238\", \"fission\")\n",
    "_, u238_fission2 = results.get_reaction_rate(outer_ID, \"U238\", \"fission\")\n",
    "_, pu239_fission1 = results.get_reaction_rate(inner_ID, \"Pu239\", \"fission\")\n",
    "_, pu239_fission2 = results.get_reaction_rate(outer_ID, \"Pu239\", \"fission\")\n",
    "_, pu240_fission1 = results.get_reaction_rate(inner_ID, \"Pu240\", \"fission\")\n",
    "_, pu240_fission2 = results.get_reaction_rate(outer_ID, \"Pu240\", \"fission\")\n",
    "_, pu241_fission1 = results.get_reaction_rate(inner_ID, \"Pu241\", \"fission\")\n",
    "_, pu241_fission2 = results.get_reaction_rate(outer_ID, \"Pu241\", \"fission\")\n",
    "\n",
    "t_fission235 = u235_fission1 + u235_fission2\n",
    "t_fission238 = u238_fission1 + u238_fission2\n",
    "t_fission239 = pu239_fission1 + pu239_fission2\n",
    "t_fission240 = pu240_fission1 + pu240_fission2\n",
    "t_fission241 = pu241_fission1 + pu241_fission2"
   ]
  },
  {
   "cell_type": "code",
   "execution_count": null,
   "id": "9be701e5-3e18-4df8-a9e2-cee66cebb0e0",
   "metadata": {},
   "outputs": [],
   "source": [
    "pyplot.plot(time, u235_fission1, label = \"U235\")\n",
    "# pyplot.plot(time, u238_fission1, label = \"U238\")\n",
    "pyplot.plot(time, pu239_fission1, label = \"Pu239\")\n",
    "# pyplot.plot(time, pu240_fission1, label = \"Pu240\")\n",
    "pyplot.plot(time, pu241_fission1, label = \"Pu241\")\n",
    "pyplot.xlabel(\"Tiempo [d]\")\n",
    "pyplot.ylabel(\"Fisiones / s\");\n",
    "pyplot.legend(loc=\"upper left\")\n",
    "pyplot.show()"
   ]
  },
  {
   "cell_type": "code",
   "execution_count": null,
   "id": "54afe6c3-06e5-4bba-bb17-d89c38f5e279",
   "metadata": {},
   "outputs": [],
   "source": [
    "pyplot.plot(time, u235_fission2, label = \"U235\")\n",
    "pyplot.plot(time, u238_fission2, label = \"U238\")\n",
    "pyplot.plot(time, pu239_fission2, label = \"Pu239\")\n",
    "pyplot.plot(time, pu240_fission2, label = \"Pu240\")\n",
    "pyplot.plot(time, pu241_fission2, label = \"Pu241\")\n",
    "pyplot.xlabel(\"Tiempo [d]\")\n",
    "pyplot.ylabel(\"Fisiones / s\");\n",
    "pyplot.legend(loc=\"upper right\")\n",
    "pyplot.show()"
   ]
  },
  {
   "cell_type": "code",
   "execution_count": null,
   "id": "4270e877-07bb-47c8-a9b3-206580487f02",
   "metadata": {},
   "outputs": [],
   "source": [
    "pyplot.plot(time, t_fission235, label = \"U235\")\n",
    "# pyplot.plot(time, t_fission238, label = \"U238\")\n",
    "pyplot.plot(time, t_fission239, label = \"Pu239\")\n",
    "# pyplot.plot(time, t_fission240, label = \"Pu240\")\n",
    "pyplot.plot(time, t_fission241, label = \"Pu241\")\n",
    "pyplot.xlabel(\"Tiempo [días]\")\n",
    "pyplot.ylabel(\"Fisiones / s\")\n",
    "pyplot.legend(loc=\"center right\")\n",
    "pyplot.savefig(ruta + \"/imagenes/02_fisiones.png\")\n",
    "pyplot.show()"
   ]
  },
  {
   "cell_type": "code",
   "execution_count": null,
   "id": "47677394-9d29-4205-ab24-3900e4d1d023",
   "metadata": {},
   "outputs": [],
   "source": [
    "_, xe135_1 = results.get_atoms(inner_ID, \"Xe135\")\n",
    "_, xe135_2 = results.get_atoms(outer_ID, \"Xe135\")\n",
    "xe135 = xe135_1 + xe135_2"
   ]
  },
  {
   "cell_type": "code",
   "execution_count": null,
   "id": "8eafe512-863a-4ee5-aa0d-cdc32f75931e",
   "metadata": {},
   "outputs": [],
   "source": [
    "pyplot.plot(time, xe135, label=\"Xe135\", color='steelblue')\n",
    "pyplot.xlabel(\"Tiempo [días]\")\n",
    "pyplot.ylabel(\"Número de átomos - Xe135\")\n",
    "pyplot.legend(loc=\"lower right\")\n",
    "pyplot.savefig(ruta + \"/imagenes/03_xenon.png\")"
   ]
  },
  {
   "cell_type": "code",
   "execution_count": null,
   "id": "8d2e4b6e-90ab-481f-97da-5530a288e358",
   "metadata": {},
   "outputs": [],
   "source": [
    "_, actividad_1 = results.get_activity(inner_ID, 'Bq/cm3', False)\n",
    "_, actividad_2 = results.get_activity(outer_ID, 'Bq/cm3', False)\n",
    "actividad_t = actividad_1 + actividad_2"
   ]
  },
  {
   "cell_type": "code",
   "execution_count": null,
   "id": "f06f8583-a917-46af-aaff-f34a582d8398",
   "metadata": {},
   "outputs": [],
   "source": [
    "pyplot.plot(time, actividad_1, label='Interior', color='silver')\n",
    "pyplot.plot(time, actividad_2, label='Exterior', color='gold')\n",
    "pyplot.legend(loc=\"lower right\")\n",
    "pyplot.xlabel(\"Tiempo [días]\")\n",
    "pyplot.ylabel(\"Actividad [Bq/cm3]\")\n",
    "pyplot.savefig(ruta + \"/imagenes/04_actividad.png\")"
   ]
  },
  {
   "cell_type": "markdown",
   "id": "31974419-7b0c-4bd1-8818-6825fbc2fee8",
   "metadata": {
    "jp-MarkdownHeadingCollapsed": true
   },
   "source": [
    "#### Espectro neutrónico"
   ]
  },
  {
   "cell_type": "raw",
   "id": "6a8361f9-26fd-43af-b689-0902561993dd",
   "metadata": {},
   "source": [
    "sp = openmc.StatePoint(\"statepoint.50.h5\")"
   ]
  },
  {
   "cell_type": "raw",
   "id": "3dc1ba6a-ce0b-429a-bdf6-4cbac84a8db1",
   "metadata": {},
   "source": [
    "t = sp.tallies[tallyflux.id]\n",
    "flux500_mean = t.mean.ravel()\n",
    "flux500_unc = t.std_dev.ravel() \n",
    "\n",
    "t_shem = sp.tallies[tally_shem.id]\n",
    "flux_shem_mean = t_shem.mean.ravel()\n",
    "flux_shem_unc = t_shem.std_dev.ravel()"
   ]
  },
  {
   "cell_type": "raw",
   "id": "92452039-a34e-4ff8-abff-ce73d8407a1d",
   "metadata": {},
   "source": [
    "fig, ax = pyplot.subplots()\n",
    "ax.plot(energies[:-1], flux500_mean, '.', color='C0', label='500 group')\n",
    "ax.plot(energies_shem[:-1], flux_shem_mean, '.', color='C1', label='SHEM-361')\n",
    "ax.set_xlabel('Energy [eV]')\n",
    "ax.set_ylabel('Flux [n-cm/src]')\n",
    "ax.set_ylim([0, 2])\n",
    "ax.set_xscale('log')\n",
    "ax.grid()\n",
    "ax.legend()"
   ]
  },
  {
   "cell_type": "markdown",
   "id": "ac715ed3-4842-4ad2-ae07-354fdb552fbc",
   "metadata": {},
   "source": [
    "### 2 - Resultados por nucleido"
   ]
  },
  {
   "cell_type": "markdown",
   "id": "ceed74e1-2f56-4a54-b3f2-d9bea2484ff8",
   "metadata": {},
   "source": [
    "#### U235"
   ]
  },
  {
   "cell_type": "code",
   "execution_count": null,
   "id": "def2f0a0-f0ca-4f26-9bca-97c21873590f",
   "metadata": {
    "scrolled": true
   },
   "outputs": [],
   "source": [
    "# Se obtienen las masas de cada material (tipo de combustible) y se suman\n",
    "_, m_u235_1 = results.get_mass(inner_ID, \"U235\")\n",
    "_, m_u235_2 = results.get_mass(outer_ID, \"U235\")\n",
    "m_u235 = m_u235_1 + m_u235_2\n",
    "\n",
    "# Se calcula la producción de U235 en toneladas (en este caso, saldrá negativa ya que se consume)\n",
    "p_u235 = (m_u235[n_repeticion_pasos] - m_u235[0])/1000\n",
    "p_u235 # kg"
   ]
  },
  {
   "cell_type": "code",
   "execution_count": null,
   "id": "b419acde-54a5-4be7-be64-e68bd0bce50e",
   "metadata": {},
   "outputs": [],
   "source": [
    "# pyplot.plot(time, m_u235/1000, label=\"Total\")\n",
    "pyplot.plot(time, m_u235_1/1000, label=\"Interior\", color='silver')\n",
    "pyplot.plot(time, m_u235_2/1000, label=\"Exterior\", color='gold')\n",
    "pyplot.xlabel(\"Tiempo [días]\")\n",
    "pyplot.ylabel(\"Masa $^{235}U$ (kg)\")\n",
    "pyplot.legend(loc=\"upper right\")\n",
    "pyplot.savefig(ruta + \"/imagenes/05_u235.png\")\n",
    "pyplot.show()"
   ]
  },
  {
   "cell_type": "markdown",
   "id": "fb8b70d2-f6b7-400d-aba4-1c2d2b3c1f11",
   "metadata": {},
   "source": [
    "#### U238"
   ]
  },
  {
   "cell_type": "code",
   "execution_count": null,
   "id": "360b46d3-49f2-4c9f-b30f-1fc12eee0cbb",
   "metadata": {},
   "outputs": [],
   "source": [
    "_, m_u238_1 = results.get_mass(inner_ID, \"U238\")\n",
    "_, m_u238_2 = results.get_mass(outer_ID, \"U238\")\n",
    "m_u238 = m_u238_1 + m_u238_2\n",
    "\n",
    "# Se calcula la producción de U238 en toneladas (en este caso, saldrá negativa ya que se consume)\n",
    "p_u238 = (m_u238[n_repeticion_pasos] - m_u238[0])/1000\n",
    "p_u238 # kg"
   ]
  },
  {
   "cell_type": "code",
   "execution_count": null,
   "id": "cc8cda0b-96c1-4b28-8748-5bd798bd79b3",
   "metadata": {},
   "outputs": [],
   "source": [
    "pyplot.plot(time, m_u238_1/1000, label=\"Interior\", color='silver')\n",
    "pyplot.plot(time, m_u238_2/1000, label=\"Exterior\", color='gold')\n",
    "pyplot.xlabel(\"Tiempo [días]\")\n",
    "pyplot.ylabel(\"Masa $^{238}U$ (kg)\")\n",
    "pyplot.legend(loc=\"upper right\")\n",
    "pyplot.savefig(ruta + \"/imagenes/06_u238.png\")"
   ]
  },
  {
   "cell_type": "markdown",
   "id": "55218c18-de9b-43f3-8984-ba1be1e2e429",
   "metadata": {},
   "source": [
    "#### Pu"
   ]
  },
  {
   "cell_type": "code",
   "execution_count": null,
   "id": "f1c96375-4393-420c-bbd9-fcfad234d329",
   "metadata": {},
   "outputs": [],
   "source": [
    "_, m_pu238_1 = results.get_mass(inner_ID, \"Pu238\")\n",
    "_, m_pu238_2 = results.get_mass(outer_ID, \"Pu238\")\n",
    "m_pu238 = m_pu238_1 + m_pu238_2\n",
    "p_pu238 = (m_pu238[n_repeticion_pasos] - m_pu238[0])/1000\n",
    "p_pu238 # kg"
   ]
  },
  {
   "cell_type": "code",
   "execution_count": null,
   "id": "26636a3e-0b61-4ba9-a848-6a5b60abf3e8",
   "metadata": {},
   "outputs": [],
   "source": [
    "_, m_pu239_1 = results.get_mass(inner_ID, \"Pu239\")\n",
    "_, m_pu239_2 = results.get_mass(outer_ID, \"Pu239\")\n",
    "m_pu239 = m_pu239_1 + m_pu239_2\n",
    "p_pu239 = (m_pu239[n_repeticion_pasos] - m_pu239[0])/1000\n",
    "p_pu239 # kg"
   ]
  },
  {
   "cell_type": "code",
   "execution_count": null,
   "id": "2d124634-4d93-4371-b213-33e341bb43dd",
   "metadata": {},
   "outputs": [],
   "source": [
    "_, m_pu240_1 = results.get_mass(inner_ID, \"Pu240\")\n",
    "_, m_pu240_2 = results.get_mass(outer_ID, \"Pu240\")\n",
    "m_pu240 = m_pu240_1 + m_pu240_2\n",
    "p_pu240 = (m_pu240[n_repeticion_pasos] - m_pu240[0])/1000\n",
    "p_pu240 # kg"
   ]
  },
  {
   "cell_type": "code",
   "execution_count": null,
   "id": "0eb9bb86-10d7-49af-99d2-3ee6015675ff",
   "metadata": {
    "scrolled": true
   },
   "outputs": [],
   "source": [
    "_, m_pu241_1 = results.get_mass(inner_ID, \"Pu241\")\n",
    "_, m_pu241_2 = results.get_mass(outer_ID, \"Pu241\")\n",
    "m_pu241 = m_pu241_1 + m_pu241_2\n",
    "p_pu241 = (m_pu241[n_repeticion_pasos] - m_pu241[0])/1000\n",
    "p_pu241 #kg"
   ]
  },
  {
   "cell_type": "code",
   "execution_count": null,
   "id": "29f2e790-7ff6-45bb-b776-a7bd7954b1ee",
   "metadata": {},
   "outputs": [],
   "source": [
    "_, m_pu242_1 = results.get_mass(inner_ID, \"Pu242\")\n",
    "_, m_pu242_2 = results.get_mass(outer_ID, \"Pu242\")\n",
    "m_pu242 = m_pu242_1 + m_pu242_2\n",
    "p_pu242 = (m_pu242[n_repeticion_pasos] - m_pu242[0])/1000\n",
    "p_pu242 #kg"
   ]
  },
  {
   "cell_type": "code",
   "execution_count": null,
   "id": "6520cf07-16fe-4931-87f0-12f90e906d81",
   "metadata": {},
   "outputs": [],
   "source": [
    "# pyplot.plot(time, m_pu238/1000, label=\"Pu238\")\n",
    "# pyplot.plot(time, m_pu239/1000, label=\"Pu239\", color='steelblue')\n",
    "# pyplot.plot(time, m_pu240/1000, label=\"Pu240\")\n",
    "pyplot.plot(time, m_pu241/1000, label=\"Pu241\", color='steelblue')\n",
    "# pyplot.plot(time, m_pu242/1000, label=\"Pu242\")\n",
    "pyplot.xlabel(\"Tiempo [días]\")\n",
    "pyplot.ylabel(\"Masa (kg)\")\n",
    "pyplot.legend(loc=\"upper right\")\n",
    "pyplot.savefig(ruta + \"/imagenes/07_plutonio241.png\")\n",
    "pyplot.show()"
   ]
  },
  {
   "cell_type": "markdown",
   "id": "98ca1253-e82d-4569-a41e-4e6d0d1d6cdd",
   "metadata": {},
   "source": [
    "#### Np"
   ]
  },
  {
   "cell_type": "code",
   "execution_count": null,
   "id": "4b2f4f03-230d-4a74-8a01-0c086cc1668a",
   "metadata": {},
   "outputs": [],
   "source": [
    "_, m_np237_1 = results.get_mass(inner_ID, \"Np237\")\n",
    "_, m_np237_2 = results.get_mass(outer_ID, \"Np237\")\n",
    "m_np237 = m_np237_1 + m_np237_2\n",
    "p_np237 = (m_np237[n_repeticion_pasos] - m_np237[0])/1000\n",
    "p_np237 # kg"
   ]
  },
  {
   "cell_type": "code",
   "execution_count": null,
   "id": "47161b5f-8742-4271-945f-aeb079814848",
   "metadata": {},
   "outputs": [],
   "source": [
    "pyplot.plot(time, m_np237/1000, label=\"Np237\", color='steelblue')\n",
    "pyplot.xlabel(\"Tiempo [días]\")\n",
    "pyplot.ylabel(\"Masa (kg)\")\n",
    "pyplot.legend(loc=\"upper right\")\n",
    "pyplot.savefig(ruta + \"/imagenes/08_neptunio.png\")"
   ]
  },
  {
   "cell_type": "markdown",
   "id": "e8ff6aec-2040-492e-9d83-7126c2a7161d",
   "metadata": {},
   "source": [
    "#### Am"
   ]
  },
  {
   "cell_type": "code",
   "execution_count": null,
   "id": "effb3e0c-3afe-42f4-9468-f7c538dafbc2",
   "metadata": {},
   "outputs": [],
   "source": [
    "_, m_am241_1 = results.get_mass(inner_ID, \"Am241\")\n",
    "_, m_am241_2 = results.get_mass(outer_ID, \"Am241\")\n",
    "m_am241 = m_am241_1 + m_am241_2\n",
    "p_am241 = (m_am241[n_repeticion_pasos] - m_am241[0])/1000\n",
    "p_am241 #kg"
   ]
  },
  {
   "cell_type": "code",
   "execution_count": null,
   "id": "8819cc73-3f68-4ef2-a7f4-09f78632c753",
   "metadata": {},
   "outputs": [],
   "source": [
    "_, m_am243_1 = results.get_mass(inner_ID, \"Am243\")\n",
    "_, m_am243_2 = results.get_mass(outer_ID, \"Am243\")\n",
    "m_am243 = m_am243_1 + m_am243_2\n",
    "p_am243 = (m_am243[n_repeticion_pasos] - m_am243[0])/1000\n",
    "p_am243 # kg"
   ]
  },
  {
   "cell_type": "code",
   "execution_count": null,
   "id": "8124eaba-0601-4b5a-a8a9-0f1d1b2ca334",
   "metadata": {},
   "outputs": [],
   "source": [
    "pyplot.plot(time, m_am241/1000, label=\"Am241\")\n",
    "#pyplot.plot(time, m_am243/1000, label=\"Am243\")\n",
    "pyplot.xlabel(\"Tiempo [días]\")\n",
    "pyplot.ylabel(\"Masa (kg)\")\n",
    "pyplot.legend(loc=\"upper right\")\n",
    "pyplot.show()"
   ]
  },
  {
   "cell_type": "markdown",
   "id": "bbb4241d-0111-42ef-b601-97cefef3256f",
   "metadata": {},
   "source": [
    "#### Cm"
   ]
  },
  {
   "cell_type": "code",
   "execution_count": null,
   "id": "86f8d427-08c8-4785-9c0e-21b6df1b2ad8",
   "metadata": {},
   "outputs": [],
   "source": [
    "_, m_cm244_1 = results.get_mass(inner_ID, \"Cm244\")\n",
    "_, m_cm244_2 = results.get_mass(outer_ID, \"Cm244\")\n",
    "m_cm244 = m_cm244_1 + m_cm244_2\n",
    "p_cm244 = (m_cm244[n_repeticion_pasos] - m_cm244[0])/1000\n",
    "p_cm244 #kg"
   ]
  },
  {
   "cell_type": "code",
   "execution_count": null,
   "id": "e46e236b-35d0-4744-9f36-43136675ab80",
   "metadata": {},
   "outputs": [],
   "source": [
    "_, m_cm245_1 = results.get_mass(inner_ID, \"Cm245\")\n",
    "_, m_cm245_2 = results.get_mass(outer_ID, \"Cm245\")\n",
    "m_cm245 = m_cm245_1 + m_cm245_2\n",
    "p_cm245 = (m_cm245[n_repeticion_pasos] - m_cm245[0])/1000\n",
    "p_cm245 #kg"
   ]
  },
  {
   "cell_type": "code",
   "execution_count": null,
   "id": "ac62e404-9167-49c6-9e43-8d491fd54250",
   "metadata": {},
   "outputs": [],
   "source": [
    "pyplot.plot(time, m_cm244/1000, label=\"Cm244\")\n",
    "pyplot.plot(time, m_cm245/1000, label=\"Cm245\")\n",
    "pyplot.xlabel(\"Tiempo [días]\")\n",
    "pyplot.ylabel(\"Masa (kg)\")\n",
    "pyplot.legend(loc=\"upper right\")\n",
    "pyplot.show()"
   ]
  },
  {
   "cell_type": "code",
   "execution_count": null,
   "id": "2646e737-199b-4cdd-8d14-6acb1123ea82",
   "metadata": {},
   "outputs": [],
   "source": [
    "pyplot.plot(time, m_am241/1000, label=\"Am241\")\n",
    "pyplot.plot(time, m_am243/1000, label=\"Am243\")\n",
    "pyplot.plot(time, m_cm244/1000, label=\"Cm244\")\n",
    "pyplot.plot(time, m_cm245/1000, label=\"Cm245\")\n",
    "pyplot.xlabel(\"Tiempo [días]\")\n",
    "pyplot.ylabel(\"Masa (kg)\")\n",
    "pyplot.legend(loc=\"upper left\")\n",
    "pyplot.savefig(ruta + \"/imagenes/09_amecurio.png\")\n",
    "pyplot.show()"
   ]
  },
  {
   "cell_type": "markdown",
   "id": "7bf51dd8-0570-4717-b77d-8f9a99a95921",
   "metadata": {},
   "source": [
    "#### Tc-99"
   ]
  },
  {
   "cell_type": "code",
   "execution_count": null,
   "id": "70f8665e-2df7-4e27-ab1a-efd2637e76f5",
   "metadata": {},
   "outputs": [],
   "source": [
    "_, m_tc99 = results.get_mass(tc99_ID, \"Tc99\")\n",
    "p_tc99 = (m_tc99[n_repeticion_pasos] - m_tc99[0])\n",
    "p_tc99 #g"
   ]
  },
  {
   "cell_type": "code",
   "execution_count": null,
   "id": "51164e52-21ed-4966-8ae1-ac141c2f3157",
   "metadata": {},
   "outputs": [],
   "source": [
    "pyplot.plot(time, m_tc99/1000, label=\"Tc-99\")\n",
    "pyplot.xlabel(\"Tiempo [días]\")\n",
    "pyplot.ylabel(\"Masa (kg)\")\n",
    "pyplot.legend(loc=\"upper right\")\n",
    "pyplot.show()"
   ]
  },
  {
   "cell_type": "markdown",
   "id": "62293de6-83dc-4abc-bc6b-b69bce670978",
   "metadata": {},
   "source": [
    "#### I-129"
   ]
  },
  {
   "cell_type": "code",
   "execution_count": null,
   "id": "e5872904-69ca-4d5f-a2cf-e96b60639a99",
   "metadata": {},
   "outputs": [],
   "source": [
    "_, m_i129 = results.get_mass(yi3_ID, \"I129\")\n",
    "p_i129 = (m_i129[n_repeticion_pasos] - m_i129[0])\n",
    "p_i129 #g"
   ]
  },
  {
   "cell_type": "code",
   "execution_count": null,
   "id": "2e4501e7-c2c5-4623-a6cf-6518ed02b5f4",
   "metadata": {},
   "outputs": [],
   "source": [
    "pyplot.plot(time, m_i129/1000, label=\"I-129\")\n",
    "pyplot.xlabel(\"Tiempo [días]\")\n",
    "pyplot.ylabel(\"Masa (kg)\")\n",
    "pyplot.legend(loc=\"upper right\")\n",
    "pyplot.show()"
   ]
  },
  {
   "cell_type": "code",
   "execution_count": null,
   "id": "60b63397-49ec-4be4-bb82-3a5cb36072fd",
   "metadata": {},
   "outputs": [],
   "source": [
    "pyplot.plot(time, m_tc99/1000, label=\"Tc99\")\n",
    "pyplot.plot(time, m_i129/1000, label=\"I129\")\n",
    "pyplot.xlabel(\"Tiempo [días]\")\n",
    "pyplot.ylabel(\"Masa (kg)\")\n",
    "pyplot.legend(loc=\"center left\")\n",
    "pyplot.savefig(ruta + \"/imagenes/10_fps.png\")\n",
    "pyplot.show()"
   ]
  },
  {
   "cell_type": "markdown",
   "id": "20f7dd2d-bfdc-46dc-b4f7-18334c175013",
   "metadata": {},
   "source": [
    "#### I-131"
   ]
  },
  {
   "cell_type": "code",
   "execution_count": null,
   "id": "82eb6d1b-2345-4ff7-81f9-e95c9d90f2f0",
   "metadata": {},
   "outputs": [],
   "source": [
    "_, m_i131_1 = results.get_mass(inner_ID, \"I131\")\n",
    "_, m_i131_2 = results.get_mass(outer_ID, \"I131\")\n",
    "m_i131 = m_i131_1 + m_i131_2\n",
    "p_i131 = (m_i131[n_repeticion_pasos] - m_i131[0])\n",
    "p_i131 #g"
   ]
  },
  {
   "cell_type": "markdown",
   "id": "47b6071c-e932-4404-a94e-cbc20f28dae4",
   "metadata": {},
   "source": [
    "#### Cs-135"
   ]
  },
  {
   "cell_type": "code",
   "execution_count": null,
   "id": "0fae9bba-acf9-4b25-809d-70ea4000201a",
   "metadata": {},
   "outputs": [],
   "source": [
    "_, m_cs135_1 = results.get_mass(inner_ID, \"Cs135\")\n",
    "_, m_cs135_2 = results.get_mass(outer_ID, \"Cs135\")\n",
    "m_cs135 = m_cs135_1 + m_cs135_2\n",
    "p_cs135 = (m_cs135[n_repeticion_pasos] - m_cs135[0])\n",
    "p_cs135 #g"
   ]
  },
  {
   "cell_type": "markdown",
   "id": "85934470-ce8e-40a4-8eb1-00f0539c75ec",
   "metadata": {},
   "source": [
    "#### Cs-137"
   ]
  },
  {
   "cell_type": "code",
   "execution_count": null,
   "id": "d43d649a-586d-4479-aefb-2e2019347143",
   "metadata": {},
   "outputs": [],
   "source": [
    "_, m_cs137_1 = results.get_mass(inner_ID, \"Cs137\")\n",
    "_, m_cs137_2 = results.get_mass(outer_ID, \"Cs137\")\n",
    "m_cs137 = m_cs137_1 + m_cs137_2\n",
    "p_cs137 = (m_cs137[n_repeticion_pasos] - m_cs137[0])\n",
    "p_cs137 #g"
   ]
  },
  {
   "cell_type": "markdown",
   "id": "d250680b-09e6-4c11-8287-d93e2eb771ab",
   "metadata": {},
   "source": [
    "#### Sr-90"
   ]
  },
  {
   "cell_type": "code",
   "execution_count": null,
   "id": "10d6d919-2f08-4ac0-9eea-49e8f5472166",
   "metadata": {},
   "outputs": [],
   "source": [
    "_, m_sr90_1 = results.get_mass(inner_ID, \"Sr90\")\n",
    "_, m_sr90_2 = results.get_mass(outer_ID, \"Sr90\")\n",
    "m_sr90 = m_sr90_1 + m_sr90_2\n",
    "p_sr90 = (m_sr90[n_repeticion_pasos] - m_sr90[0])\n",
    "p_sr90 #g"
   ]
  },
  {
   "cell_type": "markdown",
   "id": "99c5249e-37cb-4b48-bae1-c32c91322876",
   "metadata": {},
   "source": [
    "### Masa"
   ]
  },
  {
   "cell_type": "code",
   "execution_count": null,
   "id": "cf926da4-80f2-4ea2-9db9-3c7f84484bfe",
   "metadata": {},
   "outputs": [],
   "source": [
    "p_u235_1 = (m_u235_1[n_repeticion_pasos] - m_u235_1[0])/1000\n",
    "p_u235_2 = (m_u235_2[n_repeticion_pasos] - m_u235_2[0])/1000\n",
    "print(\"U235 - 1\")\n",
    "print(p_u235_1) \n",
    "print(\"U235 - 2\")\n",
    "print(p_u235_2) \n",
    "\n",
    "p_u238_1 = (m_u238_1[n_repeticion_pasos] - m_u238_1[0])/1000\n",
    "p_u238_2 = (m_u238_2[n_repeticion_pasos] - m_u238_2[0])/1000\n",
    "print(\"U238 - 1\")\n",
    "print(p_u238_1) \n",
    "print(\"U238 - 2\")\n",
    "print(p_u238_2)\n",
    "\n",
    "p_pu238_1 = (m_pu238_1[n_repeticion_pasos] - m_pu238_1[0])/1000\n",
    "p_pu238_2 = (m_pu238_2[n_repeticion_pasos] - m_pu238_2[0])/1000\n",
    "print(\"Pu238 - 1\")\n",
    "print(p_pu238_1) \n",
    "print(\"Pu238 - 2\")\n",
    "print(p_pu238_2)\n",
    "\n",
    "p_pu239_1 = (m_pu239_1[n_repeticion_pasos] - m_pu239_1[0])/1000\n",
    "p_pu239_2 = (m_pu239_2[n_repeticion_pasos] - m_pu239_2[0])/1000\n",
    "print(\"Pu239 - 1\")\n",
    "print(p_pu239_1) \n",
    "print(\"Pu239 - 2\")\n",
    "print(p_pu239_2)\n",
    "\n",
    "p_pu240_1 = (m_pu240_1[n_repeticion_pasos] - m_pu240_1[0])/1000\n",
    "p_pu240_2 = (m_pu240_2[n_repeticion_pasos] - m_pu240_2[0])/1000\n",
    "print(\"Pu240 - 1\")\n",
    "print(p_pu240_1) \n",
    "print(\"Pu240 - 2\")\n",
    "print(p_pu240_2)\n",
    "\n",
    "p_pu241_1 = (m_pu241_1[n_repeticion_pasos] - m_pu241_1[0])/1000\n",
    "p_pu241_2 = (m_pu241_2[n_repeticion_pasos] - m_pu241_2[0])/1000\n",
    "print(\"Pu241 - 1\")\n",
    "print(p_pu241_1) \n",
    "print(\"Pu241 - 2\")\n",
    "print(p_pu241_2)\n",
    "\n",
    "p_pu242_1 = (m_pu242_1[n_repeticion_pasos] - m_pu242_1[0])/1000\n",
    "p_pu242_2 = (m_pu242_2[n_repeticion_pasos] - m_pu242_2[0])/1000\n",
    "print(\"Pu242 - 1\")\n",
    "print(p_pu242_1) \n",
    "print(\"Pu242 - 2\")\n",
    "print(p_pu242_2)\n",
    "\n",
    "p_np237_1 = (m_np237_1[n_repeticion_pasos] - m_np237_1[0])/1000\n",
    "p_np237_2 = (m_np237_2[n_repeticion_pasos] - m_np237_2[0])/1000\n",
    "print(\"Np237 - 1\")\n",
    "print(p_np237_1) \n",
    "print(\"Np237 - 2\")\n",
    "print(p_np237_2)\n",
    "\n",
    "p_am241_1 = (m_am241_1[n_repeticion_pasos] - m_am241_1[0])/1000\n",
    "p_am241_2 = (m_am241_2[n_repeticion_pasos] - m_am241_2[0])/1000\n",
    "print(\"Am241 - 1\")\n",
    "print(p_am241_1) \n",
    "print(\"am241 - 2\")\n",
    "print(p_am241_2)\n",
    "\n",
    "p_am243_1 = (m_am243_1[n_repeticion_pasos] - m_am243_1[0])/1000\n",
    "p_am243_2 = (m_am243_2[n_repeticion_pasos] - m_am243_2[0])/1000\n",
    "print(\"Am243 - 1\")\n",
    "print(p_am243_1) \n",
    "print(\"am243 - 2\")\n",
    "print(p_am243_2)\n",
    "\n",
    "p_cm244_1 = (m_cm244_1[n_repeticion_pasos] - m_cm244_1[0])/1000\n",
    "p_cm244_2 = (m_cm244_2[n_repeticion_pasos] - m_cm244_2[0])/1000\n",
    "print(\"Cm244 - 1\")\n",
    "print(p_cm244_1) \n",
    "print(\"Cm244 - 2\")\n",
    "print(p_cm244_2)\n",
    "\n",
    "p_cm245_1 = (m_cm245_1[n_repeticion_pasos] - m_cm245_1[0])/1000\n",
    "p_cm245_2 = (m_cm245_2[n_repeticion_pasos] - m_cm245_2[0])/1000\n",
    "print(\"Cm245 - 1\")\n",
    "print(p_cm245_1) \n",
    "print(\"Cm245 - 2\")\n",
    "print(p_cm245_2)"
   ]
  },
  {
   "cell_type": "code",
   "execution_count": null,
   "id": "a66730e9-8431-486d-b6a4-bdadbe05a9cc",
   "metadata": {},
   "outputs": [],
   "source": [
    "print(\"--- U235 ---\")\n",
    "print(m_u235[0])\n",
    "print(m_u235[n_repeticion_pasos])\n",
    "print(((m_u235[0] - m_u235[n_repeticion_pasos])/m_u235[0])*100)\n",
    "print(\"--- U238 ---\")\n",
    "print(m_u238[0])\n",
    "print(m_u238[n_repeticion_pasos])\n",
    "print(((m_u238[0] - m_u238[n_repeticion_pasos])/m_u238[0])*100)\n",
    "print(\"--- Pu238 ---\")\n",
    "print(m_pu238[0])\n",
    "print(m_pu238[n_repeticion_pasos])\n",
    "print(((m_pu238[0] - m_pu238[n_repeticion_pasos])/m_pu238[0])*100)\n",
    "print(\"--- Pu239 ---\")\n",
    "print(m_pu239[0])\n",
    "print(m_pu239[n_repeticion_pasos])\n",
    "print(((m_pu239[0] - m_pu239[n_repeticion_pasos])/m_pu239[0])*100)\n",
    "print(\"--- Pu240 ---\")\n",
    "print(m_pu240[0])\n",
    "print(m_pu240[n_repeticion_pasos])\n",
    "print(((m_pu240[0] - m_pu240[n_repeticion_pasos])/m_pu240[0])*100)\n",
    "print(\"--- Pu241 ---\")\n",
    "print(m_pu241[0])\n",
    "print(m_pu241[n_repeticion_pasos])\n",
    "print(((m_pu241[0] - m_pu241[n_repeticion_pasos])/m_pu241[0])*100)\n",
    "print(\"--- Pu242 ---\")\n",
    "print(m_pu242[0])\n",
    "print(m_pu242[n_repeticion_pasos])\n",
    "print(((m_pu242[0] - m_pu242[n_repeticion_pasos])/m_pu242[0])*100)\n",
    "print(\"--- Np237 ---\")\n",
    "print(m_np237[0])\n",
    "print(m_np237[n_repeticion_pasos])\n",
    "print(((m_np237[0] - m_np237[n_repeticion_pasos])/m_np237[0])*100)\n",
    "print(\"--- Am241 ---\")\n",
    "print(m_am241[0])\n",
    "print(m_am241[n_repeticion_pasos])\n",
    "print(((m_am241[0] - m_am241[n_repeticion_pasos])/m_am241[0])*100)\n",
    "print(\"--- Am243 ---\")\n",
    "print(m_am243[0])\n",
    "print(m_am243[n_repeticion_pasos])\n",
    "print(((m_am243[0] - m_am243[n_repeticion_pasos])/m_am243[0])*100)\n",
    "print(\"--- Cm244 ---\")\n",
    "print(m_cm244[0])\n",
    "print(m_cm244[n_repeticion_pasos])\n",
    "print(((m_cm244[0] - m_cm244[n_repeticion_pasos])/m_cm244[0])*100)\n",
    "print(\"--- Cm245 ---\")\n",
    "print(m_cm245[0])\n",
    "print(m_cm245[n_repeticion_pasos])\n",
    "print(((m_cm245[0] - m_cm245[n_repeticion_pasos])/m_cm245[0])*100)\n",
    "print(\"--- Sr90 ---\")\n",
    "print(m_sr90[0])\n",
    "print(m_sr90[n_repeticion_pasos])\n",
    "print(((m_sr90[0] - m_sr90[n_repeticion_pasos])/m_sr90[0])*100)\n",
    "print(\"--- Tc99 ---\")\n",
    "print(m_tc99[0])\n",
    "print(m_tc99[n_repeticion_pasos])\n",
    "print(((m_tc99[0] - m_tc99[n_repeticion_pasos])/m_tc99[0])*100)\n",
    "print(\"--- I129 ---\")\n",
    "print(m_i129[0])\n",
    "print(m_i129[n_repeticion_pasos])\n",
    "print(((m_i129[0] - m_i129[n_repeticion_pasos])/m_i129[0])*100)\n",
    "print(\"--- I131 ---\")\n",
    "print(m_i131[0])\n",
    "print(m_i131[n_repeticion_pasos])\n",
    "print(((m_i131[0] - m_i131[n_repeticion_pasos])/m_i131[0])*100)\n",
    "print(\"--- Cs135 ---\")\n",
    "print(m_cs135[0])\n",
    "print(m_cs135[n_repeticion_pasos])\n",
    "print(((m_cs135[0] - m_cs135[n_repeticion_pasos])/m_cs135[0])*100)\n",
    "print(\"--- Cs137 ---\")\n",
    "print(m_cs137[0])\n",
    "print(m_cs137[n_repeticion_pasos])\n",
    "print(((m_cs137[0] - m_cs137[n_repeticion_pasos])/m_cs137[0])*100)"
   ]
  }
 ],
 "metadata": {
  "kernelspec": {
   "display_name": "Python 3 (ipykernel)",
   "language": "python",
   "name": "python3"
  },
  "language_info": {
   "codemirror_mode": {
    "name": "ipython",
    "version": 3
   },
   "file_extension": ".py",
   "mimetype": "text/x-python",
   "name": "python",
   "nbconvert_exporter": "python",
   "pygments_lexer": "ipython3",
   "version": "3.10.12"
  }
 },
 "nbformat": 4,
 "nbformat_minor": 5
}
