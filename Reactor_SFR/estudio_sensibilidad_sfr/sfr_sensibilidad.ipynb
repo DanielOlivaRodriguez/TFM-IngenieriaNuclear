{
 "cells": [
  {
   "cell_type": "markdown",
   "id": "c9a6ca3f-8bae-4e46-a22b-db50560c08ef",
   "metadata": {},
   "source": [
    "# SFR - Estudio de sensibilidad\n",
    "__*Daniel Oliva Rodríguez*__"
   ]
  },
  {
   "cell_type": "markdown",
   "id": "8ab45a69-be11-40e2-afd1-04c618354794",
   "metadata": {},
   "source": [
    "---"
   ]
  },
  {
   "cell_type": "markdown",
   "id": "5b8cc41b-0b47-4aba-849e-1990a2a68d47",
   "metadata": {},
   "source": [
    "Este script lee los resultados de distintas simulaciones con el mismo número de batches, pero con distinto número de partículas.<br>\n",
    "Se obtiene la $k_{eff}$ para cada simulación y se representa en un gráfico."
   ]
  },
  {
   "cell_type": "code",
   "execution_count": null,
   "id": "0c0ea2b2-b468-47ff-a891-8e23f894a83f",
   "metadata": {},
   "outputs": [],
   "source": [
    "import openmc\n",
    "from matplotlib import pyplot"
   ]
  },
  {
   "cell_type": "markdown",
   "id": "a65a5758-b1af-420e-8fa2-4377c7c17a5c",
   "metadata": {},
   "source": [
    "**Resultados con 1.000 partículas**"
   ]
  },
  {
   "cell_type": "code",
   "execution_count": null,
   "id": "912c5352-bf02-406a-b01b-861b385a946e",
   "metadata": {},
   "outputs": [],
   "source": [
    "results1= openmc.StatePoint(\"statepoint.200b.1k.h5\")\n",
    "k1 = results1.k_generation\n",
    "p1 = results1.n_particles"
   ]
  },
  {
   "cell_type": "markdown",
   "id": "9d479009-7248-4b8d-ba2a-9d263440eb5e",
   "metadata": {},
   "source": [
    "**Resultados con 10.000 partículas**"
   ]
  },
  {
   "cell_type": "code",
   "execution_count": null,
   "id": "88bfa278-4f74-4e74-a7dd-fe0e71f90846",
   "metadata": {},
   "outputs": [],
   "source": [
    "results10 = openmc.StatePoint(\"statepoint.200b.10k.h5\")\n",
    "k10 = results10.k_generation\n",
    "p10 = results10.n_particles"
   ]
  },
  {
   "cell_type": "markdown",
   "id": "33d0964b-2f94-44fa-afa7-5ceee48bf0d3",
   "metadata": {},
   "source": [
    "**Resultados con 50.000 partículas**"
   ]
  },
  {
   "cell_type": "code",
   "execution_count": null,
   "id": "3806a391-2f2c-457f-8eb1-7c9baa461469",
   "metadata": {},
   "outputs": [],
   "source": [
    "results50= openmc.StatePoint(\"statepoint.200b.50k.h5\")\n",
    "k50 = results50.k_generation\n",
    "p50 = results50.n_particles"
   ]
  },
  {
   "cell_type": "markdown",
   "id": "abcdbe53-f8f6-4ae9-b729-a724c36a57bf",
   "metadata": {},
   "source": [
    "**Resultados con 100.000 partículas**"
   ]
  },
  {
   "cell_type": "code",
   "execution_count": null,
   "id": "a58a1900-b605-43f7-9ba7-7f9d05ecb4ae",
   "metadata": {},
   "outputs": [],
   "source": [
    "results100 = openmc.StatePoint(\"statepoint.200b.100k.h5\")\n",
    "k100 = results100.k_generation\n",
    "p100 = results100.n_particles"
   ]
  },
  {
   "cell_type": "markdown",
   "id": "93b914bd-c7ee-4643-8660-229ca47d375b",
   "metadata": {},
   "source": [
    "**Resultados con 200.000 partículas**"
   ]
  },
  {
   "cell_type": "code",
   "execution_count": null,
   "id": "8252cefa-1a80-4407-9a52-a174fecf6803",
   "metadata": {},
   "outputs": [],
   "source": [
    "results200 = openmc.StatePoint(\"statepoint.200b.200k.h5\")\n",
    "k200 = results200.k_generation\n",
    "p200 = results200.n_particles"
   ]
  },
  {
   "cell_type": "markdown",
   "id": "a61f1d7e-69d8-4d5c-a5cf-884845853f1d",
   "metadata": {},
   "source": [
    "**Resultados con 500.000 partículas**"
   ]
  },
  {
   "cell_type": "code",
   "execution_count": null,
   "id": "37819dbd-6a4c-4985-836c-5329848252d4",
   "metadata": {},
   "outputs": [],
   "source": [
    "results500 = openmc.StatePoint(\"statepoint.200b.500k.h5\")\n",
    "k500 = results500.k_generation\n",
    "p500 = results500.n_particles"
   ]
  },
  {
   "cell_type": "markdown",
   "id": "526c8171-2170-4091-ac2c-b0ecaf41b0b5",
   "metadata": {},
   "source": [
    "**Nº batches**"
   ]
  },
  {
   "cell_type": "code",
   "execution_count": null,
   "id": "62547ea0-5298-43a7-a46a-1b4d8e884a57",
   "metadata": {},
   "outputs": [],
   "source": [
    "batch = results1.n_batches\n",
    "batches = list(range(0, batch))"
   ]
  },
  {
   "cell_type": "code",
   "execution_count": null,
   "id": "999073f5-d814-4fe0-a4d3-a4c8ec6884dd",
   "metadata": {},
   "outputs": [],
   "source": [
    "pyplot.errorbar(batches, k1, label = \"1K\", color = \"lightblue\")\n",
    "pyplot.errorbar(batches, k10, label = \"10K\", color = \"lightpink\")\n",
    "pyplot.errorbar(batches, k50, label = \"50K\", color = \"yellow\")\n",
    "# pyplot.errorbar(batches, k100, label = \"100K\", color = \"blue\")\n",
    "# pyplot.errorbar(batches, k200, label = \"200K\", color = \"green\")\n",
    "# pyplot.errorbar(batches, k500, label = \"500K\", color = \"red\")\n",
    "pyplot.ylim(0.93, 1.07)\n",
    "pyplot.legend(loc=\"upper right\")\n",
    "pyplot.xlabel(\"Lotes\")\n",
    "pyplot.ylabel(\"$k_{eff}$\");\n",
    "pyplot.savefig('sensibilidad_sfr.png')"
   ]
  }
 ],
 "metadata": {
  "kernelspec": {
   "display_name": "Python 3 (ipykernel)",
   "language": "python",
   "name": "python3"
  },
  "language_info": {
   "codemirror_mode": {
    "name": "ipython",
    "version": 3
   },
   "file_extension": ".py",
   "mimetype": "text/x-python",
   "name": "python",
   "nbconvert_exporter": "python",
   "pygments_lexer": "ipython3",
   "version": "3.10.12"
  }
 },
 "nbformat": 4,
 "nbformat_minor": 5
}
