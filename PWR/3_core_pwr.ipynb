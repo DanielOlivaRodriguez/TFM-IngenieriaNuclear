{
 "cells": [
  {
   "cell_type": "markdown",
   "id": "4d441775-f343-4951-9cfe-7834d4f81056",
   "metadata": {},
   "source": [
    "---"
   ]
  },
  {
   "cell_type": "markdown",
   "id": "078c3149-14b3-4312-8bcf-d75972b72cf1",
   "metadata": {},
   "source": [
    "# REACTOR PWR\n",
    "__*Daniel Oliva Rodríguez*__"
   ]
  },
  {
   "cell_type": "markdown",
   "id": "a0d2cefe-7ad3-4962-928e-d8b028ef13bb",
   "metadata": {},
   "source": [
    "---"
   ]
  },
  {
   "cell_type": "markdown",
   "id": "3008c07d-b15a-48db-b3f0-a7b71a496f21",
   "metadata": {},
   "source": [
    "Para realizar una simulación en __*OpenMC*__ es necesario crear 3 archivos:\n",
    "-  *materials.xml*: definición de los materiales presentes en el problema.\n",
    "-  *geometry.xml*: definición de la geometría.\n",
    "-  *settings.xml*: definición de la configuración de la simulación.\n",
    "\n",
    "Siendo opcioneles la creación de otros 2:\n",
    "-  *tallies.xml*: definición de los parámetros que se quieren medir durante la simulación.\n",
    "-  *plots.xml*: definición de la representación gráfica de la geometría."
   ]
  },
  {
   "cell_type": "markdown",
   "id": "48f4ef26-1d42-44fc-b8b1-8292bf5ff4fc",
   "metadata": {},
   "source": [
    "---"
   ]
  },
  {
   "cell_type": "markdown",
   "id": "e6986791-8aaa-418b-b9a6-666f12bb6c61",
   "metadata": {},
   "source": [
    "**ruta del archivo jupyter: _\"raiz/simulaciones/pwr\"_**"
   ]
  },
  {
   "cell_type": "markdown",
   "id": "9b37ea0f-b7b3-4578-81e3-995060fb8935",
   "metadata": {},
   "source": [
    "Ruta para guardar los archivos generados:"
   ]
  },
  {
   "cell_type": "code",
   "execution_count": 1,
   "id": "503d31e9-5479-438c-8a79-d3ac11d376db",
   "metadata": {},
   "outputs": [],
   "source": [
    "ruta = './build_10'"
   ]
  },
  {
   "cell_type": "markdown",
   "id": "6f25b749-3bc7-4aaa-8327-5f7be2483baf",
   "metadata": {},
   "source": [
    "---"
   ]
  },
  {
   "cell_type": "markdown",
   "id": "d14b5769-ad81-45fd-8cbc-7f5cec03af58",
   "metadata": {},
   "source": [
    "Importación de los módulos necesarios para la simulación:"
   ]
  },
  {
   "cell_type": "code",
   "execution_count": 2,
   "id": "1b8e0d68-a0f6-461c-9f0b-55bb310f4ab9",
   "metadata": {},
   "outputs": [],
   "source": [
    "import openmc\n",
    "import openmc.deplete\n",
    "import math\n",
    "import os\n",
    "import numpy as np\n",
    "from matplotlib import pyplot\n",
    "from PIL import Image as Image_ppm # Para convertir la imagen .ppm en .jpg\n",
    "from IPython.display import Image, display # Para mostrar la imagen .jpg"
   ]
  },
  {
   "cell_type": "code",
   "execution_count": 3,
   "id": "c299ff10-1f6a-4219-8e61-63d10a923d5f",
   "metadata": {},
   "outputs": [],
   "source": [
    "os.mkdir(ruta)"
   ]
  },
  {
   "cell_type": "code",
   "execution_count": 4,
   "id": "f19df13a-3e8a-492d-b0b0-d7e159d941a8",
   "metadata": {},
   "outputs": [],
   "source": [
    "os.mkdir(ruta + \"/imagenes\")"
   ]
  },
  {
   "cell_type": "markdown",
   "id": "21b22ac5-4a37-4368-b632-2061784c3aa6",
   "metadata": {
    "jp-MarkdownHeadingCollapsed": true
   },
   "source": [
    "## MATERIALS"
   ]
  },
  {
   "cell_type": "markdown",
   "id": "feb17a82-1477-458d-bca5-668cf42296c4",
   "metadata": {},
   "source": [
    "**Paso 1: Definición de Materiales** <br>\n",
    "En este primer apartado __*materials*__ se definen los materiales que se van a emplear en la simulación (combustible, revestimiento, moderador, refrigerante, etc.)."
   ]
  },
  {
   "cell_type": "markdown",
   "id": "e3eb7eed-822d-4aea-935f-a23b7a3d9892",
   "metadata": {},
   "source": [
    "Todas las definiciones de materiales tienen la misma morfología:\n",
    "-  Se inicializa el material con __*openmc.Material(ID, \"nombre\")*__.\n",
    "-  Se añade un elemento (con sus isótopos naturales) mediante __*add_element('símbolo', fracción, tipo_fracción)*__.\n",
    "   -  La fracción puede ser atómica (*ao*) o en masa (*wo*). Si no se especifica, se toma por defecto *ao*.\n",
    "   -  Se puede usar __*add_nuclide('símbolo', fracción, tipo_fracción)*__ para especificar un solo isótopo del elemento.\n",
    "   -  En el caso del uranio, se puede establecer el enriquecimiento en U235 mediante un ajuste adicional: __*enrichment=4.2*__.\n",
    "-  La densidad total del material se especifica mediante __*set_density('unidades', densidad)*__."
   ]
  },
  {
   "cell_type": "markdown",
   "id": "fda6700f-9fb0-4e20-a6b6-5bd3ac973e42",
   "metadata": {},
   "source": [
    "Definición de los materiales del **combustible**:<br>"
   ]
  },
  {
   "cell_type": "markdown",
   "id": "6e392bf9-393d-4b8a-b58c-d0276b4fcc40",
   "metadata": {},
   "source": [
    "Densidad nominal del combustible (95,5% de la teórica)"
   ]
  },
  {
   "cell_type": "code",
   "execution_count": 5,
   "id": "deb8a3d8-7882-4e55-b346-86d3c400d0a7",
   "metadata": {},
   "outputs": [],
   "source": [
    "densidad = 0.955 * 10.97"
   ]
  },
  {
   "cell_type": "markdown",
   "id": "86f5361a-e8e5-4ca5-9c69-11a0c45187de",
   "metadata": {},
   "source": [
    "Combustible de bajo enriquecimiento (*low enrichment*) de **2.35%**:"
   ]
  },
  {
   "cell_type": "code",
   "execution_count": 6,
   "id": "27e73263-afdb-42b3-a52f-4ef717d37c7a",
   "metadata": {},
   "outputs": [],
   "source": [
    "# Inicialización del material\n",
    "fuel_uo2_le = openmc.Material(1, \"uo2_le\")\n",
    "\n",
    "# Se agrega uranio con el enriquecimiento y la fracción de O del UO2\n",
    "fuel_uo2_le.add_element('U', 1.0, enrichment=2.35)\n",
    "fuel_uo2_le.add_element('O', 2.0)\n",
    "\n",
    "# Se define el valor de la densidad del combustible\n",
    "fuel_uo2_le.set_density('g/cm3', densidad)"
   ]
  },
  {
   "cell_type": "markdown",
   "id": "b5d5919d-ead6-46ae-afcb-a6456cf86059",
   "metadata": {},
   "source": [
    "Combustible de medio enriquecimiento (*mid enrichment*) de **3.4%**:"
   ]
  },
  {
   "cell_type": "code",
   "execution_count": 7,
   "id": "dd95801d-9d50-43ca-b774-1763f1d93e88",
   "metadata": {},
   "outputs": [],
   "source": [
    "# Inicialización del material\n",
    "fuel_uo2_me = openmc.Material(2, \"uo2_me\")\n",
    "\n",
    "# Se agrega uranio con el enriquecimiento y la fracción de O del UO2\n",
    "fuel_uo2_me.add_element('U', 1.0, enrichment=3.4)\n",
    "fuel_uo2_me.add_element('O', 2.0)\n",
    "\n",
    "# Se define el valor de la densidad del combustible\n",
    "fuel_uo2_me.set_density('g/cm3', densidad)"
   ]
  },
  {
   "cell_type": "markdown",
   "id": "ef968d75-e3a4-4934-804a-070bc13bcb44",
   "metadata": {},
   "source": [
    "Combustible de alto enriquecimiento (*high enrichment*) de **4.45%**:"
   ]
  },
  {
   "cell_type": "code",
   "execution_count": 8,
   "id": "06109d1d-5c87-497c-a1e6-6040b3959d52",
   "metadata": {},
   "outputs": [],
   "source": [
    "# Inicialización del material\n",
    "fuel_uo2_he = openmc.Material(3, \"uo2_he\")\n",
    "\n",
    "# Se agrega uranio con el enriquecimiento y la fracción de O del UO2\n",
    "fuel_uo2_he.add_element('U', 1.0, enrichment=4.45)\n",
    "fuel_uo2_he.add_element('O', 2.0)\n",
    "\n",
    "# Se define el valor de la densidad del combustible\n",
    "fuel_uo2_he.set_density('g/cm3', densidad)"
   ]
  },
  {
   "cell_type": "markdown",
   "id": "6f442318-84e2-4022-b410-c1be4081e872",
   "metadata": {},
   "source": [
    "Gadolinio como veneno consumible"
   ]
  },
  {
   "cell_type": "code",
   "execution_count": 9,
   "id": "ddcc545c-9271-4d65-9607-29a50e46706d",
   "metadata": {},
   "outputs": [],
   "source": [
    "Gd2O3 = openmc.Material(4, \"Gd2O3\")\n",
    "Gd2O3.add_element('Gd', 2.0)\n",
    "Gd2O3.add_element('O', 3.0)\n",
    "Gd2O3.set_density('g/cm3', 7.41)"
   ]
  },
  {
   "cell_type": "markdown",
   "id": "7b203794-cf7b-499d-998a-96f8888e7517",
   "metadata": {},
   "source": [
    "Combustible de bajo, medio y alto enriquecimiento con gadolinio:"
   ]
  },
  {
   "cell_type": "code",
   "execution_count": 10,
   "id": "43ac8d0a-1fb4-4881-8517-0dab40ccc9bb",
   "metadata": {},
   "outputs": [],
   "source": [
    "fuel_uo2_lbp = openmc.Material.mix_materials([Gd2O3, fuel_uo2_le], [0.05, 0.95], 'wo') # Material 5\n",
    "fuel_uo2_mbp = openmc.Material.mix_materials([Gd2O3, fuel_uo2_me], [0.05, 0.95], 'wo') # Material 6\n",
    "fuel_uo2_hbp = openmc.Material.mix_materials([Gd2O3, fuel_uo2_he], [0.02, 0.98], 'wo') # Material 7"
   ]
  },
  {
   "cell_type": "markdown",
   "id": "13150910-8c9f-4650-a38c-7facaa179909",
   "metadata": {},
   "source": [
    "Definición de los materiales del **revestimiento** del combustible (__*Zircaloy - 4*__):"
   ]
  },
  {
   "cell_type": "code",
   "execution_count": 11,
   "id": "39cd12bb-877b-497c-a606-68c52165c570",
   "metadata": {},
   "outputs": [],
   "source": [
    "# Inicialización del material\n",
    "clad = openmc.Material(9, \"cladding\")\n",
    "\n",
    "# Se agrega zirconio al material\n",
    "clad.add_element('Zr', 0.9756, 'wo')\n",
    "clad.add_element('Sn', 0.17, 'wo')\n",
    "clad.add_element('Cr', 0.37, 'wo')\n",
    "clad.add_element('Fe', 0.37, 'wo')\n",
    "\n",
    "# Se define la densidad del material del revestimiento\n",
    "clad.set_density('g/cm3', 6.56)  "
   ]
  },
  {
   "cell_type": "markdown",
   "id": "511fddd8-60e3-407f-b244-5f9b1c46266f",
   "metadata": {},
   "source": [
    "Definición de los materiales del **refrigerante**:"
   ]
  },
  {
   "cell_type": "code",
   "execution_count": 12,
   "id": "7ea7cc65-680d-4aac-b117-35c9e2840e0f",
   "metadata": {},
   "outputs": [],
   "source": [
    "water = openmc.Material(10, name='Agua borada')\n",
    "water.set_density('g/cm3', 1.0)\n",
    "water.add_element('H', 2.0)\n",
    "water.add_element('O', 1.0)\n",
    "# water.add_element('B', 5e-4)\n",
    "water.add_element('B', 3340.625 * 1e-6) # openmc.search_for_keff\n",
    "water.add_s_alpha_beta('c_H_in_H2O')"
   ]
  },
  {
   "cell_type": "markdown",
   "id": "0d7aa40b-0e8f-40af-b9ba-a8dbdcc26fab",
   "metadata": {},
   "source": [
    "Para el caso del agua o el grafito, es necesario especificar la *Thermal Scattering Data*."
   ]
  },
  {
   "cell_type": "markdown",
   "id": "bcc65b87-a494-4910-acc7-8b5ea2f0663f",
   "metadata": {},
   "source": [
    "**Dispersión Térmica S(α,β)**\n",
    "\n",
    "En simulaciones de transporte de neutrones, es importante considerar cómo los neutrones interactúan con los núcleos de los átomos en los materiales.\n",
    "A bajas energías (energías térmicas), estas interacciones son significativamente influenciadas por los movimientos térmicos de los núcleos en una red cristalina (sólido) o en moléculas (líquidos o gases).\n",
    "\n",
    "-  La función **S(α,β)** describe la dispersión inelástica y la absorción de neutrones en materiales moderadores a energías térmicas.\n",
    "-  α y β son parámetros adimensionales que representan la transferencia de energía y momento en la colisión entre el neutrón y el núcleo.\n",
    "-  Esta función es especialmente importante para materiales moderadores como el agua, donde los neutrones pierden energía (se \"moderan\") y alcanzan el equilibrio térmico con el moderador.\n",
    "\n",
    "OpenMC utiliza bibliotecas de datos nucleares que incluyen estas funciones S(α,β) para materiales comunes como el agua, grafito, berilio, etc.<br>\n",
    "La línea __*water.add_s_alpha_beta('c_H_in_H2O')*__ indica a OpenMC que debe usar los datos de dispersión térmica S(α,β) para el hidrógeno en agua (H2O)."
   ]
  },
  {
   "cell_type": "markdown",
   "id": "50e2b9aa-a958-4496-a17f-a0c29dedb80f",
   "metadata": {},
   "source": [
    "Se definen los materiales de la estructura externa al núcleo:"
   ]
  },
  {
   "cell_type": "code",
   "execution_count": 13,
   "id": "e6d23dd1-950e-4f95-85ed-bfb7415fbc96",
   "metadata": {},
   "outputs": [],
   "source": [
    "vasija = openmc.Material(11, name='Vasija del reactor')\n",
    "vasija.set_density('g/cm3', 7.9)\n",
    "vasija.add_nuclide('Fe54', 0.05437098, 'wo')\n",
    "vasija.add_nuclide('Fe56', 0.88500663, 'wo')\n",
    "vasija.add_nuclide('Fe57', 0.0208008, 'wo')\n",
    "vasija.add_nuclide('Fe58', 0.00282159, 'wo')\n",
    "vasija.add_nuclide('Ni58', 0.0067198, 'wo')\n",
    "vasija.add_nuclide('Ni60', 0.0026776, 'wo')\n",
    "vasija.add_nuclide('Mn55', 0.01, 'wo')\n",
    "vasija.add_nuclide('Cr52', 0.002092475, 'wo')\n",
    "vasija.add_nuclide('C0', 0.0025, 'wo')\n",
    "vasija.add_nuclide('Cu63', 0.0013696, 'wo')"
   ]
  },
  {
   "cell_type": "code",
   "execution_count": 14,
   "id": "8ef330f5-8479-4c38-8bf1-3505cfc84f89",
   "metadata": {},
   "outputs": [],
   "source": [
    "reflec_inf = openmc.Material(12, name='Reflector inferior')\n",
    "reflec_inf.set_density('g/cm3', 4.32)\n",
    "reflec_inf.add_nuclide('H1', 0.0095661, 'wo')\n",
    "reflec_inf.add_nuclide('O16', 0.0759107, 'wo')\n",
    "reflec_inf.add_nuclide('Fe54', 0.035620772088, 'wo')\n",
    "reflec_inf.add_nuclide('Fe56', 0.579805982228, 'wo')\n",
    "reflec_inf.add_nuclide('Fe57', 0.01362750048, 'wo')\n",
    "reflec_inf.add_nuclide('Fe58', 0.001848545204, 'wo')\n",
    "reflec_inf.add_nuclide('Ni58', 0.055298376566, 'wo')\n",
    "reflec_inf.add_nuclide('Mn55', 0.0182870, 'wo')\n",
    "reflec_inf.add_nuclide('Cr52', 0.145407678031, 'wo')\n",
    "reflec_inf.add_s_alpha_beta('c_H_in_H2O')"
   ]
  },
  {
   "cell_type": "code",
   "execution_count": 15,
   "id": "36ab4306-52fd-40c6-a5df-c72745843237",
   "metadata": {},
   "outputs": [],
   "source": [
    "reflec_sup = openmc.Material(13, name='Reflector superior')\n",
    "reflec_sup.set_density('g/cm3', 4.28)\n",
    "reflec_sup.add_nuclide('H1', 0.0086117, 'wo')\n",
    "reflec_sup.add_nuclide('O16', 0.0683369, 'wo')\n",
    "reflec_sup.add_nuclide('Fe54', 0.035953677186, 'wo')\n",
    "reflec_sup.add_nuclide('Fe56', 0.585224740891, 'wo')\n",
    "reflec_sup.add_nuclide('Fe57', 0.01375486056, 'wo')\n",
    "reflec_sup.add_nuclide('Fe58', 0.001865821363, 'wo')\n",
    "reflec_sup.add_nuclide('Ni58', 0.055815129186, 'wo')\n",
    "reflec_sup.add_nuclide('Mn55', 0.0184579, 'wo')\n",
    "reflec_sup.add_nuclide('Cr52', 0.146766614995, 'wo')\n",
    "reflec_sup.add_s_alpha_beta('c_H_in_H2O')"
   ]
  },
  {
   "cell_type": "code",
   "execution_count": 16,
   "id": "547a3722-d856-4012-8d51-8e6402dce2bc",
   "metadata": {},
   "outputs": [],
   "source": [
    "placa_inf = openmc.Material(14, name='Placa inferior vasija')\n",
    "placa_inf.set_density('g/cm3', 7.184)\n",
    "placa_inf.add_nuclide('H1', 0.0011505, 'wo')\n",
    "placa_inf.add_nuclide('O16', 0.0091296, 'wo')\n",
    "placa_inf.add_nuclide('Fe54', 0.03855611055, 'wo')\n",
    "placa_inf.add_nuclide('Fe56', 0.627585036425, 'wo')\n",
    "placa_inf.add_nuclide('Fe57', 0.014750478, 'wo')\n",
    "placa_inf.add_nuclide('Fe58', 0.002000875025, 'wo')\n",
    "placa_inf.add_nuclide('Ni58', 0.059855207342, 'wo')\n",
    "placa_inf.add_nuclide('Mn55', 0.0197940, 'wo')\n",
    "placa_inf.add_nuclide('Cr52', 0.157390026871, 'wo')\n",
    "placa_inf.add_s_alpha_beta('c_H_in_H2O')"
   ]
  },
  {
   "cell_type": "code",
   "execution_count": 17,
   "id": "1529b82a-84ea-4ad3-b522-683c96c46f9c",
   "metadata": {},
   "outputs": [],
   "source": [
    "plenum_inf = openmc.Material(15, name='Plenum inferior')\n",
    "plenum_inf.set_density('g/cm3', 2.53)\n",
    "plenum_inf.add_nuclide('H1', 0.0245014, 'wo')\n",
    "plenum_inf.add_nuclide('O16', 0.1944274, 'wo')\n",
    "plenum_inf.add_nuclide('Fe54', 0.030411411144, 'wo')\n",
    "plenum_inf.add_nuclide('Fe56', 0.495012237964, 'wo')\n",
    "plenum_inf.add_nuclide('Fe57', 0.01163454624, 'wo')\n",
    "plenum_inf.add_nuclide('Fe58', 0.001578204652, 'wo')\n",
    "plenum_inf.add_nuclide('Ni58', 0.047211231662, 'wo')\n",
    "plenum_inf.add_nuclide('Mn55', 0.0156126, 'wo')\n",
    "plenum_inf.add_nuclide('Cr52', 0.124142524198, 'wo')\n",
    "plenum_inf.add_s_alpha_beta('c_H_in_H2O')"
   ]
  },
  {
   "cell_type": "code",
   "execution_count": 18,
   "id": "9e242dc2-533b-4598-8107-a7719d0797c6",
   "metadata": {},
   "outputs": [],
   "source": [
    "plenum_sup = openmc.Material(16, name='Plenum superior')\n",
    "plenum_sup.set_density('g/cm3', 1.746)\n",
    "plenum_sup.add_nuclide('H1', 0.0358870, 'wo')\n",
    "plenum_sup.add_nuclide('O16', 0.2847761, 'wo')\n",
    "plenum_sup.add_nuclide('Fe54', 0.02644016154, 'wo')\n",
    "plenum_sup.add_nuclide('Fe56', 0.43037146399, 'wo')\n",
    "plenum_sup.add_nuclide('Fe57', 0.0101152584, 'wo')\n",
    "plenum_sup.add_nuclide('Fe58', 0.00137211607, 'wo')\n",
    "plenum_sup.add_nuclide('Ni58', 0.04104621835, 'wo')\n",
    "plenum_sup.add_nuclide('Mn55', 0.0135739, 'wo')\n",
    "plenum_sup.add_nuclide('Cr52', 0.107931450781, 'wo')\n",
    "plenum_sup.add_s_alpha_beta('c_H_in_H2O')"
   ]
  },
  {
   "cell_type": "code",
   "execution_count": 19,
   "id": "1ff06a9b-4552-499a-a52d-5173fbad9ed4",
   "metadata": {},
   "outputs": [],
   "source": [
    "c_superior = openmc.Material(17, name='Cabezal superior elementos combustibles')\n",
    "c_superior.set_density('g/cm3', 3.044)\n",
    "c_superior.add_nuclide('H1', 0.0162913, 'wo')\n",
    "c_superior.add_nuclide('O16', 0.1292776, 'wo')\n",
    "c_superior.add_nuclide('Zr90', 0.43313403903, 'wo')\n",
    "c_superior.add_nuclide('Zr91', 0.09549277374, 'wo')\n",
    "c_superior.add_nuclide('Zr92', 0.14759527104, 'wo')\n",
    "c_superior.add_nuclide('Zr94', 0.15280552077, 'wo')\n",
    "c_superior.add_nuclide('Zr96', 0.02511169542, 'wo')\n",
    "c_superior.add_s_alpha_beta('c_H_in_H2O')"
   ]
  },
  {
   "cell_type": "code",
   "execution_count": 20,
   "id": "7e25dfd7-9db9-461b-8feb-f753e6aecb25",
   "metadata": {},
   "outputs": [],
   "source": [
    "c_inferior = openmc.Material(18, name='Cabezal inferior elementos combustibles')\n",
    "c_inferior.set_density('g/cm3', 1.762)\n",
    "c_inferior.add_nuclide('H1', 0.0292856, 'wo')\n",
    "c_inferior.add_nuclide('O16', 0.2323919, 'wo')\n",
    "c_inferior.add_nuclide('Zr90', 0.3741373658, 'wo')\n",
    "c_inferior.add_nuclide('Zr91', 0.0824858164, 'wo')\n",
    "c_inferior.add_nuclide('Zr92', 0.1274914944, 'wo')\n",
    "c_inferior.add_nuclide('Zr94', 0.1319920622, 'wo')\n",
    "c_inferior.add_nuclide('Zr96', 0.0216912612, 'wo')\n",
    "c_inferior.add_s_alpha_beta('c_H_in_H2O')"
   ]
  },
  {
   "cell_type": "markdown",
   "id": "bf1965b1-39d7-426d-8c84-e0a538b15378",
   "metadata": {},
   "source": [
    "También es posible establecer la temperatura inicial de los materiales creados mediante: <br>\n",
    "Se establece la temperatura del material a 900 K: __*Material.temperature = 900*__.<br>"
   ]
  },
  {
   "cell_type": "markdown",
   "id": "c604fe45-cc79-4d03-869a-18681cdfeceb",
   "metadata": {},
   "source": [
    "Por último, es necesario crear el archivo \"materials.xml\", que será el formato empleado por *OpenMC*.<br>\n",
    "Para ello, se inicializa la clase *Materials* (que actúa como una lista de python) y se añaden todos los materiales creados: "
   ]
  },
  {
   "cell_type": "code",
   "execution_count": 21,
   "id": "9c080c7f-a63d-4829-b413-b47270c6c374",
   "metadata": {},
   "outputs": [],
   "source": [
    "materials = openmc.Materials([fuel_uo2_le, fuel_uo2_me, fuel_uo2_he, fuel_uo2_lbp, fuel_uo2_mbp, \n",
    "                              fuel_uo2_hbp, Gd2O3, clad, water, vasija, reflec_inf, reflec_sup, \n",
    "                              placa_inf, plenum_inf, plenum_sup, c_superior, c_inferior])"
   ]
  },
  {
   "cell_type": "markdown",
   "id": "d39d650a-7c86-42a4-ba2f-b180049f9e88",
   "metadata": {},
   "source": [
    "Por último, se exporta a *XML*:"
   ]
  },
  {
   "cell_type": "code",
   "execution_count": 22,
   "id": "3895c633-e4ab-4fbd-9055-dd41c9fc2a32",
   "metadata": {},
   "outputs": [],
   "source": [
    "materials.export_to_xml()"
   ]
  },
  {
   "cell_type": "code",
   "execution_count": 23,
   "id": "9e9cae2f-09a7-4329-b4af-5e53caf01f7f",
   "metadata": {},
   "outputs": [],
   "source": [
    "# cat materials.xml"
   ]
  },
  {
   "cell_type": "markdown",
   "id": "0b5fc7b1-5632-447b-a73b-6094cb190608",
   "metadata": {},
   "source": [
    "___"
   ]
  },
  {
   "cell_type": "markdown",
   "id": "34e8ead9-67e7-495b-abd7-62feda6a6e49",
   "metadata": {},
   "source": [
    "## GEOMETRY"
   ]
  },
  {
   "cell_type": "markdown",
   "id": "e1787f1d-5e96-49a8-83c8-5fed7c9f3e89",
   "metadata": {},
   "source": [
    "**Paso 2: Definición de la Geometría** <br>\n",
    "En este segundo apartado __*geometry*__ se define la disposción geométrica de los materiales definidos anteriormente.<br>\n",
    "OpenMC representa volúmenes mediante Geometría Constructiva de Sólidos (CSG), para ello es necesario definir los siguientes elementos:<br>\n",
    "\n",
    "-  Superficies\n",
    "-  Regiones y condiciones de contorno\n",
    "-  Celdas\n",
    "-  Universos\n",
    "-  Lattices"
   ]
  },
  {
   "cell_type": "markdown",
   "id": "d5899e0e-8337-4fa3-a5c3-04ee3ca45556",
   "metadata": {},
   "source": [
    "Primero se definen las variables especfíficas del diseño:"
   ]
  },
  {
   "cell_type": "code",
   "execution_count": 24,
   "id": "002acc0d-0116-4582-a90b-68f7f0568472",
   "metadata": {},
   "outputs": [],
   "source": [
    "pitch = 1.26                # Pitch varillas\n",
    "pitch_assembly = 21.42      # Pitch fuel assembly\n",
    "combustible_d = 0.7840      # Diámetro pastilla de combustible\n",
    "rev_di = 0.8001             # Diámetro interno revestimiento\n",
    "rev_de = 0.8898             # Diámetro externo revestimiento\n",
    "tg_de = 1.204               # Diámetro exterior tubo guía / instrumentación\n",
    "tg_di = 1.124               # Diámetro interior tubo guía / instrumentación\n",
    "reflector_ri = 175          # Radio interior reflector\n",
    "vasija_ri = 195             # Radio interior vasija\n",
    "vasija_re = 215             # Radio exterior vasija"
   ]
  },
  {
   "cell_type": "markdown",
   "id": "cbb7bc37-1cc5-4fbf-a151-e22701345d06",
   "metadata": {},
   "source": [
    "### Superficies y condiciones de contorno"
   ]
  },
  {
   "cell_type": "markdown",
   "id": "483ea3e9-8b4c-41c8-91f5-d62b305a8488",
   "metadata": {},
   "source": [
    "Las superficies pueden ser definidas mediante planos, cilindros o esferas.<br>\n",
    "Para definir la geometría de un reactor completo se van a usar:<br>\n",
    "-  Cilindros para las barras de combustible (combustible, revestimiento, etc.) y para la estructura de la vasija.\n",
    "-  Planos en *Z* para definir las alturas de los distintos elementos del reactor."
   ]
  },
  {
   "cell_type": "code",
   "execution_count": 25,
   "id": "1bb8b01f-7842-4965-9d71-aac9942e4744",
   "metadata": {},
   "outputs": [],
   "source": [
    "# Superficies cilíndricas\n",
    "s_fuel = openmc.ZCylinder(r=combustible_d/2, surface_id=1) #Superfice externa combustible\n",
    "s_rev_int = openmc.ZCylinder(r=rev_di/2, surface_id=2) # Superficie interna revestimiento\n",
    "s_rev_ext = openmc.ZCylinder(r=rev_de/2, surface_id=3) # Superficie externa revestimiento\n",
    "s_tgi = openmc.ZCylinder(r=tg_di/2, surface_id=4) # Superficie interna tubo guia / instrumentación\n",
    "s_tge = openmc.ZCylinder(r=tg_de/2, surface_id=5) # Superficie interna tubo guia / instrumentación S4\n",
    "s_pl = openmc.ZCylinder(r=155.5, surface_id=6) # Diámetro de las placas superior e inferior del núcleo\n",
    "s_ref_int = openmc.ZCylinder(r=reflector_ri, surface_id=7)  # Superficie interior reflector\n",
    "s_ref_ext = openmc.ZCylinder(r=vasija_ri, surface_id=8) # Superficie exterior reflector / interior vasija\n",
    "s_vasija = openmc.ZCylinder(r=vasija_re, surface_id=9, boundary_type='vacuum') # Superficie exterior vasija\n",
    "\n",
    "# Superficies planas\n",
    "s_z0 = openmc.ZPlane(z0=-229.0, surface_id=30, boundary_type='vacuum') # Límite inferior de la vasija\n",
    "s_z1 = openmc.ZPlane(z0=-199.0, surface_id=31) # Límite inferior del plenum inferior\n",
    "s_z2 = openmc.ZPlane(z0=-193.0, surface_id=32) # Límite inferior cabezal inferior\n",
    "s_z3 = openmc.ZPlane(z0=-183.0, surface_id=33) # Límite inferior elementos combustibles\n",
    "s_z4 = openmc.ZPlane(z0=183.0, surface_id=34) # Límite superior elementos combustibles\n",
    "s_z5 = openmc.ZPlane(z0=203.0, surface_id=35) # Límite superior cabezal superior\n",
    "s_z6 = openmc.ZPlane(z0=215.0, surface_id=36) # Límite superior plenum superior\n",
    "s_z7 = openmc.ZPlane(z0=223.0, surface_id=37, boundary_type='vacuum') # Límite superior vasija"
   ]
  },
  {
   "cell_type": "markdown",
   "id": "617f14cf-5feb-4a20-a548-53bac59d0654",
   "metadata": {},
   "source": [
    "### Regiones"
   ]
  },
  {
   "cell_type": "markdown",
   "id": "5cd36cac-a624-4a60-9d9b-ac4017e457e9",
   "metadata": {},
   "source": [
    "**Varillas de combustible:**"
   ]
  },
  {
   "cell_type": "code",
   "execution_count": 26,
   "id": "ee6e14c4-59fc-4046-8ae1-f3b703a35610",
   "metadata": {},
   "outputs": [],
   "source": [
    "# La región de combustible se define como el espacio interior delimitado por la superficie del combustible\n",
    "fuel_region = -s_fuel\n",
    "\n",
    "# La región de gap, se define como el espacio entre la superficie externa del combustible y la superficie interna del revestimiento\n",
    "gap_region = +s_fuel & -s_rev_int\n",
    "\n",
    "# La región del revestimiento se define como el espacio interior entre las dos superficies del revestimiento (interna y externa)\n",
    "clad_region = +s_rev_int & -s_rev_ext\n",
    "\n",
    "# La región del refrigerante se define como todo el espacio exterior al radio externo del revestimiento\n",
    "water_region = +s_rev_ext"
   ]
  },
  {
   "cell_type": "markdown",
   "id": "5bdf08f9-165d-40e1-9c94-7d79dc65d185",
   "metadata": {},
   "source": [
    "**Tubos guía / instrumentación:**"
   ]
  },
  {
   "cell_type": "code",
   "execution_count": 27,
   "id": "a3019db7-9aaa-42e7-837b-1f73fc1453fa",
   "metadata": {},
   "outputs": [],
   "source": [
    "# La región de agua interior del tubo guía se define como el espacio interior delimitado por la superficie interior\n",
    "water_region_itg = -s_tgi\n",
    "\n",
    "# La región del revestimiento del tubo guía se encuentra entre los diámetros menor y mayor del revestimiento\n",
    "clad_region_tg = +s_tgi & -s_tge\n",
    "\n",
    "# La región de agua exterior del tubo guía se define como el espacio exterior al diámetro mayor\n",
    "water_region_etg = +s_tge"
   ]
  },
  {
   "cell_type": "markdown",
   "id": "a2fd81dd-2709-42ec-a530-bb6399b245dc",
   "metadata": {},
   "source": [
    "### Celdas y Universos"
   ]
  },
  {
   "cell_type": "markdown",
   "id": "da49b4b8-6f5a-4587-b5b8-e72eecca0c35",
   "metadata": {},
   "source": [
    "Una vez definidas las regiones, es necesario definir qué materiales las forman, eso se hace mediante celdas.<br>\n",
    "Las celdas se agrupan en universos, que pueden emplearse como unidades repetitivas. Por ello, y para facilitar la construcción de la geometría, se van a crear universos para las distintas varillas de combustible (para varios enriquecimientos y composiciones) y tubos guía."
   ]
  },
  {
   "cell_type": "markdown",
   "id": "6ad363f0-4e55-409d-ab9d-4d11af92e373",
   "metadata": {},
   "source": [
    "**Tubo guía**"
   ]
  },
  {
   "cell_type": "code",
   "execution_count": 28,
   "id": "bf0cdd30-9333-4bc7-a2d6-ac8e2d7d2e35",
   "metadata": {},
   "outputs": [],
   "source": [
    "tube = openmc.Universe(name='Tubo guía / instrumentación', universe_id=100)\n",
    "c20 = openmc.Cell(cell_id=20, fill=water, region=water_region_itg)\n",
    "c21 = openmc.Cell(cell_id=21, fill=clad, region=clad_region_tg)\n",
    "c22 = openmc.Cell(cell_id=22, fill=water, region=water_region_etg)\n",
    "tube.add_cells((c20, c21, c22))"
   ]
  },
  {
   "cell_type": "markdown",
   "id": "01037e6c-1e53-4d47-aa9d-baf2a249b4c5",
   "metadata": {},
   "source": [
    "**Varilla de combustible de bajo enriquecimiento:**"
   ]
  },
  {
   "cell_type": "code",
   "execution_count": 29,
   "id": "69b323ef-b735-4559-b3a4-857849562b01",
   "metadata": {},
   "outputs": [],
   "source": [
    "ufuel_le = openmc.Universe(name='Varilla combustible Low Enrichment%', universe_id=101)\n",
    "c23 = openmc.Cell(cell_id=23, fill=fuel_uo2_le, region=fuel_region)\n",
    "c24 = openmc.Cell(cell_id=24, region=gap_region)\n",
    "c25 = openmc.Cell(cell_id=25, fill=clad, region=clad_region)\n",
    "c26 = openmc.Cell(cell_id=26, fill=water, region=water_region)\n",
    "ufuel_le.add_cells((c23, c24, c25, c26))"
   ]
  },
  {
   "cell_type": "markdown",
   "id": "76735529-66d8-4fc7-b69b-96e99bb10dee",
   "metadata": {},
   "source": [
    "**Varilla de combustible de medio enriquecimiento:**"
   ]
  },
  {
   "cell_type": "code",
   "execution_count": 30,
   "id": "c5c29d61-3a9c-43c1-93d2-8f6552515e22",
   "metadata": {},
   "outputs": [],
   "source": [
    "ufuel_me = openmc.Universe(name='Varilla combustible Mid Enrichment%', universe_id=102)\n",
    "c27 = openmc.Cell(cell_id=27, fill=fuel_uo2_me, region=fuel_region)\n",
    "c28 = openmc.Cell(cell_id=28, region=gap_region)\n",
    "c29 = openmc.Cell(cell_id=29, fill=clad, region=clad_region)\n",
    "c30 = openmc.Cell(cell_id=30, fill=water, region=water_region)\n",
    "ufuel_me.add_cells((c27, c28, c29, c30))"
   ]
  },
  {
   "cell_type": "markdown",
   "id": "a783a7ac-0951-4b99-aea5-60ce431cb2b6",
   "metadata": {},
   "source": [
    "**Varilla de combustible de alto enriquecimiento:**"
   ]
  },
  {
   "cell_type": "code",
   "execution_count": 31,
   "id": "35fa18ff-dcc7-4f93-aea5-95f8b1966808",
   "metadata": {},
   "outputs": [],
   "source": [
    "ufuel_he = openmc.Universe(name='Varilla combustible High Enrichment%', universe_id=103)\n",
    "c31 = openmc.Cell(cell_id=31, fill=fuel_uo2_he, region=fuel_region)\n",
    "c32 = openmc.Cell(cell_id=32, region=gap_region)\n",
    "c33 = openmc.Cell(cell_id=33, fill=clad, region=clad_region)\n",
    "c34 = openmc.Cell(cell_id=34, fill=water, region=water_region)\n",
    "ufuel_he.add_cells((c31, c32, c33, c34))"
   ]
  },
  {
   "cell_type": "markdown",
   "id": "b59515f7-008e-434b-9f0c-8fdab2072ab2",
   "metadata": {},
   "source": [
    "**Varilla de gadolinio:**"
   ]
  },
  {
   "cell_type": "code",
   "execution_count": 32,
   "id": "47167018-33e6-4eca-b966-4d0a323f6715",
   "metadata": {},
   "outputs": [],
   "source": [
    "u_gadolinio = openmc.Universe(name='Varilla con veneno consumible%', universe_id=104)\n",
    "c35 = openmc.Cell(cell_id=35, fill=Gd2O3, region=fuel_region)\n",
    "c36 = openmc.Cell(cell_id=36, region=gap_region)\n",
    "c37 = openmc.Cell(cell_id=37, fill=clad, region=clad_region)\n",
    "c38 = openmc.Cell(cell_id=38, fill=water, region=water_region)\n",
    "u_gadolinio.add_cells((c35, c36, c37, c38))"
   ]
  },
  {
   "cell_type": "markdown",
   "id": "292018fd-336e-467c-8d15-de6add638a28",
   "metadata": {},
   "source": [
    "**Varilla de combustible de bajo enriquecimiento con gadolinio:**"
   ]
  },
  {
   "cell_type": "code",
   "execution_count": 33,
   "id": "45930b7b-1a96-4ab1-b7e8-1a397c36095e",
   "metadata": {},
   "outputs": [],
   "source": [
    "ufuel_lbp = openmc.Universe(name='Varilla combustible Low Enrichment con veneno consumible%', universe_id=105)\n",
    "c39 = openmc.Cell(cell_id=39, fill=fuel_uo2_lbp, region=fuel_region)\n",
    "c40 = openmc.Cell(cell_id=40, region=gap_region)\n",
    "c41 = openmc.Cell(cell_id=41, fill=clad, region=clad_region)\n",
    "c42 = openmc.Cell(cell_id=42, fill=water, region=water_region)\n",
    "ufuel_lbp.add_cells((c39, c40, c41, c42))"
   ]
  },
  {
   "cell_type": "markdown",
   "id": "22f731f3-d0e9-4d5a-971a-97b3ef263d8d",
   "metadata": {},
   "source": [
    "**Varilla de combustible de medio enriquecimiento con gadolinio:**"
   ]
  },
  {
   "cell_type": "code",
   "execution_count": 34,
   "id": "463b14f5-7d20-4b47-acfe-c7c7d6bb7855",
   "metadata": {},
   "outputs": [],
   "source": [
    "ufuel_mbp = openmc.Universe(name='Varilla combustible Mid Enrichment con veneno consumible%', universe_id=106)\n",
    "c43 = openmc.Cell(cell_id=43, fill=fuel_uo2_mbp, region=fuel_region)\n",
    "c44 = openmc.Cell(cell_id=44, region=gap_region)\n",
    "c45 = openmc.Cell(cell_id=45, fill=clad, region=clad_region)\n",
    "c46 = openmc.Cell(cell_id=46, fill=water, region=water_region)\n",
    "ufuel_mbp.add_cells((c43, c44, c45, c46))"
   ]
  },
  {
   "cell_type": "markdown",
   "id": "9efbbb9f-0d01-4885-9c7f-0a51b6ba0b02",
   "metadata": {},
   "source": [
    "**Varilla de combustible de alto enriquecimiento con gadolinio:**"
   ]
  },
  {
   "cell_type": "code",
   "execution_count": 35,
   "id": "4a8cf4d7-ef91-47ce-a97f-b2bfea469cf2",
   "metadata": {},
   "outputs": [],
   "source": [
    "ufuel_hbp = openmc.Universe(name='Varilla combustible High Enrichment con veneno consumible%', universe_id=107)\n",
    "c47 = openmc.Cell(cell_id=47, fill=fuel_uo2_hbp, region=fuel_region)\n",
    "c48 = openmc.Cell(cell_id=48, region=gap_region)\n",
    "c49 = openmc.Cell(cell_id=49, fill=clad, region=clad_region)\n",
    "c50 = openmc.Cell(cell_id=50, fill=water, region=water_region)\n",
    "ufuel_hbp.add_cells((c47, c48, c49, c50))"
   ]
  },
  {
   "cell_type": "markdown",
   "id": "a1d967af-350a-4836-9f23-46b26a4b3b2c",
   "metadata": {},
   "source": [
    "Se definen dos listas con las posiciones (x, y) de los tubos guía dentro del elemento combustible"
   ]
  },
  {
   "cell_type": "code",
   "execution_count": 36,
   "id": "5a2684f6-055f-4274-9c1d-6ae705cf7e29",
   "metadata": {},
   "outputs": [],
   "source": [
    "tube_x = np.array([5, 8, 11, 3, 13, 2, 5, 8, 11, 14, 2, 5, 8, 11, 14, 2, 5, 8, 11, 14, 3, 13, 5, 8, 11])\n",
    "tube_y = np.array([2, 2, 2, 3, 3, 5, 5, 5, 5, 5, 8, 8, 8, 8, 8, 11, 11, 11, 11, 11, 13, 13, 14, 14, 14])"
   ]
  },
  {
   "cell_type": "markdown",
   "id": "91eacacf-ed03-4a23-bf97-0dfd81024b23",
   "metadata": {},
   "source": [
    "Se definen varias listas con las posiciones (x, y) de los distintos números de varillas con veneno consumible:"
   ]
  },
  {
   "cell_type": "code",
   "execution_count": 37,
   "id": "fbe2cea9-82df-4ed1-8574-dbe8669e657c",
   "metadata": {},
   "outputs": [],
   "source": [
    "bp28_x = np.array([0, 1, 15, 16, 0, 16, 6, 10, 4, 12, 2, 14, 7, 9, 7, 9, 2, 14, 4 ,12, 6, 10, 0, 16, 0, 1, 15, 16])\n",
    "bp28_y = np.array([0, 0, 0, 0, 1, 1, 2, 2, 4, 4, 6, 6, 7, 7, 9, 9, 10, 10, 12, 12, 14, 14, 15, 15, 16, 16, 16, 16])"
   ]
  },
  {
   "cell_type": "code",
   "execution_count": 38,
   "id": "0704ec3c-a3c1-4105-8177-60a7f5f6fe0d",
   "metadata": {},
   "outputs": [],
   "source": [
    "bp44_x = np.array([0, 1, 15, 16, 0, 5, 11, 16, 4, 8, 12, 3, 13, 1, 6, 10, 15, 5, 8, 11, 3, 6, 10, 13, 5, 8, 11, 1, 6, 10, 15, 3, 13, 4, 8, 12, 0, 5, 11, 16, 0, 1, 15, 16])\n",
    "bp44_y = np.array([0, 0, 0, 0, 1, 1, 1, 1, 3, 3, 3, 4, 4, 5, 5, 5, 5, 6, 6, 6, 8, 8, 8, 8, 10, 10, 10, 11, 11, 11, 11, 12, 12, 13, 13, 13, 15, 15, 15, 15, 16, 16, 16, 16])"
   ]
  },
  {
   "cell_type": "code",
   "execution_count": 39,
   "id": "64089e8e-b8f3-4966-a25d-0c032f7cb0d9",
   "metadata": {},
   "outputs": [],
   "source": [
    "bp72_x = np.array([0, 1, 15, 16, 0, 5, 8, 11, 16, 4, 7, 9, 12, 4, 12, 2, 3, 5, 8, 11, 13, 14, 1, 4, 7, 9, 12, 15, 2, 5, 8, 11, 14, 1, 4, 7, 9, 12, 15, 2, 5, 8, 11, 14, 1, 4, 7, 9, 12, 15, 2, 3, 5, 8, 11, 13, 14, 4, 12, 4, 7, 9, 12, 0, 5, 8, 11, 16, 0, 1, 15, 16])\n",
    "bp72_y = np.array([0, 0, 0, 0, 1, 1, 1, 1, 1, 2, 2, 2, 2, 3, 3, 4, 4, 4, 4, 4, 4, 4, 5, 5, 5, 5, 5, 5, 7, 7, 7, 7, 7, 8, 8, 8, 8, 8, 8, 9, 9, 9, 9, 9, 11, 11, 11, 11, 11, 11, 12, 12, 12, 12, 12, 12, 12, 13, 13, 14, 14, 14, 14, 15, 15, 15, 15, 15, 16, 16, 16, 16])"
   ]
  },
  {
   "cell_type": "code",
   "execution_count": 40,
   "id": "89eabd2a-f2df-4451-aa8b-7315031d3980",
   "metadata": {},
   "outputs": [],
   "source": [
    "bp88_x = np.array([0, 1, 15, 16, 0, 5, 8, 11, 16, 2, 4, 7, 9, 12, 14, 4, 5, 11, 12, 2, 3, 5, 8, 11, 13, 14, 1, 3, 4, 7, 9, 12, 13, 15, 6, 10, 2, 5, 8, 11, 14, 1, 4, 7, 9, 12, 15, 2, 5, 8, 11, 14, 6, 10, 1, 3, 4, 7, 9, 12, 13, 15, 2, 3, 5, 8, 11, 13, 14, 4, 5, 11, 12, 2, 4, 7, 9, 12, 14, 0, 5, 8, 11, 15, 0, 1, 15, 16])\n",
    "bp88_y = np.array([0, 0, 0, 0, 1, 1, 1, 1, 1, 2, 2, 2, 2, 2, 2, 3, 3, 3, 3, 4, 4, 4, 4, 4, 4, 4, 5, 5, 5, 5, 5, 5, 5, 5, 6, 6, 7, 7, 7, 7, 7, 8, 8, 8, 8, 8, 8, 9, 9, 9, 9, 9, 10, 10, 11, 11, 11, 11, 11, 11, 11, 11, 12, 12, 12, 12, 12, 12, 12, 13, 13, 13, 13, 14, 14, 14, 14, 14, 14, 15, 15, 15, 15, 15, 16, 16, 16, 16])"
   ]
  },
  {
   "cell_type": "code",
   "execution_count": 41,
   "id": "3dd58205-216c-4b2d-a6b3-c554a26abc4b",
   "metadata": {},
   "outputs": [],
   "source": [
    "bp112_x = np.array([0, 1, 15, 16, 0, 5, 8, 11, 16, 3, 4, 6, 7, 9, 10, 12, 13, 2, 4, 5, 8, 11, 12, 14, 2, 3, 5, 8, 11, 13, 14, 1, 3, 4, 6, 7, 9, 10, 12, 13, 15, 2, 5, 8, 11, 14, 2, 5, 8, 11, 14, 1, 3, 4, 6, 7, 9, 10, 12, 13, 15, 2, 5, 8, 11, 14, 2, 5, 8, 11, 14, 1, 3, 4, 6, 7, 9, 10, 12, 13, 15, 2, 3, 5, 8, 11, 13, 14, 2, 4, 5, 8, 11, 12, 14, 3, 4, 6, 7, 9, 10, 12, 13, 0, 5, 8, 11, 16, 0, 1, 15, 16])\n",
    "bp112_y = np.array([0, 0, 0, 0, 1, 1, 1, 1, 1, 2, 2, 2, 2, 2, 2, 2, 2, 3, 3, 3, 3, 3, 3, 3, 4, 4, 4, 4, 4, 4, 4, 5, 5, 5, 5, 5, 5, 5, 5, 5, 5, 6, 6, 6, 6, 6, 7, 7, 7, 7, 7, 8, 8, 8, 8, 8, 8, 8, 8, 8, 8, 9, 9, 9, 9, 9, 10, 10, 10, 10, 10, 11, 11, 11, 11, 11, 11, 11, 11, 11, 11, 12, 12, 12, 12, 12, 12, 12, 13, 13, 13, 13, 13, 13, 13, 14, 14, 14, 14, 14, 14, 14, 14, 15, 15, 15, 15, 15, 16, 16, 16, 16])"
   ]
  },
  {
   "cell_type": "markdown",
   "id": "d0da1d38-48ad-4550-8615-f8560cbe9c29",
   "metadata": {},
   "source": [
    "Se define el elemento combustible empleando la clase *Lattice*.<br>\n",
    "Para ello, se definen:<br>\n",
    "-  *lower_left*: coordenada (x, y) de la esquina inferior derecha del patrón. Se calcula mediante el *pitch assembly*.\n",
    "-  *pitch*: distancia entre centros de las varillas de combustible.<br>\n",
    "\n",
    "Posteriormente se genera la matriz de 17x17 varillas de combustible y se sustituyen por tubos guía en las posiciones indicadas en las listas anteriores."
   ]
  },
  {
   "cell_type": "markdown",
   "id": "6a724743-7e20-459c-91bb-744161e2fc42",
   "metadata": {},
   "source": [
    "__*Lattice elemento combustible bajo enriquecimiento*__:"
   ]
  },
  {
   "cell_type": "code",
   "execution_count": 42,
   "id": "071cfc39-335a-496a-a1d4-e079aa6688fe",
   "metadata": {},
   "outputs": [],
   "source": [
    "lec_le = openmc.RectLattice(name='Lattice Elemento combustible Bajo Enriquecimiento%', lattice_id=1001)\n",
    "lec_le.lower_left = (-pitch_assembly/2, -pitch_assembly/2)\n",
    "lec_le.pitch = (pitch, pitch)\n",
    "lec_le.universes = np.tile(ufuel_le, (17, 17))\n",
    "lec_le.universes[tube_x, tube_y] = tube"
   ]
  },
  {
   "cell_type": "markdown",
   "id": "063211bc-b7ef-47e9-b476-c5b70b7c78e6",
   "metadata": {},
   "source": [
    "__*Lattice elemento combustible medio enriquecimiento*__:"
   ]
  },
  {
   "cell_type": "code",
   "execution_count": 43,
   "id": "f736834c-c6f9-4077-9bca-638f42c8775d",
   "metadata": {},
   "outputs": [],
   "source": [
    "lec_me = openmc.RectLattice(name='Lattice Elemento combustible Medio Enriquecimiento%', lattice_id=1002)\n",
    "lec_me.lower_left = (-pitch_assembly/2, -pitch_assembly/2)\n",
    "lec_me.pitch = (pitch, pitch)\n",
    "lec_me.universes = np.tile(ufuel_me, (17, 17))\n",
    "lec_me.universes[tube_x, tube_y] = tube"
   ]
  },
  {
   "cell_type": "markdown",
   "id": "c2669b22-2696-478f-aa0a-5b0ffcb38025",
   "metadata": {},
   "source": [
    "__*Lattice elemento combustible alto enriquecimiento*__:"
   ]
  },
  {
   "cell_type": "code",
   "execution_count": 44,
   "id": "2c48eb88-6d6a-4680-bf13-e2b38059dc1b",
   "metadata": {},
   "outputs": [],
   "source": [
    "lec_he = openmc.RectLattice(name='Lattice Elemento combustible Alto Enriquecimiento', lattice_id=1003)\n",
    "lec_he.lower_left = (-pitch_assembly/2, -pitch_assembly/2)\n",
    "lec_he.pitch = (pitch, pitch)\n",
    "lec_he.universes = np.tile(ufuel_he, (17, 17))\n",
    "lec_he.universes[tube_x, tube_y] = tube"
   ]
  },
  {
   "cell_type": "markdown",
   "id": "baa48657-382a-449b-bf4e-23948459637a",
   "metadata": {},
   "source": [
    "__*Lattice elemento combustible bajo enriquecimiento con gadolinio*__ (28 varillas):"
   ]
  },
  {
   "cell_type": "code",
   "execution_count": 45,
   "id": "0b3531eb-ef3b-4726-bc50-6bd53a039d7e",
   "metadata": {},
   "outputs": [],
   "source": [
    "lec_lbp = openmc.RectLattice(name='Lattice Elemento combustible Bajo Enriquecimiento con Gd2O3', lattice_id=1004)\n",
    "lec_lbp.lower_left = (-pitch_assembly/2, -pitch_assembly/2)\n",
    "lec_lbp.pitch = (pitch, pitch)\n",
    "lec_lbp.universes = np.tile(ufuel_le, (17, 17))\n",
    "lec_lbp.universes[tube_x, tube_y] = tube\n",
    "lec_lbp.universes[bp28_x, bp28_y] = ufuel_lbp"
   ]
  },
  {
   "cell_type": "markdown",
   "id": "9d2f7def-f667-4f9a-bdba-92e197c9714a",
   "metadata": {},
   "source": [
    "__*Lattice elemento combustible medio enriquecimiento con gadolinio*__ (28 varillas):"
   ]
  },
  {
   "cell_type": "code",
   "execution_count": 46,
   "id": "af0427cd-014c-4b3a-b7ea-24821b8043f5",
   "metadata": {},
   "outputs": [],
   "source": [
    "lec_mbp28 = openmc.RectLattice(name='Lattice Elemento combustible Medio Enriquecimiento con Gd2O3', lattice_id=1005)\n",
    "lec_mbp28.lower_left = (-pitch_assembly/2, -pitch_assembly/2)\n",
    "lec_mbp28.pitch = (pitch, pitch)\n",
    "lec_mbp28.universes = np.tile(ufuel_me, (17, 17))\n",
    "lec_mbp28.universes[tube_x, tube_y] = tube\n",
    "lec_mbp28.universes[bp28_x, bp28_y] = ufuel_mbp"
   ]
  },
  {
   "cell_type": "markdown",
   "id": "e3287ba3-8ac7-43b8-b7ba-bc9d3eda2855",
   "metadata": {},
   "source": [
    "__*Lattice elemento combustible medio enriquecimiento con gadolinio*__ (44 varillas):"
   ]
  },
  {
   "cell_type": "code",
   "execution_count": 47,
   "id": "72d38408-4558-40de-9397-f987676f537e",
   "metadata": {},
   "outputs": [],
   "source": [
    "lec_mbp44 = openmc.RectLattice(name='Lattice Elemento combustible Medio Enriquecimiento con Gd2O3', lattice_id=1006)\n",
    "lec_mbp44.lower_left = (-pitch_assembly/2, -pitch_assembly/2)\n",
    "lec_mbp44.pitch = (pitch, pitch)\n",
    "lec_mbp44.universes = np.tile(ufuel_me, (17, 17))\n",
    "lec_mbp44.universes[tube_x, tube_y] = tube\n",
    "lec_mbp44.universes[bp44_x, bp44_y] = ufuel_mbp"
   ]
  },
  {
   "cell_type": "markdown",
   "id": "deab93f8-4cc8-4866-bd3d-9e3aad22f975",
   "metadata": {},
   "source": [
    "__*Lattice elemento combustible medio enriquecimiento con gadolinio*__ (88 varillas):"
   ]
  },
  {
   "cell_type": "code",
   "execution_count": 48,
   "id": "28db3239-c105-4591-8c3f-27657424388b",
   "metadata": {},
   "outputs": [],
   "source": [
    "lec_mbp88 = openmc.RectLattice(name='Lattice Elemento combustible Medio Enriquecimiento con Gd2O3', lattice_id=1007)\n",
    "lec_mbp88.lower_left = (-pitch_assembly/2, -pitch_assembly/2)\n",
    "lec_mbp88.pitch = (pitch, pitch)\n",
    "lec_mbp88.universes = np.tile(ufuel_me, (17, 17))\n",
    "lec_mbp88.universes[tube_x, tube_y] = tube\n",
    "lec_mbp88.universes[bp88_x, bp88_y] = ufuel_mbp"
   ]
  },
  {
   "cell_type": "markdown",
   "id": "bea7dadd-b2c0-4b07-9fa6-27f0ece53524",
   "metadata": {},
   "source": [
    "__*Lattice elemento combustible alto enriquecimiento con gadolinio*__ (72 varillas):"
   ]
  },
  {
   "cell_type": "code",
   "execution_count": 49,
   "id": "3f3d987c-0e54-4ebc-ae3d-eb6215fffd7d",
   "metadata": {},
   "outputs": [],
   "source": [
    "lec_hbp72 = openmc.RectLattice(name='Lattice Elemento combustible Alto Enriquecimiento con Gd2O3', lattice_id=1008)\n",
    "lec_hbp72.lower_left = (-pitch_assembly/2, -pitch_assembly/2)\n",
    "lec_hbp72.pitch = (pitch, pitch)\n",
    "lec_hbp72.universes = np.tile(ufuel_he, (17, 17))\n",
    "lec_hbp72.universes[tube_x, tube_y] = tube\n",
    "lec_hbp72.universes[bp72_x, bp72_y] = ufuel_hbp"
   ]
  },
  {
   "cell_type": "markdown",
   "id": "053f0be0-cd9a-42cb-bfb4-82323b6de0c9",
   "metadata": {},
   "source": [
    "__*Lattice elemento combustible alto enriquecimiento con gadolinio*__ (88 varillas):"
   ]
  },
  {
   "cell_type": "code",
   "execution_count": 50,
   "id": "0faff294-b306-4a4e-8195-c7e6b87d50dd",
   "metadata": {},
   "outputs": [],
   "source": [
    "lec_hbp88 = openmc.RectLattice(name='Lattice Elemento combustible Alto Enriquecimiento con Gd2O3', lattice_id=1009)\n",
    "lec_hbp88.lower_left = (-pitch_assembly/2, -pitch_assembly/2)\n",
    "lec_hbp88.pitch = (pitch, pitch)\n",
    "lec_hbp88.universes = np.tile(ufuel_he, (17, 17))\n",
    "lec_hbp88.universes[tube_x, tube_y] = tube\n",
    "lec_hbp88.universes[bp88_x, bp88_y] = ufuel_hbp"
   ]
  },
  {
   "cell_type": "markdown",
   "id": "d7dbc1bc-d4d4-4955-bd66-e5cab3240d0b",
   "metadata": {},
   "source": [
    "__*Lattice elemento combustible alto enriquecimiento con gadolinio*__ (112 varillas):"
   ]
  },
  {
   "cell_type": "code",
   "execution_count": 51,
   "id": "fb8d2398-96d2-4592-968d-466f96b828e4",
   "metadata": {},
   "outputs": [],
   "source": [
    "lec_hbp112 = openmc.RectLattice(name='Lattice Elemento combustible Alto Enriquecimiento con Gd2O3', lattice_id=1010)\n",
    "lec_hbp112.lower_left = (-pitch_assembly/2, -pitch_assembly/2)\n",
    "lec_hbp112.pitch = (pitch, pitch)\n",
    "lec_hbp112.universes = np.tile(ufuel_he, (17, 17))\n",
    "lec_hbp112.universes[tube_x, tube_y] = tube\n",
    "lec_hbp112.universes[bp112_x, bp112_y] = ufuel_hbp"
   ]
  },
  {
   "cell_type": "markdown",
   "id": "2cf076e0-6e00-4bdb-960a-19aa1c94d23f",
   "metadata": {},
   "source": [
    "Se definen los diferentes *assemblys* que forman el núcleo.<br>\n",
    "Dentro del núcleo, en la periferia, habrá zonas en las que no haya elementos combustibles, por lo que se rellenan con agua:"
   ]
  },
  {
   "cell_type": "code",
   "execution_count": 52,
   "id": "e6a66e56-6890-4e5f-86a4-53e54ff21c8b",
   "metadata": {},
   "outputs": [],
   "source": [
    "fa_w = openmc.Universe(name='Elemento agua', universe_id=270)\n",
    "c150 = openmc.Cell(cell_id=150, fill=water, region=+s_z3 & -s_z4)\n",
    "fa_w.add_cell(c150)"
   ]
  },
  {
   "cell_type": "markdown",
   "id": "68e19182-de9c-4c19-b04d-36561614f4f9",
   "metadata": {},
   "source": [
    "Los elementos combustibles se construyen a partir de la matriz 17x17 definida anteriormente."
   ]
  },
  {
   "cell_type": "markdown",
   "id": "44398f49-6619-4dc6-882d-6c2a360a937d",
   "metadata": {},
   "source": [
    "**Elemento combustible bajo enriquecimiento**"
   ]
  },
  {
   "cell_type": "code",
   "execution_count": 53,
   "id": "f4bf7c33-5cf6-4325-b5c7-cb909faa42bd",
   "metadata": {},
   "outputs": [],
   "source": [
    "fa_le = openmc.Universe(name='Elemento combustible Bajo Enriquecimiento', universe_id=271)\n",
    "c151 = openmc.Cell(cell_id=151, fill=lec_le, region=+s_z3 & -s_z4)\n",
    "fa_le.add_cell(c151)"
   ]
  },
  {
   "cell_type": "markdown",
   "id": "f94c72e3-0105-432b-99ac-2da748c7c738",
   "metadata": {},
   "source": [
    "**Elemento combustible medio enriquecimiento**"
   ]
  },
  {
   "cell_type": "code",
   "execution_count": 54,
   "id": "d53c4494-38bb-4871-a2c0-5c0eba9dd3b2",
   "metadata": {},
   "outputs": [],
   "source": [
    "fa_me = openmc.Universe(name='Elemento combustible Medio Enriquecimiento', universe_id=272)\n",
    "c152 = openmc.Cell(cell_id=152, fill=lec_me, region=+s_z3 & -s_z4)\n",
    "fa_me.add_cell(c152)"
   ]
  },
  {
   "cell_type": "markdown",
   "id": "807466c7-4fb3-476e-b456-9bcc1497d3c1",
   "metadata": {},
   "source": [
    "**Elemento combustible alto enriquecimiento**"
   ]
  },
  {
   "cell_type": "code",
   "execution_count": 55,
   "id": "a2bab373-ad89-4ec7-b96d-de898f083922",
   "metadata": {},
   "outputs": [],
   "source": [
    "fa_he = openmc.Universe(name='Elemento combustible Alto Enriquecimiento', universe_id=273)\n",
    "c153 = openmc.Cell(cell_id=153, fill=lec_he, region=+s_z3 & -s_z4)\n",
    "fa_he.add_cell(c153)"
   ]
  },
  {
   "cell_type": "markdown",
   "id": "595b0f4d-bf04-4f73-b4b7-19ff7b000630",
   "metadata": {},
   "source": [
    "**Elemento combustible bajo enriquecimiento con gadolinio** (28 varillas)"
   ]
  },
  {
   "cell_type": "code",
   "execution_count": 56,
   "id": "ebcd697f-ce92-459e-9e1d-88a70013f5fb",
   "metadata": {},
   "outputs": [],
   "source": [
    "fa_lbp = openmc.Universe(name='Elemento combustible Bajo Enriquecimiento con Gd2O3', universe_id=274)\n",
    "c154 = openmc.Cell(cell_id=154, fill=lec_lbp, region=+s_z3 & -s_z4)\n",
    "fa_lbp.add_cell(c154)"
   ]
  },
  {
   "cell_type": "markdown",
   "id": "6d3a1107-52af-49e2-9775-b38861168182",
   "metadata": {},
   "source": [
    "**Elemento combustible medio enriquecimiento con gadolinio** (28 varillas)"
   ]
  },
  {
   "cell_type": "code",
   "execution_count": 57,
   "id": "9fdc9000-6884-4a5f-8ed9-73e4080613f2",
   "metadata": {},
   "outputs": [],
   "source": [
    "fa_mbp28 = openmc.Universe(name='Elemento combustible Medio Enriquecimiento con Gd2O3', universe_id=275)\n",
    "c155 = openmc.Cell(cell_id=155, fill=lec_mbp28, region=+s_z3 & -s_z4)\n",
    "fa_mbp28.add_cell(c155)"
   ]
  },
  {
   "cell_type": "markdown",
   "id": "d455d5e0-040a-40fd-8cc1-2b0eb517f77e",
   "metadata": {},
   "source": [
    "**Elemento combustible medio enriquecimiento con gadolinio** (44 varillas)"
   ]
  },
  {
   "cell_type": "code",
   "execution_count": 58,
   "id": "822fd94c-3d51-4998-b758-0c0686260785",
   "metadata": {},
   "outputs": [],
   "source": [
    "fa_mbp44 = openmc.Universe(name='Elemento combustible Medio Enriquecimiento con Gd2O3', universe_id=276)\n",
    "c156 = openmc.Cell(cell_id=156, fill=lec_mbp44, region=+s_z3 & -s_z4)\n",
    "fa_mbp44.add_cell(c156)"
   ]
  },
  {
   "cell_type": "markdown",
   "id": "37634ce1-28e6-4ae9-85dd-71d7dbdfc366",
   "metadata": {},
   "source": [
    "**Elemento combustible medio enriquecimiento con gadolinio** (88 varillas)"
   ]
  },
  {
   "cell_type": "code",
   "execution_count": 59,
   "id": "487cb3a1-03f7-42a0-ae04-8de42ee21d30",
   "metadata": {},
   "outputs": [],
   "source": [
    "fa_mbp88 = openmc.Universe(name='Elemento combustible Medio Enriquecimiento con Gd2O3', universe_id=277)\n",
    "c157 = openmc.Cell(cell_id=157, fill=lec_mbp88, region=+s_z3 & -s_z4)\n",
    "fa_mbp88.add_cell(c157)"
   ]
  },
  {
   "cell_type": "markdown",
   "id": "06ea3abf-162b-4908-b99d-55756e289ac0",
   "metadata": {},
   "source": [
    "**Elemento combustible alto enriquecimiento con gadolinio** (72 varillas)"
   ]
  },
  {
   "cell_type": "code",
   "execution_count": 60,
   "id": "04184e44-3606-4d90-b2f3-0eb3e379171d",
   "metadata": {},
   "outputs": [],
   "source": [
    "fa_hbp72 = openmc.Universe(name='Elemento combustible Alto Enriquecimiento con Gd2O3', universe_id=278)\n",
    "c158 = openmc.Cell(cell_id=158, fill=lec_hbp72, region=+s_z3 & -s_z4)\n",
    "fa_hbp72.add_cell(c158)"
   ]
  },
  {
   "cell_type": "markdown",
   "id": "c561cda8-8efc-4080-b2c4-04c49207a132",
   "metadata": {},
   "source": [
    "**Elemento combustible alto enriquecimiento con gadolinio** (88 varillas)"
   ]
  },
  {
   "cell_type": "code",
   "execution_count": 61,
   "id": "7f5ea045-fb1c-4fb3-812d-d443c066bdc2",
   "metadata": {},
   "outputs": [],
   "source": [
    "fa_hbp88 = openmc.Universe(name='Elemento combustible Alto Enriquecimiento con Gd2O3', universe_id=279)\n",
    "c159 = openmc.Cell(cell_id=159, fill=lec_hbp88, region=+s_z3 & -s_z4)\n",
    "fa_hbp88.add_cell(c159)"
   ]
  },
  {
   "cell_type": "markdown",
   "id": "f4fc8974-3c9c-4da9-936d-43695f3769af",
   "metadata": {},
   "source": [
    "**Elemento combustible alto enriquecimiento con gadolinio** (112 varillas)"
   ]
  },
  {
   "cell_type": "code",
   "execution_count": 62,
   "id": "5fa99317-4666-413c-bd49-d8fc5cae23b4",
   "metadata": {},
   "outputs": [],
   "source": [
    "fa_hbp112 = openmc.Universe(name='Elemento combustible Alto Enriquecimiento con Gd2O3', universe_id=280)\n",
    "c160 = openmc.Cell(cell_id=160, fill=lec_hbp112, region=+s_z3 & -s_z4)\n",
    "fa_hbp112.add_cell(c160)"
   ]
  },
  {
   "cell_type": "markdown",
   "id": "cc177a7c-56f8-4077-859e-79d5ce7aaf26",
   "metadata": {},
   "source": [
    "Para definir la distribución del núcleo, generamos una nueva *Lattice* y se construye el mapa a partir de los elementos combustibles y el agua."
   ]
  },
  {
   "cell_type": "code",
   "execution_count": 63,
   "id": "240ceb3b-55ee-4f19-9f33-fb03e4bff52f",
   "metadata": {},
   "outputs": [],
   "source": [
    "# Patrón sin barras de gadolinio\n",
    "l200 = openmc.RectLattice(name='Core lattice', lattice_id=200)\n",
    "xy_lower_left = (pitch_assembly * 19)/2\n",
    "l200.lower_left = (-xy_lower_left, -xy_lower_left)\n",
    "l200.pitch = (pitch_assembly, pitch_assembly)\n",
    "l200.universes = [\n",
    "    [fa_w]*19,\n",
    "    [fa_w]*19,\n",
    "    [fa_w]*8 + [fa_he]*3 + [fa_w]*8,\n",
    "    [fa_w]*6 + [fa_he]*3 + [fa_le] + [fa_he]*3 + [fa_w]*6,\n",
    "    [fa_w]*5 + [fa_he]*2 + [fa_me] + [fa_le] + [fa_me] + [fa_le] + [fa_me] + [fa_he]*2 + [fa_w]*5,\n",
    "    [fa_w]*4 + [fa_he] + [fa_le] + [fa_me] + [fa_le] + [fa_me] + [fa_le] + [fa_me] + [fa_le] + [fa_me] + [fa_le] + [fa_he] + [fa_w]*4,\n",
    "    [fa_w]*3 + [fa_he]*2 + [fa_me] + [fa_le] + [fa_me] + [fa_le] + [fa_me] + [fa_le] + [fa_me] + [fa_le] + [fa_me] + [fa_he]*2 + [fa_w]*3,\n",
    "    [fa_w]*3 + [fa_he] + [fa_me] + [fa_le] + [fa_me] + [fa_le] + [fa_me] + [fa_le] + [fa_me] + [fa_le] + [fa_me] + [fa_le] + [fa_me] + [fa_he] + [fa_w]*3,\n",
    "    [fa_w]*2 + [fa_he]*2 + [fa_le] + [fa_me] + [fa_le] + [fa_me] + [fa_le] + [fa_me] + [fa_le] + [fa_me] + [fa_le] + [fa_me] + [fa_le] + [fa_he]*2 + [fa_w]*2,\n",
    "    [fa_w]*2 + [fa_he] + [fa_le] + [fa_me] + [fa_le] + [fa_me] + [fa_le] + [fa_me] + [fa_le] + [fa_me] + [fa_le] + [fa_me] + [fa_le] + [fa_me] + [fa_le] + [fa_he] + [fa_w]*2,\n",
    "    [fa_w]*2 + [fa_he]*2 + [fa_le] + [fa_me] + [fa_le] + [fa_me] + [fa_le] + [fa_me] + [fa_le] + [fa_me] + [fa_le] + [fa_me] + [fa_le] + [fa_he]*2 + [fa_w]*2,\n",
    "    [fa_w]*3 + [fa_he] + [fa_me] + [fa_le] + [fa_me] + [fa_le] + [fa_me] + [fa_le] + [fa_me] + [fa_le] + [fa_me] + [fa_le] + [fa_me] + [fa_he] + [fa_w]*3,\n",
    "    [fa_w]*3 + [fa_he]*2 + [fa_me] + [fa_le] + [fa_me] + [fa_le] + [fa_me] + [fa_le] + [fa_me] + [fa_le] + [fa_me] + [fa_he]*2 + [fa_w]*3,\n",
    "    [fa_w]*4 + [fa_he] + [fa_le] + [fa_me] + [fa_le] + [fa_me] + [fa_le] + [fa_me] + [fa_le] + [fa_me] + [fa_le] + [fa_he] + [fa_w]*4,\n",
    "    [fa_w]*5 + [fa_he]*2 + [fa_me] + [fa_le] + [fa_me] + [fa_le] + [fa_me] + [fa_he]*2 + [fa_w]*5,\n",
    "    [fa_w]*6 + [fa_he]*3 + [fa_le] + [fa_he]*3 + [fa_w]*6,\n",
    "    [fa_w]*8 + [fa_he]*3 + [fa_w]*8,\n",
    "    [fa_w]*19,\n",
    "    [fa_w]*19]\n",
    "\n",
    "# Nº elementos de cada tipo\n",
    "n_elementos_gadolinio_lbp28 = 0\n",
    "n_elementos_gadolinio_mbp28 = 0\n",
    "n_elementos_gadolinio_mbp44 = 0\n",
    "n_elementos_gadolinio_mbp88 = 0\n",
    "n_elementos_gadolinio_hbp72 = 0\n",
    "n_elementos_gadolinio_hbp88 = 0\n",
    "n_elementos_gadolinio_hbp112 = 0"
   ]
  },
  {
   "cell_type": "raw",
   "id": "ee12d06c-3d72-4b0b-8d43-d4303c7d9e98",
   "metadata": {},
   "source": [
    "# Patrón habitual 28 y 88\n",
    "l200 = openmc.RectLattice(name='Patrón del núcleo', lattice_id=2000)\n",
    "xy_lower_left = (pitch_assembly * 19)/2\n",
    "l200.lower_left = (-xy_lower_left, -xy_lower_left)\n",
    "l200.pitch = (pitch_assembly, pitch_assembly)\n",
    "l200.universes = [\n",
    "    [fa_w]*19,\n",
    "    [fa_w]*19,\n",
    "    [fa_w]*8 + [fa_he] + [fa_hbp88] + [fa_he] + [fa_w]*8,\n",
    "    [fa_w]*6 + [fa_he] + [fa_hbp88] + [fa_hbp88] + [fa_le] + [fa_hbp88] + [fa_hbp88] + [fa_he] + [fa_w]*6,\n",
    "    [fa_w]*5 + [fa_hbp88] + [fa_hbp88] + [fa_mbp28] + [fa_le] + [fa_mbp28] + [fa_le] + [fa_mbp28] + [fa_hbp88] + [fa_hbp88] + [fa_w]*5,\n",
    "    [fa_w]*4 + [fa_he] + [fa_le] + [fa_mbp28] + [fa_le] + [fa_mbp28] + [fa_le] + [fa_mbp28] + [fa_le] + [fa_mbp28] + [fa_le] + [fa_he] + [fa_w]*4,\n",
    "    [fa_w]*3 + [fa_he] + [fa_hbp88] + [fa_mbp28] + [fa_le] + [fa_mbp88] + [fa_le] + [fa_mbp28] + [fa_le] + [fa_mbp88] + [fa_le] + [fa_mbp28] + [fa_hbp88] + [fa_he] + [fa_w]*3,\n",
    "    [fa_w]*3 + [fa_hbp88] + [fa_mbp28] + [fa_le] + [fa_mbp28] + [fa_le] + [fa_mbp88] + [fa_le] + [fa_mbp88] + [fa_le] + [fa_mbp28] + [fa_le] + [fa_mbp28] + [fa_hbp88] + [fa_w]*3,\n",
    "    [fa_w]*2 + [fa_he] + [fa_hbp88] + [fa_le] + [fa_mbp88] + [fa_le] + [fa_mbp28] + [fa_le] + [fa_mbp88] + [fa_le] + [fa_mbp28] + [fa_le] + [fa_mbp88] + [fa_le] + [fa_hbp88] + [fa_he] + [fa_w]*2,\n",
    "    [fa_w]*2 + [fa_hbp88] + [fa_le] + [fa_mbp28] + [fa_le] + [fa_mbp28] + [fa_le] + [fa_mbp88] + [fa_le] + [fa_mbp88] + [fa_le] + [fa_mbp28] + [fa_le] + [fa_mbp28] + [fa_le] + [fa_hbp88] + [fa_w]*2,\n",
    "    [fa_w]*2 + [fa_he] + [fa_hbp88] + [fa_le] + [fa_mbp88] + [fa_le] + [fa_mbp28] + [fa_le] + [fa_mbp88] + [fa_le] + [fa_mbp28] + [fa_le] + [fa_mbp88] + [fa_le] + [fa_hbp88] + [fa_he] + [fa_w]*2,\n",
    "    [fa_w]*3 + [fa_hbp88] + [fa_mbp28] + [fa_le] + [fa_mbp28] + [fa_le] + [fa_mbp88] + [fa_le] + [fa_mbp88] + [fa_le] + [fa_mbp28] + [fa_le] + [fa_mbp28] + [fa_hbp88] + [fa_w]*3,\n",
    "    [fa_w]*3 + [fa_he] + [fa_hbp88] + [fa_mbp28] + [fa_le] + [fa_mbp88] + [fa_le] + [fa_mbp28] + [fa_le] + [fa_mbp88] + [fa_le] + [fa_mbp28] + [fa_hbp88] + [fa_he] + [fa_w]*3,\n",
    "    [fa_w]*4 + [fa_he] + [fa_le] + [fa_mbp28] + [fa_le] + [fa_mbp28] + [fa_le] + [fa_mbp28] + [fa_le] + [fa_mbp28] + [fa_le] + [fa_he] + [fa_w]*4,\n",
    "    [fa_w]*5 + [fa_hbp88] + [fa_hbp88] + [fa_mbp28] + [fa_le] + [fa_mbp28] + [fa_le] + [fa_mbp28] + [fa_hbp88] + [fa_hbp88] + [fa_w]*5,\n",
    "    [fa_w]*6 + [fa_he] + [fa_hbp88] + [fa_hbp88] + [fa_le] + [fa_hbp88] + [fa_hbp88] + [fa_he] + [fa_w]*6,\n",
    "    [fa_w]*8 + [fa_he] + [fa_hbp88] + [fa_he] + [fa_w]*8, \n",
    "    [fa_w]*19,\n",
    "    [fa_w]*19]\n",
    "\n",
    "# Nº elementos de cada tipo\n",
    "n_elementos_gadolinio_lbp28 = 0\n",
    "n_elementos_gadolinio_mbp28 = 36\n",
    "n_elementos_gadolinio_mbp44 = 0\n",
    "n_elementos_gadolinio_mbp88 = 16\n",
    "n_elementos_gadolinio_hbp72 = 0\n",
    "n_elementos_gadolinio_hbp88 = 32\n",
    "n_elementos_gadolinio_hbp112 = 0"
   ]
  },
  {
   "cell_type": "raw",
   "id": "70cbc7b7-70bd-4389-8343-5624931fc8a0",
   "metadata": {},
   "source": [
    "# Patrón con 28 y 72\n",
    "l200 = openmc.RectLattice(name='Patrón del núcleo', lattice_id=2000)\n",
    "xy_lower_left = (pitch_assembly * 19)/2\n",
    "l200.lower_left = (-xy_lower_left, -xy_lower_left)\n",
    "l200.pitch = (pitch_assembly, pitch_assembly)\n",
    "l200.universes = [\n",
    "    [fa_w]*19,\n",
    "    [fa_w]*19,\n",
    "    [fa_w]*8 + [fa_he] + [fa_hbp72] + [fa_he] + [fa_w]*8,\n",
    "    [fa_w]*6 + [fa_he] + [fa_hbp72] + [fa_hbp72] + [fa_le] + [fa_hbp72] + [fa_hbp72] + [fa_he] + [fa_w]*6,\n",
    "    [fa_w]*5 + [fa_hbp72] + [fa_hbp72] + [fa_mbp28] + [fa_le] + [fa_mbp28] + [fa_le] + [fa_mbp28] + [fa_hbp72] + [fa_hbp72] + [fa_w]*5,\n",
    "    [fa_w]*4 + [fa_he] + [fa_le] + [fa_mbp28] + [fa_le] + [fa_mbp28] + [fa_le] + [fa_mbp28] + [fa_le] + [fa_mbp28] + [fa_le] + [fa_he] + [fa_w]*4,\n",
    "    [fa_w]*3 + [fa_he] + [fa_hbp72] + [fa_mbp28] + [fa_le] + [fa_mbp28] + [fa_le] + [fa_mbp28] + [fa_le] + [fa_mbp28] + [fa_le] + [fa_mbp28] + [fa_hbp72] + [fa_he] + [fa_w]*3,\n",
    "    [fa_w]*3 + [fa_hbp72] + [fa_mbp28] + [fa_le] + [fa_mbp28] + [fa_le] + [fa_mbp44] + [fa_le] + [fa_mbp44] + [fa_le] + [fa_mbp28] + [fa_le] + [fa_mbp28] + [fa_hbp72] + [fa_w]*3,\n",
    "    [fa_w]*2 + [fa_he] + [fa_hbp72] + [fa_le] + [fa_mbp44] + [fa_le] + [fa_mbp28] + [fa_le] + [fa_mbp88] + [fa_le] + [fa_mbp28] + [fa_le] + [fa_mbp44] + [fa_le] + [fa_hbp72] + [fa_he] + [fa_w]*2,\n",
    "    [fa_w]*2 + [fa_hbp72] + [fa_le] + [fa_mbp28] + [fa_le] + [fa_mbp28] + [fa_le] + [fa_mbp88] + [fa_le] + [fa_mbp88] + [fa_le] + [fa_mbp28] + [fa_le] + [fa_mbp28] + [fa_le] + [fa_hbp72] + [fa_w]*2,\n",
    "    [fa_w]*2 + [fa_he] + [fa_hbp72] + [fa_le] + [fa_mbp44] + [fa_le] + [fa_mbp28] + [fa_le] + [fa_mbp88] + [fa_le] + [fa_mbp28] + [fa_le] + [fa_mbp44] + [fa_le] + [fa_hbp72] + [fa_he] + [fa_w]*2,\n",
    "    [fa_w]*3 + [fa_hbp72] + [fa_mbp28] + [fa_le] + [fa_mbp28] + [fa_le] + [fa_mbp44] + [fa_le] + [fa_mbp44] + [fa_le] + [fa_mbp28] + [fa_le] + [fa_mbp28] + [fa_hbp72] + [fa_w]*3,\n",
    "    [fa_w]*3 + [fa_he] + [fa_hbp72] + [fa_mbp28] + [fa_le] + [fa_mbp28] + [fa_le] + [fa_mbp28] + [fa_le] + [fa_mbp28] + [fa_le] + [fa_mbp28] + [fa_hbp72] + [fa_he] + [fa_w]*3,\n",
    "    [fa_w]*4 + [fa_he] + [fa_le] + [fa_mbp28] + [fa_le] + [fa_mbp28] + [fa_le] + [fa_mbp28] + [fa_le] + [fa_mbp28] + [fa_le] + [fa_he] + [fa_w]*4,\n",
    "    [fa_w]*5 + [fa_hbp72] + [fa_hbp72] + [fa_mbp28] + [fa_le] + [fa_mbp28] + [fa_le] + [fa_mbp28] + [fa_hbp72] + [fa_hbp72] + [fa_w]*5,\n",
    "    [fa_w]*6 + [fa_he] + [fa_hbp72] + [fa_hbp72] + [fa_le] + [fa_hbp72] + [fa_hbp72] + [fa_he] + [fa_w]*6,\n",
    "    [fa_w]*8 + [fa_he] + [fa_hbp72] + [fa_he] + [fa_w]*8, \n",
    "    [fa_w]*19,\n",
    "    [fa_w]*19]\n",
    "\n",
    "# Nº elementos de cada tipo\n",
    "n_elementos_gadolinio_lbp28 = 0\n",
    "n_elementos_gadolinio_mbp28 = 40\n",
    "n_elementos_gadolinio_mbp44 = 8\n",
    "n_elementos_gadolinio_mbp88 = 4\n",
    "n_elementos_gadolinio_hbp72 = 32\n",
    "n_elementos_gadolinio_hbp88 = 0\n",
    "n_elementos_gadolinio_hbp112 = 0"
   ]
  },
  {
   "cell_type": "raw",
   "id": "b602a6df-68bf-42ac-9843-86ef33881e76",
   "metadata": {},
   "source": [
    "# Patrón con 28 y 72 nuevo\n",
    "l200 = openmc.RectLattice(name='Patrón del núcleo', lattice_id=2000)\n",
    "xy_lower_left = (pitch_assembly * 19)/2\n",
    "l200.lower_left = (-xy_lower_left, -xy_lower_left)\n",
    "l200.pitch = (pitch_assembly, pitch_assembly)\n",
    "l200.universes = [\n",
    "    [fa_w]*19,\n",
    "    [fa_w]*19,\n",
    "    [fa_w]*8 + [fa_he] + [fa_he] + [fa_he] + [fa_w]*8,\n",
    "    [fa_w]*6 + [fa_he] + [fa_hbp112] + [fa_hbp72] + [fa_le] + [fa_hbp72] + [fa_hbp112] + [fa_he] + [fa_w]*6,\n",
    "    [fa_w]*5 + [fa_he] + [fa_hbp72] + [fa_me] + [fa_le] + [fa_mbp28] + [fa_le] + [fa_me] + [fa_hbp72] + [fa_he] + [fa_w]*5,\n",
    "    [fa_w]*4 + [fa_he] + [fa_le] + [fa_me] + [fa_le] + [fa_mbp28] + [fa_le] + [fa_mbp28] + [fa_le] + [fa_me] + [fa_le] + [fa_he] + [fa_w]*4,\n",
    "    [fa_w]*3 + [fa_he] + [fa_hbp72] + [fa_me] + [fa_lbp] + [fa_mbp28] + [fa_le] + [fa_mbp28] + [fa_le] + [fa_mbp28] + [fa_lbp] + [fa_me] + [fa_hbp72] + [fa_he] + [fa_w]*3,\n",
    "    [fa_w]*3 + [fa_hbp112] + [fa_me] + [fa_le] + [fa_mbp28] + [fa_lbp] + [fa_mbp44] + [fa_lbp] + [fa_mbp44] + [fa_lbp] + [fa_mbp28] + [fa_le] + [fa_me] + [fa_hbp112] + [fa_w]*3,\n",
    "    [fa_w]*2 + [fa_he] + [fa_hbp72] + [fa_le] + [fa_mbp28] + [fa_le] + [fa_mbp44] + [fa_le] + [fa_mbp88] + [fa_le] + [fa_mbp44] + [fa_le] + [fa_mbp28] + [fa_le] + [fa_hbp72] + [fa_he] + [fa_w]*2,\n",
    "    [fa_w]*2 + [fa_hbp72] + [fa_le] + [fa_me] + [fa_lbp] + [fa_mbp28] + [fa_lbp] + [fa_mbp88] + [fa_le] + [fa_mbp88] + [fa_lbp] + [fa_mbp28] + [fa_lbp] + [fa_me] + [fa_le] + [fa_hbp72] + [fa_w]*2,\n",
    "    [fa_w]*2 + [fa_he] + [fa_hbp72] + [fa_le] + [fa_mbp28] + [fa_le] + [fa_mbp44] + [fa_le] + [fa_mbp88] + [fa_le] + [fa_mbp44] + [fa_le] + [fa_mbp28] + [fa_le] + [fa_hbp72] + [fa_he] + [fa_w]*2,\n",
    "    [fa_w]*3 + [fa_hbp112] + [fa_me] + [fa_le] + [fa_mbp28] + [fa_lbp] + [fa_mbp44] + [fa_lbp] + [fa_mbp44] + [fa_lbp] + [fa_mbp28] + [fa_le] + [fa_me] + [fa_hbp112] + [fa_w]*3,\n",
    "    [fa_w]*3 + [fa_he] + [fa_hbp72] + [fa_me] + [fa_lbp] + [fa_mbp28] + [fa_le] + [fa_mbp28] + [fa_le] + [fa_mbp28] + [fa_lbp] + [fa_me] + [fa_hbp72] + [fa_he] + [fa_w]*3,\n",
    "    [fa_w]*4 + [fa_he] + [fa_le] + [fa_me] + [fa_le] + [fa_mbp28] + [fa_le] + [fa_mbp28] + [fa_le] + [fa_me] + [fa_le] + [fa_he] + [fa_w]*4,\n",
    "    [fa_w]*5 + [fa_he] + [fa_hbp72] + [fa_me] + [fa_le] + [fa_mbp28] + [fa_le] + [fa_me] + [fa_hbp72] + [fa_he] + [fa_w]*5,\n",
    "    [fa_w]*6 + [fa_he] + [fa_hbp112] + [fa_hbp72] + [fa_le] + [fa_hbp72] + [fa_hbp112] + [fa_he] + [fa_w]*6,\n",
    "    [fa_w]*8 + [fa_he] + [fa_he] + [fa_he] + [fa_w]*8, \n",
    "    [fa_w]*19,\n",
    "    [fa_w]*19]\n",
    "\n",
    "# Nº elementos de cada tipo\n",
    "n_elementos_gadolinio_lbp28 = 14\n",
    "n_elementos_gadolinio_mbp28 = 22\n",
    "n_elementos_gadolinio_mbp44 = 8\n",
    "n_elementos_gadolinio_mbp88 = 4\n",
    "n_elementos_gadolinio_hbp72 = 18\n",
    "n_elementos_gadolinio_hbp88 = 0\n",
    "n_elementos_gadolinio_hbp112 = 8"
   ]
  },
  {
   "cell_type": "raw",
   "id": "ecd6d059-f90b-4bb4-8966-89d9cb4466c0",
   "metadata": {},
   "source": [
    "# Patrón núcleo AP1000\n",
    "l200 = openmc.RectLattice(name='Patrón del núcleo', lattice_id=2000)\n",
    "xy_lower_left = (pitch_assembly * 19)/2\n",
    "l200.lower_left = (-xy_lower_left, -xy_lower_left)\n",
    "l200.pitch = (pitch_assembly, pitch_assembly)\n",
    "l200.universes = [\n",
    "    [fa_w]*19,\n",
    "    [fa_w]*19,\n",
    "    [fa_w]*8 + [fa_hbp88]*3 + [fa_w]*8,\n",
    "    [fa_w]*6 + [fa_hbp112]*2 + [fa_hbp72] + [fa_le] + [fa_hbp72] + [fa_hbp112]*2 + [fa_w]*6,\n",
    "    [fa_w]*5 + [fa_hbp112]*2 + [fa_mbp28] + [fa_le] + [fa_mbp28] + [fa_le] + [fa_mbp28] + [fa_hbp112]*2 + [fa_w]*5,\n",
    "    [fa_w]*4 + [fa_hbp112] + [fa_lbp] + [fa_mbp44] + [fa_le] + [fa_mbp88] + [fa_le] + [fa_mbp88] + [fa_le] + [fa_mbp44] + [fa_lbp] + [fa_hbp112] + [fa_w]*4,\n",
    "    [fa_w]*3 + [fa_hbp112]*2 + [fa_mbp44] + [fa_le] + [fa_mbp88] + [fa_le] + [fa_mbp88] + [fa_le] + [fa_mbp88] + [fa_le] + [fa_mbp88] + [fa_hbp112]*2 + [fa_w]*3,\n",
    "    [fa_w]*3 + [fa_hbp112] + [fa_mbp28] + [fa_le] + [fa_mbp88] + [fa_le] + [fa_mbp88] + [fa_le] + [fa_mbp88] + [fa_le] + [fa_mbp88] + [fa_le] + [fa_mbp28] + [fa_hbp112] + [fa_w]*3,\n",
    "    [fa_w]*2 + [fa_hbp88] + [fa_hbp72] + [fa_le] + [fa_mbp88] + [fa_le] + [fa_mbp88] + [fa_le] + [fa_mbp88] + [fa_le] + [fa_mbp88] + [fa_le] + [fa_mbp88] + [fa_le] + [fa_hbp72] + [fa_hbp88] + [fa_w]*2,\n",
    "    [fa_w]*2 + [fa_hbp88] + [fa_le] + [fa_mbp28] + [fa_le] + [fa_mbp88] + [fa_le] + [fa_mbp88] + [fa_le] + [fa_mbp88] + [fa_le] + [fa_mbp88] + [fa_le] + [fa_mbp28] + [fa_le] + [fa_hbp88] + [fa_w]*2,\n",
    "    [fa_w]*2 + [fa_hbp88] + [fa_hbp72] + [fa_le] + [fa_mbp88] + [fa_le] + [fa_mbp88] + [fa_le] + [fa_mbp88] + [fa_le] + [fa_mbp88] + [fa_le] + [fa_mbp88] + [fa_le] + [fa_hbp72] + [fa_hbp88] + [fa_w]*2,\n",
    "    [fa_w]*3 + [fa_hbp112] + [fa_mbp28] + [fa_le] + [fa_mbp88] + [fa_le] + [fa_mbp88] + [fa_le] + [fa_mbp88] + [fa_le] + [fa_mbp88] + [fa_le] + [fa_mbp28] + [fa_hbp112] + [fa_w]*3,\n",
    "    [fa_w]*3 + [fa_hbp112]*2 + [fa_mbp44] + [fa_le] + [fa_mbp88] + [fa_le] + [fa_mbp88] + [fa_le] + [fa_mbp88] + [fa_le] + [fa_mbp88] + [fa_hbp112]*2 + [fa_w]*3,\n",
    "    [fa_w]*4 + [fa_hbp112] + [fa_lbp] + [fa_mbp44] + [fa_le] + [fa_mbp88] + [fa_le] + [fa_mbp88] + [fa_le] + [fa_mbp44] + [fa_lbp] + [fa_hbp112] + [fa_w]*4,\n",
    "    [fa_w]*5 + [fa_hbp112]*2 + [fa_mbp28] + [fa_le] + [fa_mbp28] + [fa_le] + [fa_mbp28] + [fa_hbp112]*2 + [fa_w]*5,\n",
    "    [fa_w]*6 + [fa_hbp112]*2 + [fa_hbp72] + [fa_le] + [fa_hbp72] + [fa_hbp112]*2 + [fa_w]*6,\n",
    "    [fa_w]*8 + [fa_hbp88]*3 + [fa_w]*8,\n",
    "    [fa_w]*19,\n",
    "    [fa_w]*19]\n",
    "\n",
    "# Nº elementos de cada tipo\n",
    "n_elementos_gadolinio_lbp28 = 4\n",
    "n_elementos_gadolinio_mbp28 = 12\n",
    "n_elementos_gadolinio_mbp44 = 8\n",
    "n_elementos_gadolinio_mbp88 = 32\n",
    "n_elementos_gadolinio_hbp72 = 8\n",
    "n_elementos_gadolinio_hbp88 = 12\n",
    "n_elementos_gadolinio_hbp112 = 32"
   ]
  },
  {
   "cell_type": "markdown",
   "id": "67efde1f-0ee2-4f4f-9015-f0bc0ce8382b",
   "metadata": {},
   "source": [
    "Por último, se define el root universe a partir de las celdas que forman la geometría final del problema."
   ]
  },
  {
   "cell_type": "code",
   "execution_count": 64,
   "id": "8c92f8a7-3191-4619-a408-be0fe3f21f40",
   "metadata": {},
   "outputs": [],
   "source": [
    "root = openmc.Universe(universe_id=0, name='Universo raiz')\n",
    "\n",
    "c0 = openmc.Cell(cell_id=0, fill=l200, region=-s_ref_int & +s_z3 & -s_z4)                      # Patrón del núcleo (elementos combustibles)\n",
    "c1 = openmc.Cell(cell_id=1, fill=placa_inf, region=-s_ref_ext & +s_z0 & -s_z1)                 # Placa inferior de la vasija\n",
    "c2 = openmc.Cell(cell_id=2, fill=plenum_inf, region=-s_pl & +s_z1 & -s_z2)                     # Plenum inferior nucleo\n",
    "c3 = openmc.Cell(cell_id=3, fill=c_inferior, region=-s_pl & +s_z2 & -s_z3)                     # Cabezal inferior\n",
    "c4 = openmc.Cell(cell_id=4, fill=c_superior, region=-s_pl & +s_z4 & -s_z5)                     # Cabezal superior\n",
    "c5 = openmc.Cell(cell_id=5, fill=plenum_sup, region=-s_pl & +s_z5 & -s_z6)                     # Plenum superior\n",
    "c6 = openmc.Cell(cell_id=6, fill=reflec_sup, region=-s_ref_ext & +s_z6 & -s_z7)                # Estructura superior de la vasija\n",
    "c7 = openmc.Cell(cell_id=7, fill=plenum_inf, region=+s_ref_int & -s_ref_ext & +s_z1 & -s_z6)   # Reflector radial completo\n",
    "c8 = openmc.Cell(cell_id=8, fill=vasija, region=+s_ref_ext & -s_vasija & +s_z0 & -s_z7)        # Estructura radial de la vasija\n",
    "c9 = openmc.Cell(cell_id=9, fill=reflec_inf, region=+s_pl & -s_ref_int & +s_z1 & -s_z3)        # Reflector radial inferior\n",
    "c10 = openmc.Cell(cell_id=10, fill=reflec_sup, region=+s_pl & -s_ref_int & +s_z4 & -s_z6)      # Reflector radial superior\n",
    "\n",
    "root.add_cells((c0, c1, c2, c3, c4, c5, c6, c7, c8, c9, c10))"
   ]
  },
  {
   "cell_type": "markdown",
   "id": "bdf3edda-946f-4922-98ed-c5f49b4169bd",
   "metadata": {},
   "source": [
    "Finalmente, se exporta a *XML*:"
   ]
  },
  {
   "cell_type": "code",
   "execution_count": 65,
   "id": "95764baa",
   "metadata": {},
   "outputs": [],
   "source": [
    "geometry = openmc.Geometry()\n",
    "geometry.root_universe = root\n",
    "geometry.export_to_xml()"
   ]
  },
  {
   "cell_type": "code",
   "execution_count": 66,
   "id": "18568c33",
   "metadata": {},
   "outputs": [],
   "source": [
    "#cat geometry.xml"
   ]
  },
  {
   "cell_type": "markdown",
   "id": "b4dec0c2-71de-44ad-8d38-1b9d43e7c95d",
   "metadata": {},
   "source": [
    "---"
   ]
  },
  {
   "cell_type": "markdown",
   "id": "41aa0299-77b0-4615-8915-13c289d4d19a",
   "metadata": {
    "jp-MarkdownHeadingCollapsed": true
   },
   "source": [
    "## SETTINGS"
   ]
  },
  {
   "cell_type": "markdown",
   "id": "889e5758-147e-4721-ae29-18f897a34270",
   "metadata": {},
   "source": [
    "**Paso 3: Configuración de la ejecución** <br>\n",
    "En este tercer apartado __*settings*__ se define la configuración de la simulación mediante la clase __*openmc.Settings*__.<br>\n",
    "El modo en que se realiza la simulación se define mediante el atributo __*Settings.run_mode*__.<br>\n",
    "Hay 5 modos, pero para simular un reactor nuclear se emplea el modo __*eigenvalue*__.\n"
   ]
  },
  {
   "cell_type": "code",
   "execution_count": 67,
   "id": "380b428e-2c09-4a08-92ff-e51c005541ed",
   "metadata": {},
   "outputs": [],
   "source": [
    "settings = openmc.Settings()\n",
    "settings.run_mode = 'eigenvalue'"
   ]
  },
  {
   "cell_type": "markdown",
   "id": "a15b0fc9-f976-4c28-a23a-0b6079f5c99d",
   "metadata": {},
   "source": [
    "Hay que realizar una hipótesis respecto a cómo se distribuyen las fisiones en el instante inicial.<br>\n",
    "Independientemente de este ajuste, la simulación debería converger a una distribución real.<br>\n",
    "En este caso se emplea una distribución puntual en una varilla de combustible."
   ]
  },
  {
   "cell_type": "code",
   "execution_count": 68,
   "id": "e21d9de9-e3a3-4367-8031-9f0ee332b6fc",
   "metadata": {},
   "outputs": [],
   "source": [
    "spatial_dist = openmc.stats.Box((-pitch_assembly*15, -pitch_assembly*15, -183), (pitch_assembly*15, pitch_assembly*15, 183))\n",
    "source = openmc.IndependentSource(space=spatial_dist, constraints={'fissionable': True})\n",
    "settings.source = source"
   ]
  },
  {
   "cell_type": "markdown",
   "id": "8b93a12d-b3d7-4fd7-8d9d-f31735b24289",
   "metadata": {},
   "source": [
    "Para la simulación, se deben definir 3 variables de la simulación:\n",
    "-  __*Batches*__: el número total de partículas simuladas determina el nivel de incertidumbre de los resultados.\n",
    "-  __*Inactive batches*__: al inicil de la simulación, la distribución de la fuente no es conocida y es necesario realizar una hipótesis para empezar a iterar. A medida que se realizan más iteraciones, la distribución se acerca más a la distribución real. Cuando la distribución converge, ya es posible obtener resultados fiables. Las *Inactive batches* son iteraciones empleadas para hacer converger la distribución, pero no almacenar resultados. Para problemas pequeños es suficiente con 50 o 100, pero para problemas más complejos, se debe usar un valor mayor. \n",
    "-  __*Particles*__: de igual forma que para *batches*. Para simulaciones *eigenvalue* se recomienda al menos 10.000 partículas."
   ]
  },
  {
   "cell_type": "code",
   "execution_count": 69,
   "id": "dd05b1e1-ebed-49d0-9dc8-5642c6e648b5",
   "metadata": {},
   "outputs": [],
   "source": [
    "settings.batches = 100\n",
    "settings.inactive = 10\n",
    "settings.particles = 100000"
   ]
  },
  {
   "cell_type": "markdown",
   "id": "27b51b87-18e9-4c67-8da1-35d4f6fb90f3",
   "metadata": {},
   "source": [
    "Por último, se exporta a *XML*:"
   ]
  },
  {
   "cell_type": "code",
   "execution_count": 70,
   "id": "f951efdc-98e2-424d-ba81-b062db82ac62",
   "metadata": {},
   "outputs": [],
   "source": [
    "settings.export_to_xml()"
   ]
  },
  {
   "cell_type": "code",
   "execution_count": 71,
   "id": "53aff516-7537-4e6a-8df2-bcdc741e1e26",
   "metadata": {},
   "outputs": [],
   "source": [
    "# cat settings.xml"
   ]
  },
  {
   "cell_type": "markdown",
   "id": "50439f21-2d7b-45e6-b6b8-12de18fe6c76",
   "metadata": {
    "jp-MarkdownHeadingCollapsed": true
   },
   "source": [
    "## TALLIES"
   ]
  },
  {
   "cell_type": "markdown",
   "id": "66ea9917-3455-4065-8bad-bdfece7e4d87",
   "metadata": {},
   "source": [
    "**Paso 4: Configuración de los parámetros a leer** <br>\n",
    "En este cuarto apartado __*tallies*__ se definen las magnitudes físicas a monitorizar durante la simulación mediante la clase __*openmc.Tally*__.<br>\n",
    "\n",
    "-  Los *filters* definen dónde queremos medir los resultados.<br>\n",
    "-  Los *scores* definen qué queremos medir.<br>\n",
    "\n",
    "En este caso, queremos medir en la celda de combustible, por lo que el *filter* se inicializa en la celda."
   ]
  },
  {
   "cell_type": "code",
   "execution_count": 72,
   "id": "d0da65b0-8d47-40a3-ae62-7b22d106f36e",
   "metadata": {},
   "outputs": [],
   "source": [
    "# Geometría sin gadolinio\n",
    "cell_filter = openmc.CellFilter([23, 27, 31])\n",
    "# 23 - Bajo enriquecimiento\n",
    "# 27 - Medio enriquecimiento\n",
    "# 31 - Alto enriquecimiento"
   ]
  },
  {
   "cell_type": "raw",
   "id": "eac4e94b-dba1-446b-ab85-5b547cd6cfcd",
   "metadata": {},
   "source": [
    "# Geometría con gadolinio\n",
    "cell_filter = openmc.CellFilter([23, 27, 31, 39, 43, 47])\n",
    "# 23 - Bajo enriquecimiento\n",
    "# 27 - Medio enriquecimiento\n",
    "# 31 - Alto enriquecimiento\n",
    "# 39 - Bajo enriquecimiento y gadolinio\n",
    "# 43 - Medio enriquecimiento  y gadolinio\n",
    "# 47 - Alto enriquecimiento  y gadolinio"
   ]
  },
  {
   "cell_type": "markdown",
   "id": "b72a690f-c5cd-4306-882d-28db85343330",
   "metadata": {},
   "source": [
    "Una vez que se han creado todos los filtros, es necesario crear el objeto Tally (con un ID) y asignar los filtros."
   ]
  },
  {
   "cell_type": "code",
   "execution_count": 73,
   "id": "f2c5dfb0-7f09-4eef-8f14-b340a62e2f94",
   "metadata": {},
   "outputs": [],
   "source": [
    "tally = openmc.Tally(1)\n",
    "tally.filters = [cell_filter]"
   ]
  },
  {
   "cell_type": "markdown",
   "id": "7360c49e-e413-4f7c-89b6-284decf2b2c2",
   "metadata": {},
   "source": [
    "En los *scores* se definen los parámetros a medir, en este caso, los ratios dereacción total, de fisión, de absorción y (n,γ):"
   ]
  },
  {
   "cell_type": "code",
   "execution_count": 74,
   "id": "6e8dd3d2-d796-4d0d-b5c9-5550ae2b74b7",
   "metadata": {},
   "outputs": [],
   "source": [
    "tally.scores = ['total', 'fission', 'absorption', '(n,gamma)', 'nu-fission']"
   ]
  },
  {
   "cell_type": "markdown",
   "id": "cba1085f-7c5b-4f67-a493-ffb184f67b75",
   "metadata": {},
   "source": [
    "Adicionalmente, se pueden especificar los nucleidos que queremos monitorizar mediante: __*tally.nuclides = ['U235']*__\n",
    "\n",
    "Si no se incluyen, por defecto se monitorizan todos los nucleidos presentes en la simulación."
   ]
  },
  {
   "cell_type": "code",
   "execution_count": 75,
   "id": "5e4efc5b-580b-4367-8344-c5d8ff8249b6",
   "metadata": {},
   "outputs": [],
   "source": [
    "tally.nuclides = ['U235','U238', 'Pu238', 'Pu239', 'Pu240', 'Pu241', 'Pu242', 'Am241', 'Am243', 'Np237', 'Cm244', 'Cm245']"
   ]
  },
  {
   "cell_type": "markdown",
   "id": "449a0b82-5a07-4beb-a74c-5aefd30bde35",
   "metadata": {},
   "source": [
    "Finalmente, se crea la colección o lista de *tallies* y se exporta a *XML*."
   ]
  },
  {
   "cell_type": "code",
   "execution_count": 76,
   "id": "bf9a1698-078e-4460-aada-b514a9f2bf99",
   "metadata": {},
   "outputs": [],
   "source": [
    "tallies = openmc.Tallies([tally])"
   ]
  },
  {
   "cell_type": "code",
   "execution_count": 77,
   "id": "70bfa492-8864-4faf-8ec5-0ed251d61ecf",
   "metadata": {},
   "outputs": [],
   "source": [
    "tallies.export_to_xml()"
   ]
  },
  {
   "cell_type": "code",
   "execution_count": 78,
   "id": "5fa6ff8e-9c7b-44a4-b488-707640140f82",
   "metadata": {},
   "outputs": [],
   "source": [
    "# cat tallies.xml"
   ]
  },
  {
   "cell_type": "markdown",
   "id": "0989a434-fd94-43e2-8b39-35946d9c092a",
   "metadata": {},
   "source": [
    "---"
   ]
  },
  {
   "cell_type": "markdown",
   "id": "b6d52834-1141-4aa2-acda-30b281fa96fa",
   "metadata": {
    "jp-MarkdownHeadingCollapsed": true
   },
   "source": [
    "## PLOTS"
   ]
  },
  {
   "cell_type": "markdown",
   "id": "7a3e734a-0434-4fe5-a555-9b1fb762a9b0",
   "metadata": {},
   "source": [
    "**Paso 5: Configuración del archivo de plots** <br>\n",
    "En este quinto apartado __*plots*__ se define la configuración de los plots."
   ]
  },
  {
   "cell_type": "code",
   "execution_count": 79,
   "id": "4b063b4e-8a8c-4123-8cc4-181555bb01c7",
   "metadata": {},
   "outputs": [],
   "source": [
    "# Núcleo completo\n",
    "plot_fc = openmc.Plot()\n",
    "plot_fc.filename = 'pwr_core_full'   # Nombre de la imagen que se genera\n",
    "plot_fc.origin = (0, 0, 0)      # Origen de la imagen\n",
    "plot_fc.width = (440, 440)      # Tamaño de la imagen\n",
    "plot_fc.pixels = (3000, 3000)   # Tamaño en pixeles de la imagen\n",
    "plot_fc.color_by = 'material'\n",
    "plot_fc.colors = {fuel_uo2_le: 'lightyellow', fuel_uo2_me: 'yellow', fuel_uo2_he: 'orange',  fuel_uo2_lbp: 'green', \n",
    "                  fuel_uo2_mbp: 'green', fuel_uo2_hbp: 'green', Gd2O3: 'red', clad: 'gray', water: 'lightblue', plenum_inf: 'lightgray', vasija: 'gray'}"
   ]
  },
  {
   "cell_type": "code",
   "execution_count": 80,
   "id": "f9ae44a5-ed5c-4fdb-9daa-163e9c3be7ea",
   "metadata": {},
   "outputs": [],
   "source": [
    "# Cuarto de núcleo\n",
    "plot_qc = openmc.Plot()\n",
    "plot_qc.filename = 'pwr_core_4'   # Nombre de la imagen que se genera\n",
    "plot_qc.origin = (110, 110, 0)     # Origen de la imagen\n",
    "plot_qc.width = (220, 220)         # Tamaño de la imagen\n",
    "plot_qc.pixels = (3000, 3000)      # Tamaño en pixeles de la imagen fuel_uo2_lbp, fuel_uo2_mbp,  fuel_uo2_hbp,\n",
    "plot_qc.color_by = 'material'\n",
    "plot_qc.colors = {fuel_uo2_le: 'lightyellow', fuel_uo2_me: 'yellow', fuel_uo2_he: 'orange', fuel_uo2_lbp: 'blue', \n",
    "                  fuel_uo2_mbp: 'blue', fuel_uo2_hbp: 'blue', Gd2O3: 'red', clad: 'gray', water: 'lightblue', plenum_inf: 'lightgray', vasija: 'gray'}"
   ]
  },
  {
   "cell_type": "code",
   "execution_count": 81,
   "id": "38238642-ce97-42a9-9e21-a48733b4122c",
   "metadata": {},
   "outputs": [],
   "source": [
    "# Elemento combustible\n",
    "plot_fa = openmc.Plot()\n",
    "plot_fa.filename = 'pwr_assembly'  # Nombre de la imagen que se genera\n",
    "plot_fa.origin = (0, 0, 0)         # Origen de la imagen\n",
    "plot_fa.width = (21.42, 21.42)     # Tamaño de la imagen\n",
    "plot_fa.pixels = (2000, 2000)      # Tamaño en pixeles de la imagen\n",
    "plot_fa.color_by = 'material'\n",
    "plot_fa.colors = {fuel_uo2_le: 'lightyellow', fuel_uo2_me: 'yellow', fuel_uo2_he: 'orange',  fuel_uo2_lbp: 'blue', \n",
    "                  fuel_uo2_mbp: 'blue', fuel_uo2_hbp: 'blue', Gd2O3: 'red', clad: 'gray', water: 'lightblue', plenum_inf: 'lightgray', vasija: 'gray'}"
   ]
  },
  {
   "cell_type": "code",
   "execution_count": 82,
   "id": "614e88ea-8a99-4230-bea2-2be8dffd4373",
   "metadata": {},
   "outputs": [],
   "source": [
    "# Varilla de combustible\n",
    "plot_fp = openmc.Plot()\n",
    "plot_fp.filename = 'pwr_fuelpin'       # Nombre de la imagen que se genera\n",
    "plot_fp.origin = (1.26, 1.26, 0)   # Origen de la imagen\n",
    "plot_fp.width = (1, 1)             # Tamaño de la imagen\n",
    "plot_fp.pixels = (2000, 2000)        # Tamaño en pixeles de la imagen\n",
    "plot_fp.color_by = 'material'\n",
    "plot_fp.colors = {fuel_uo2_le: 'lightyellow', fuel_uo2_me: 'yellow', fuel_uo2_he: 'orange',  fuel_uo2_lbp: 'blue', \n",
    "                  fuel_uo2_mbp: 'blue', fuel_uo2_hbp: 'blue', Gd2O3: 'red', clad: 'gray', water: 'lightblue', plenum_inf: 'lightgray', vasija: 'gray'}"
   ]
  },
  {
   "cell_type": "code",
   "execution_count": 83,
   "id": "829eae2e-5c20-4661-8a4e-eecc153e6481",
   "metadata": {},
   "outputs": [],
   "source": [
    "plots = openmc.Plots([plot_fc, plot_fa, plot_qc, plot_fp])\n",
    "plots.export_to_xml()"
   ]
  },
  {
   "cell_type": "markdown",
   "id": "4a968d95-c4d9-408e-8174-93f345a8e3cb",
   "metadata": {},
   "source": [
    "Por último, se ejecuta **OpenMC** en modo *plot*. (El \"%%capture\" es para que la celda del jupyter no muestre ninguna salida)"
   ]
  },
  {
   "cell_type": "code",
   "execution_count": 84,
   "id": "aeb50ad3-1020-4502-9091-409403ae288d",
   "metadata": {},
   "outputs": [],
   "source": [
    "%%capture\n",
    "openmc.plot_geometry()"
   ]
  },
  {
   "cell_type": "markdown",
   "id": "59a4b982-0959-42a8-ad60-2a2600d26e73",
   "metadata": {},
   "source": [
    "Se convierten las imágenes a *.jpg*:"
   ]
  },
  {
   "cell_type": "code",
   "execution_count": 85,
   "id": "c1b3cf5c-2d04-4e1f-bccc-f1c1a105999a",
   "metadata": {},
   "outputs": [],
   "source": [
    "im = Image_ppm.open(\"pwr_core_full.ppm\")\n",
    "im.save(ruta + \"/imagenes/pwr_core_full.jpg\")"
   ]
  },
  {
   "cell_type": "code",
   "execution_count": 86,
   "id": "ef9b1a7d-c069-4b20-ace8-5a8de8d37316",
   "metadata": {},
   "outputs": [],
   "source": [
    "im = Image_ppm.open(\"pwr_core_4.ppm\")\n",
    "im.save(ruta + \"/imagenes/pwr_core_4.jpg\")"
   ]
  },
  {
   "cell_type": "code",
   "execution_count": 87,
   "id": "70681768-0daf-4516-8e7d-b5b88b3d5215",
   "metadata": {},
   "outputs": [],
   "source": [
    "im = Image_ppm.open(\"pwr_assembly.ppm\")\n",
    "im.save(ruta + \"/imagenes/pwr_assembly.jpg\")"
   ]
  },
  {
   "cell_type": "code",
   "execution_count": 88,
   "id": "18142b76-8e99-4be2-95ae-28f72843c704",
   "metadata": {
    "scrolled": true
   },
   "outputs": [],
   "source": [
    "im = Image_ppm.open(\"pwr_fuelpin.ppm\")\n",
    "im.save(ruta + \"/imagenes/pwr_fuelpin.jpg\")"
   ]
  },
  {
   "cell_type": "markdown",
   "id": "d0d3ca37-6de1-48ae-bd2f-e01830117932",
   "metadata": {},
   "source": [
    "Se eliminan las imágenes *.ppm*:"
   ]
  },
  {
   "cell_type": "code",
   "execution_count": 89,
   "id": "48eb3016-9217-480c-8e09-aa510c02563b",
   "metadata": {},
   "outputs": [],
   "source": [
    "os.remove(\"pwr_core_full.ppm\")\n",
    "os.remove(\"pwr_core_4.ppm\")\n",
    "os.remove(\"pwr_assembly.ppm\")\n",
    "os.remove(\"pwr_fuelpin.ppm\")"
   ]
  },
  {
   "cell_type": "markdown",
   "id": "833cc643-01df-4733-be4b-5b4859ccbddf",
   "metadata": {},
   "source": [
    "Se muestran las imágenes:"
   ]
  },
  {
   "cell_type": "code",
   "execution_count": null,
   "id": "e8249861-bec3-4fe2-b9a2-84233fc23da8",
   "metadata": {
    "scrolled": true
   },
   "outputs": [],
   "source": [
    "display(Image(filename=ruta + \"/imagenes/pwr_core_full.jpg\"))"
   ]
  },
  {
   "cell_type": "code",
   "execution_count": null,
   "id": "a99643cb-2235-4301-99a1-9645dfe66c54",
   "metadata": {
    "scrolled": true
   },
   "outputs": [],
   "source": [
    "display(Image(filename=ruta + \"/imagenes/pwr_core_4.jpg\"))"
   ]
  },
  {
   "cell_type": "code",
   "execution_count": null,
   "id": "e36c6038-599b-4acb-be92-80c6a2b7311b",
   "metadata": {
    "scrolled": true
   },
   "outputs": [],
   "source": [
    "display(Image(filename=ruta + \"/imagenes/pwr_assembly.jpg\"))"
   ]
  },
  {
   "cell_type": "code",
   "execution_count": 90,
   "id": "f9d22f89-d597-498a-a639-bbda55e5c2f7",
   "metadata": {
    "scrolled": true
   },
   "outputs": [
    {
     "data": {
      "image/jpeg": "[encoded data removed]",
      "text/plain": [
       "<IPython.core.display.Image object>"
      ]
     },
     "metadata": {},
     "output_type": "display_data"
    }
   ],
   "source": [
    "display(Image(filename=ruta + \"/imagenes/pwr_fuelpin.jpg\"))"
   ]
  },
  {
   "cell_type": "markdown",
   "id": "342247f1-5807-4455-abe0-c41aae4fe153",
   "metadata": {
    "jp-MarkdownHeadingCollapsed": true
   },
   "source": [
    "## RUN"
   ]
  },
  {
   "cell_type": "markdown",
   "id": "03ebc894-45bd-442b-84ea-42c9f941fded",
   "metadata": {},
   "source": [
    "La ejecución de la simulación se realiza mediante __*openmc.run()*__"
   ]
  },
  {
   "cell_type": "code",
   "execution_count": null,
   "id": "e6f7edde-ae2a-4cff-a746-062a518411a2",
   "metadata": {
    "scrolled": true
   },
   "outputs": [],
   "source": [
    "# openmc.run()"
   ]
  },
  {
   "cell_type": "code",
   "execution_count": null,
   "id": "7d31de2a-8f7e-4d54-9408-f72a87ac06a8",
   "metadata": {},
   "outputs": [],
   "source": [
    "# cat tallies.out"
   ]
  },
  {
   "cell_type": "markdown",
   "id": "45a7105c-1087-4127-9ada-003277519563",
   "metadata": {},
   "source": [
    "Para comprobar la correcta definición de la geometría:"
   ]
  },
  {
   "cell_type": "code",
   "execution_count": null,
   "id": "c6fc0d44-e0f8-40cb-b76c-e7c28ef67eb9",
   "metadata": {},
   "outputs": [],
   "source": [
    "# openmc.run(geometry_debug=True)"
   ]
  },
  {
   "cell_type": "markdown",
   "id": "239e6491-720d-47bc-8771-ef4239e4a09d",
   "metadata": {
    "jp-MarkdownHeadingCollapsed": true
   },
   "source": [
    "## DEPLETION"
   ]
  },
  {
   "cell_type": "markdown",
   "id": "14dc1e3c-a91c-4681-9a2c-76e0e22aac82",
   "metadata": {},
   "source": [
    "Para poder llevar a cabo la simulación del Depletion, es necesario proporcionar el volumen total de combustible.<br>\n",
    "Este es un paso clave en la simulación ya que afecta directamente al quemado del combustible."
   ]
  },
  {
   "cell_type": "markdown",
   "id": "33cece61-82c7-4a33-8aff-a083562cfa30",
   "metadata": {},
   "source": [
    "Se definen los volúmenes como el volumen de una varilla de combustible multiplicado por el total de varillas de un elemento y multiplicado por el número de elementos de cada tipo de enriquecimiento."
   ]
  },
  {
   "cell_type": "code",
   "execution_count": null,
   "id": "73b87c77-b09e-4cca-9d75-c62335bdd5a4",
   "metadata": {},
   "outputs": [],
   "source": [
    "vol_varillas_le = math.pi * (combustible_d/2) ** 2 * 366 * 28 * n_elementos_gadolinio_lbp28"
   ]
  },
  {
   "cell_type": "code",
   "execution_count": null,
   "id": "e7a415b8-3b5c-451c-97f9-967fb34827d1",
   "metadata": {},
   "outputs": [],
   "source": [
    "fuel_uo2_le.volume = math.pi * (combustible_d/2) ** 2 * 366 * 264 * 53 - vol_varillas_le"
   ]
  },
  {
   "cell_type": "code",
   "execution_count": null,
   "id": "c510f7f7-0e49-419e-a836-9ffe82e92927",
   "metadata": {},
   "outputs": [],
   "source": [
    "vol_varillas_me = math.pi * (combustible_d/2) ** 2 * 366 * (88 * n_elementos_gadolinio_mbp88 + 44 * n_elementos_gadolinio_mbp44 + 28 * n_elementos_gadolinio_mbp28)"
   ]
  },
  {
   "cell_type": "code",
   "execution_count": null,
   "id": "f864036a-6f9b-4b55-90b4-35d01537f7ed",
   "metadata": {},
   "outputs": [],
   "source": [
    "fuel_uo2_me.volume = math.pi * (combustible_d/2) ** 2 * 366 * 264 * 52 - vol_varillas_me"
   ]
  },
  {
   "cell_type": "code",
   "execution_count": null,
   "id": "d8794b7f-cf76-403c-9a66-b43be0d14476",
   "metadata": {},
   "outputs": [],
   "source": [
    "vol_varillas_he = math.pi * (combustible_d/2) ** 2 * 366 * (112 * n_elementos_gadolinio_hbp112 + 88 * n_elementos_gadolinio_hbp88 + 72 * n_elementos_gadolinio_hbp72)"
   ]
  },
  {
   "cell_type": "code",
   "execution_count": null,
   "id": "46b93e27-0dbd-4b46-92f8-bac80b29e41f",
   "metadata": {},
   "outputs": [],
   "source": [
    "fuel_uo2_he.volume = math.pi * (combustible_d/2) ** 2 * 366 * 264 * 52 - vol_varillas_he"
   ]
  },
  {
   "cell_type": "markdown",
   "id": "0a57e2ef-eb68-4199-bcb4-f16895bd708a",
   "metadata": {},
   "source": [
    "Volumen de las varillas de gadolinio y uranio"
   ]
  },
  {
   "cell_type": "code",
   "execution_count": null,
   "id": "7edf1e65-276e-4d59-84d6-6e48c82092d5",
   "metadata": {},
   "outputs": [],
   "source": [
    "fuel_uo2_lbp.volume = math.pi * (combustible_d/2) ** 2 * 366 * 28 * n_elementos_gadolinio_lbp28"
   ]
  },
  {
   "cell_type": "code",
   "execution_count": null,
   "id": "868e4df4-8471-4517-abe8-90244c0af374",
   "metadata": {},
   "outputs": [],
   "source": [
    "fuel_uo2_mbp.volume = math.pi * (combustible_d/2) ** 2 * 366 * (88 * n_elementos_gadolinio_mbp88 + 44 * n_elementos_gadolinio_mbp44 + 28 * n_elementos_gadolinio_mbp28)"
   ]
  },
  {
   "cell_type": "code",
   "execution_count": null,
   "id": "116044ad-9e06-4707-8548-34123bea70a4",
   "metadata": {},
   "outputs": [],
   "source": [
    "fuel_uo2_hbp.volume = math.pi * (combustible_d/2) ** 2 * 366 * (112 * n_elementos_gadolinio_hbp112 + 88 * n_elementos_gadolinio_hbp88 + 72 * n_elementos_gadolinio_hbp72)"
   ]
  },
  {
   "cell_type": "markdown",
   "id": "f5b08f5c-1d7a-43df-ba76-45c8da6aeb47",
   "metadata": {},
   "source": [
    "La ejecución de la simulación se realiza mediante __*openmc.deplete*__"
   ]
  },
  {
   "cell_type": "markdown",
   "id": "4deecbbe-8f86-4f92-b5bb-7d2c89b9ca52",
   "metadata": {},
   "source": [
    "Es necesario aportar la cadena de desintegración, en este caso se usa la librería **ENDF/B-VII.1** para **espectro térmico**:"
   ]
  },
  {
   "cell_type": "code",
   "execution_count": null,
   "id": "7ad6f17a-b224-454f-beec-b653387c66bf",
   "metadata": {},
   "outputs": [],
   "source": [
    "chain = openmc.deplete.Chain.from_xml(\"./../../openmc/Cross_Section_Libraries/endfb71_hdf5/chain_endfb71_pwr.xml\")"
   ]
  },
  {
   "cell_type": "markdown",
   "id": "accdd833-ddc6-4d96-bf97-de35240fb60b",
   "metadata": {},
   "source": [
    "El primer paso es crear el *Operator* a partir de la geometría y la configuración (los materiales se leen automáticamente)."
   ]
  },
  {
   "cell_type": "code",
   "execution_count": null,
   "id": "e4771900-5cb5-4868-8a79-d51efaf9c59c",
   "metadata": {},
   "outputs": [],
   "source": [
    "model = openmc.Model(geometry=geometry, settings=settings)\n",
    "operator = openmc.deplete.CoupledOperator(model, \"./../../openmc/Cross_Section_Libraries/endfb71_hdf5/chain_endfb71_pwr.xml\")"
   ]
  },
  {
   "cell_type": "markdown",
   "id": "bdec6514-759f-4b79-9ff9-0db404844dec",
   "metadata": {},
   "source": [
    "Se define el nombre de la carpeta en la que se almacenan los archivos generados durante la simulación"
   ]
  },
  {
   "cell_type": "code",
   "execution_count": null,
   "id": "fd971f3e-9139-4321-a34c-603eb08255a6",
   "metadata": {},
   "outputs": [],
   "source": [
    "operator.output_dir= ruta"
   ]
  },
  {
   "cell_type": "markdown",
   "id": "073cc646-3d3b-421e-b181-f84ab686db7d",
   "metadata": {},
   "source": [
    "Se define la potencia de la celda de combustible en *W*. Para un reactor de este tipo, se definen 1000 MWe"
   ]
  },
  {
   "cell_type": "code",
   "execution_count": null,
   "id": "a861cd7f-e5e8-43d0-a1c3-1f08738c17a3",
   "metadata": {},
   "outputs": [],
   "source": [
    "power = 1000e6"
   ]
  },
  {
   "cell_type": "markdown",
   "id": "0898be5a-dec0-45d0-b6e5-b9e7fb03a2cb",
   "metadata": {},
   "source": [
    "Se definen los pasos de la simulación, en este caso se va a simular el reactor en pasos de 30 días y durante 4 años y medio (54 meses)"
   ]
  },
  {
   "cell_type": "code",
   "execution_count": null,
   "id": "c8f76107-0a5e-43c2-baac-8b373fa5d22f",
   "metadata": {},
   "outputs": [],
   "source": [
    "n_pasos = 30"
   ]
  },
  {
   "cell_type": "code",
   "execution_count": null,
   "id": "e90a38ce-72b7-46ba-8c5c-71cc8f02b556",
   "metadata": {},
   "outputs": [],
   "source": [
    "n_repeticion_pasos = 54"
   ]
  },
  {
   "cell_type": "code",
   "execution_count": null,
   "id": "64e72401-ffd8-4d78-a2b5-be29382d47c8",
   "metadata": {},
   "outputs": [],
   "source": [
    "time_steps = [n_pasos] * n_repeticion_pasos"
   ]
  },
  {
   "cell_type": "markdown",
   "id": "82d112f9-5bd9-4530-961f-cb1e5c7cd4e8",
   "metadata": {},
   "source": [
    "Se ejecuta la simulación:"
   ]
  },
  {
   "cell_type": "code",
   "execution_count": null,
   "id": "85d57ee0-f078-4684-8a4e-7a1365a416dc",
   "metadata": {},
   "outputs": [],
   "source": [
    "integrator = openmc.deplete.PredictorIntegrator(operator, time_steps, power, timestep_units='d')"
   ]
  },
  {
   "cell_type": "code",
   "execution_count": null,
   "id": "20cfbaef-a5f6-45a6-9ac8-d8f4ae90f549",
   "metadata": {},
   "outputs": [],
   "source": [
    "# integrator = openmc.deplete.EPCRK4Integrator(operator, time_steps, power, timestep_units='d')"
   ]
  },
  {
   "cell_type": "code",
   "execution_count": null,
   "id": "8bed03fb-e51a-429f-9482-239ec6c82676",
   "metadata": {
    "scrolled": true
   },
   "outputs": [],
   "source": [
    "integrator.integrate()"
   ]
  },
  {
   "cell_type": "markdown",
   "id": "964301c7-3a2a-4016-af30-4a05cff5107a",
   "metadata": {
    "jp-MarkdownHeadingCollapsed": true
   },
   "source": [
    "## RESULTADOS"
   ]
  },
  {
   "cell_type": "markdown",
   "id": "ccc43222-0485-4d0c-96a1-e42e1aba4fb5",
   "metadata": {},
   "source": [
    "### Importación de resultados desde archivo"
   ]
  },
  {
   "cell_type": "markdown",
   "id": "e8d33315-9236-4877-a2a1-967d840bcc62",
   "metadata": {},
   "source": [
    "Se importan los resultados desde el archivo creado."
   ]
  },
  {
   "cell_type": "code",
   "execution_count": null,
   "id": "113d9248-bd72-42ba-97a3-9bc4d4f99f8d",
   "metadata": {},
   "outputs": [],
   "source": [
    "results = openmc.deplete.Results(ruta + \"/depletion_results.h5\")"
   ]
  },
  {
   "cell_type": "markdown",
   "id": "8b9750eb-f74e-4004-96dc-74a7c6fab939",
   "metadata": {},
   "source": [
    "Se obtiene la *k efectiva*."
   ]
  },
  {
   "cell_type": "code",
   "execution_count": null,
   "id": "d1269705-3e17-4a9d-a7fd-ba8418fbfeab",
   "metadata": {},
   "outputs": [],
   "source": [
    "time, k = results.get_keff()"
   ]
  },
  {
   "cell_type": "markdown",
   "id": "14f8260f-e4d3-4bbf-ab51-cc5975cf5129",
   "metadata": {},
   "source": [
    "Se convierten las unidades de tiempo (de segundos a días)."
   ]
  },
  {
   "cell_type": "code",
   "execution_count": null,
   "id": "24ef72aa-a224-49bf-8a8d-b6e356b4815a",
   "metadata": {},
   "outputs": [],
   "source": [
    "time /= (24 * 60 * 60)"
   ]
  },
  {
   "cell_type": "markdown",
   "id": "dbec6f3e-8384-494c-ae3d-c331b290b0c3",
   "metadata": {},
   "source": [
    "### 1 - Resultados generales"
   ]
  },
  {
   "cell_type": "markdown",
   "id": "1ec7bb8e-cdb2-4822-8b75-a262b36068fd",
   "metadata": {},
   "source": [
    "Se representa la *k efectiva* en función del tiempo"
   ]
  },
  {
   "cell_type": "code",
   "execution_count": null,
   "id": "6a30cc9a-c19f-4f06-87c3-11bc2decd76d",
   "metadata": {},
   "outputs": [],
   "source": [
    "pyplot.errorbar(time, k[:, 0], yerr=k[:, 1])\n",
    "pyplot.ylim(0.9, 1.35)\n",
    "pyplot.xlabel(\"Tiempo [días]\")\n",
    "pyplot.ylabel(\"$k_{eff}\\pm \\sigma$\");"
   ]
  },
  {
   "cell_type": "code",
   "execution_count": null,
   "id": "b44229da-b035-41df-b4b8-26ad882e6b23",
   "metadata": {},
   "outputs": [],
   "source": [
    "_, u235_fission1 = results.get_reaction_rate(\"1\", \"U235\", \"fission\")\n",
    "_, u235_fission2 = results.get_reaction_rate(\"2\", \"U235\", \"fission\")\n",
    "_, u235_fission3 = results.get_reaction_rate(\"3\", \"U235\", \"fission\")\n",
    "_, u235_fission6 = results.get_reaction_rate(\"6\", \"U235\", \"fission\")\n",
    "_, u235_fission7 = results.get_reaction_rate(\"7\", \"U235\", \"fission\")\n",
    "\n",
    "t_fission = u235_fission1 + u235_fission2 + u235_fission3 + u235_fission6 + u235_fission7"
   ]
  },
  {
   "cell_type": "code",
   "execution_count": null,
   "id": "e49dfa8f-9c31-403f-a770-d237eb8394ba",
   "metadata": {},
   "outputs": [],
   "source": [
    "pyplot.plot(time, t_fission)\n",
    "pyplot.xlabel(\"Tiempo [d]\")\n",
    "pyplot.ylabel(\"Total fisiones / s\");"
   ]
  },
  {
   "cell_type": "code",
   "execution_count": null,
   "id": "0a547d87-7358-4ba4-b9a7-4cca7a89953a",
   "metadata": {},
   "outputs": [],
   "source": [
    "pyplot.plot(time, u235_fission1, label=\"LE\")\n",
    "pyplot.plot(time, u235_fission2, label=\"ME\")\n",
    "pyplot.plot(time, u235_fission3, label=\"HE\")\n",
    "pyplot.plot(time, u235_fission6, label=\"ME Gd2O3\")\n",
    "pyplot.plot(time, u235_fission7, label=\"HE Gd2O3\")\n",
    "pyplot.xlabel(\"Tiempo [d]\")\n",
    "pyplot.ylabel(\"Fisiones / s\")\n",
    "pyplot.legend(loc=\"upper right\")\n",
    "pyplot.show()"
   ]
  },
  {
   "cell_type": "code",
   "execution_count": null,
   "id": "b0c1a89d-372e-44bc-94b6-621918948d1d",
   "metadata": {},
   "outputs": [],
   "source": [
    "_, xe135_1 = results.get_atoms(\"1\", \"Xe135\")\n",
    "_, xe135_2 = results.get_atoms(\"2\", \"Xe135\")\n",
    "_, xe135_3 = results.get_atoms(\"3\", \"Xe135\")\n",
    "_, xe135_6 = results.get_atoms(\"6\", \"Xe135\")\n",
    "_, xe135_7 = results.get_atoms(\"7\", \"Xe135\")\n",
    "xe135 = xe135_1 + xe135_2 + xe135_3 + xe135_6 + xe135_7"
   ]
  },
  {
   "cell_type": "code",
   "execution_count": null,
   "id": "f4731f2b-8d26-4e54-8b56-da9ec063b730",
   "metadata": {},
   "outputs": [],
   "source": [
    "pyplot.plot(time, xe135, label=\"Xe135\")\n",
    "pyplot.xlabel(\"Tiempo [días]\")\n",
    "pyplot.ylabel(\"Número de átomos - Xe135\");"
   ]
  },
  {
   "cell_type": "markdown",
   "id": "31698c4b-9cad-4d64-bbdd-01563a7ceb57",
   "metadata": {},
   "source": [
    "---"
   ]
  },
  {
   "cell_type": "markdown",
   "id": "bce2fc4d-ee25-47df-8eca-e78bc2f8299c",
   "metadata": {
    "jp-MarkdownHeadingCollapsed": true
   },
   "source": [
    "### 2 - Masa restante de veneno consumible (Gadolinio)"
   ]
  },
  {
   "cell_type": "code",
   "execution_count": null,
   "id": "324dc64d-11fc-4b9e-95d1-e7e267de1614",
   "metadata": {},
   "outputs": [],
   "source": [
    "_, m_Gd152_1 = results.get_mass(\"1\", \"Gd152\")\n",
    "_, m_Gd152_2 = results.get_mass(\"2\", \"Gd152\")\n",
    "_, m_Gd152_3 = results.get_mass(\"3\", \"Gd152\")\n",
    "_, m_Gd152_6 = results.get_mass(\"6\", \"Gd152\")\n",
    "_, m_Gd152_7 = results.get_mass(\"7\", \"Gd152\")\n",
    "\n",
    "_, m_Gd154_1 = results.get_mass(\"1\", \"Gd154\")\n",
    "_, m_Gd154_2 = results.get_mass(\"2\", \"Gd154\")\n",
    "_, m_Gd154_3 = results.get_mass(\"3\", \"Gd154\")\n",
    "_, m_Gd154_6 = results.get_mass(\"6\", \"Gd154\")\n",
    "_, m_Gd154_7 = results.get_mass(\"7\", \"Gd154\")\n",
    "\n",
    "_, m_Gd155_1 = results.get_mass(\"1\", \"Gd155\")\n",
    "_, m_Gd155_2 = results.get_mass(\"2\", \"Gd155\")\n",
    "_, m_Gd155_3 = results.get_mass(\"3\", \"Gd155\")\n",
    "_, m_Gd155_6 = results.get_mass(\"6\", \"Gd155\")\n",
    "_, m_Gd155_7 = results.get_mass(\"7\", \"Gd155\")\n",
    "\n",
    "_, m_Gd156_1 = results.get_mass(\"1\", \"Gd156\")\n",
    "_, m_Gd156_2 = results.get_mass(\"2\", \"Gd156\")\n",
    "_, m_Gd156_3 = results.get_mass(\"3\", \"Gd156\")\n",
    "_, m_Gd156_6 = results.get_mass(\"6\", \"Gd156\")\n",
    "_, m_Gd156_7 = results.get_mass(\"7\", \"Gd156\")\n",
    "\n",
    "_, m_Gd157_1 = results.get_mass(\"1\", \"Gd157\")\n",
    "_, m_Gd157_2 = results.get_mass(\"2\", \"Gd157\")\n",
    "_, m_Gd157_3 = results.get_mass(\"3\", \"Gd157\")\n",
    "_, m_Gd157_6 = results.get_mass(\"6\", \"Gd157\")\n",
    "_, m_Gd157_7 = results.get_mass(\"7\", \"Gd157\")\n",
    "\n",
    "_, m_Gd158_1 = results.get_mass(\"1\", \"Gd158\")\n",
    "_, m_Gd158_2 = results.get_mass(\"2\", \"Gd158\")\n",
    "_, m_Gd158_3 = results.get_mass(\"3\", \"Gd158\")\n",
    "_, m_Gd158_6 = results.get_mass(\"6\", \"Gd158\")\n",
    "_, m_Gd158_7 = results.get_mass(\"7\", \"Gd158\")\n",
    "\n",
    "_, m_Gd160_1 = results.get_mass(\"1\", \"Gd160\")\n",
    "_, m_Gd160_2 = results.get_mass(\"2\", \"Gd160\")\n",
    "_, m_Gd160_3 = results.get_mass(\"3\", \"Gd160\")\n",
    "_, m_Gd160_6 = results.get_mass(\"6\", \"Gd160\")\n",
    "_, m_Gd160_7 = results.get_mass(\"7\", \"Gd160\")\n",
    "\n",
    "\n",
    "m_Gd_1 = m_Gd152_1 + m_Gd154_1 + m_Gd155_1 + m_Gd156_1 + m_Gd157_1 + m_Gd158_1 + m_Gd160_1\n",
    "m_Gd_2 = m_Gd152_2 + m_Gd154_2 + m_Gd155_2 + m_Gd156_2 + m_Gd157_2 + m_Gd158_2 + m_Gd160_2\n",
    "m_Gd_3 = m_Gd152_3 + m_Gd154_3 + m_Gd155_3 + m_Gd156_3 + m_Gd157_3 + m_Gd158_3 + m_Gd160_3\n",
    "m_Gd_6 = m_Gd152_6 + m_Gd154_6 + m_Gd155_6 + m_Gd156_6 + m_Gd157_6 + m_Gd158_6 + m_Gd160_6\n",
    "m_Gd_7 = m_Gd152_7 + m_Gd154_7 + m_Gd155_7 + m_Gd156_7 + m_Gd157_7 + m_Gd158_7 + m_Gd160_7\n",
    "\n",
    "m_Gd_t = m_Gd_1 + m_Gd_2 + m_Gd_3 + m_Gd_6 + m_Gd_7"
   ]
  },
  {
   "cell_type": "code",
   "execution_count": null,
   "id": "829429b8-5bb7-4eb7-9c13-59f09f48e6e9",
   "metadata": {},
   "outputs": [],
   "source": [
    "pyplot.plot(time, m_Gd_1, label=\"LE\")\n",
    "pyplot.plot(time, m_Gd_2, label=\"ME\")\n",
    "pyplot.plot(time, m_Gd_3, label=\"HE\")\n",
    "pyplot.plot(time, m_Gd_6, label=\"ME Gd2O3\")\n",
    "pyplot.plot(time, m_Gd_7, label=\"HE Gd2O3\")\n",
    "pyplot.xlabel(\"Time [d]\")\n",
    "pyplot.ylabel(\"Masa (g)\");\n",
    "pyplot.legend(loc=\"upper right\")\n",
    "pyplot.show()"
   ]
  },
  {
   "cell_type": "markdown",
   "id": "ce5c8fad-a538-4f26-adf2-64dd7c8be3b3",
   "metadata": {},
   "source": [
    "### 3 - Resultados por nucleido"
   ]
  },
  {
   "cell_type": "markdown",
   "id": "d56c7911-3256-4606-be5c-3d8dc6238941",
   "metadata": {},
   "source": [
    "#### U235"
   ]
  },
  {
   "cell_type": "markdown",
   "id": "d83aeb37-1746-425d-9c3a-4866d276672f",
   "metadata": {},
   "source": [
    "Al tener varios tipos de combustible, es necesario obtener los datos para cada combustible por separado y sumarlos.<br>\n",
    "En este caso, se realiza para el U235:"
   ]
  },
  {
   "cell_type": "code",
   "execution_count": null,
   "id": "6b112870-1aca-46ed-b015-ac81196006cd",
   "metadata": {},
   "outputs": [],
   "source": [
    "# Se obtienen las masas de cada material (tipo de combustible) y se suman\n",
    "_, m_u235_1 = results.get_mass(\"1\", \"U235\")\n",
    "_, m_u235_2 = results.get_mass(\"2\", \"U235\")\n",
    "_, m_u235_3 = results.get_mass(\"3\", \"U235\")\n",
    "_, m_u235_6 = results.get_mass(\"6\", \"U235\")\n",
    "_, m_u235_7 = results.get_mass(\"7\", \"U235\")\n",
    "m_u235 = m_u235_1 + m_u235_2 + m_u235_3 + m_u235_6 + m_u235_7\n",
    "\n",
    "# Se calcula la producción de U235 en toneladas (en este caso, saldrá negativa ya que se consume)\n",
    "p_u235 = (m_u235[n_repeticion_pasos] - m_u235[0])/1000000\n",
    "p_u235 #ton"
   ]
  },
  {
   "cell_type": "code",
   "execution_count": null,
   "id": "89ebd0e4-4c58-4ea3-b3be-6b1e671dd049",
   "metadata": {},
   "outputs": [],
   "source": [
    "m_u235[n_repeticion_pasos]/1000000 #ton"
   ]
  },
  {
   "cell_type": "code",
   "execution_count": null,
   "id": "8b41a66c-7e68-4774-8c6f-bb641f007527",
   "metadata": {},
   "outputs": [],
   "source": [
    "# pyplot.plot(time, m_u235, label=\"Total\")\n",
    "pyplot.plot(time, m_u235_1/1000, label=\"LE\")\n",
    "pyplot.plot(time, m_u235_2/1000, label=\"ME\")\n",
    "pyplot.plot(time, m_u235_3/1000, label=\"HE\")\n",
    "pyplot.plot(time, m_u235_6/1000, label=\"ME Gd2O3\")\n",
    "pyplot.plot(time, m_u235_7/1000, label=\"HE Gd2O3\")\n",
    "pyplot.xlabel(\"Tiempo [días]\")\n",
    "pyplot.ylabel(\"Masa (kg) - U235\")\n",
    "pyplot.legend(loc=\"upper right\")\n",
    "pyplot.show()"
   ]
  },
  {
   "cell_type": "markdown",
   "id": "cf0664f5-1912-4779-bbf7-2c71f9e25220",
   "metadata": {},
   "source": [
    "#### U238"
   ]
  },
  {
   "cell_type": "code",
   "execution_count": null,
   "id": "9c178cf7-1719-40c6-8252-1278797bcba6",
   "metadata": {},
   "outputs": [],
   "source": [
    "# Se obtienen las masas de cada material (tipo de combustible) y se suman\n",
    "_, m_u238_1 = results.get_mass(\"1\", \"U238\")\n",
    "_, m_u238_2 = results.get_mass(\"2\", \"U238\")\n",
    "_, m_u238_3 = results.get_mass(\"3\", \"U238\")\n",
    "_, m_u238_6 = results.get_mass(\"6\", \"U238\")\n",
    "_, m_u238_7 = results.get_mass(\"7\", \"U238\")\n",
    "m_u238 = m_u238_1 + m_u238_2 + m_u238_3 + m_u238_6 + m_u238_7\n",
    "\n",
    "# Se calcula la producción de U238 en toneladas (en este caso, saldrá negativa ya que se consume)\n",
    "p_u238 = (m_u238[n_repeticion_pasos] - m_u238[0])/1000000\n",
    "p_u238 #ton"
   ]
  },
  {
   "cell_type": "code",
   "execution_count": null,
   "id": "fdcc286d-fd59-4091-b876-81b86fc674ca",
   "metadata": {},
   "outputs": [],
   "source": [
    "m_u238[n_repeticion_pasos]/1000000 #ton"
   ]
  },
  {
   "cell_type": "code",
   "execution_count": null,
   "id": "b2426dfd-63f0-4a03-af2e-bde2f6e47c68",
   "metadata": {},
   "outputs": [],
   "source": [
    "pyplot.plot(time, m_u238/1000, label=\"U238\")\n",
    "pyplot.xlabel(\"Tiempo [d]\")\n",
    "pyplot.ylabel(\"Masa (kg)\");"
   ]
  },
  {
   "cell_type": "markdown",
   "id": "ecca4b1c-7cab-4639-8667-8a69e0917587",
   "metadata": {},
   "source": [
    "#### Pu"
   ]
  },
  {
   "cell_type": "code",
   "execution_count": null,
   "id": "e4d9b151-c5fb-44ab-a4a8-afa645393334",
   "metadata": {},
   "outputs": [],
   "source": [
    "_, m_pu238_1 = results.get_mass(\"1\", \"Pu238\")\n",
    "_, m_pu238_2 = results.get_mass(\"2\", \"Pu238\")\n",
    "_, m_pu238_3 = results.get_mass(\"3\", \"Pu238\")\n",
    "_, m_pu238_6 = results.get_mass(\"6\", \"Pu238\")\n",
    "_, m_pu238_7 = results.get_mass(\"7\", \"Pu238\")\n",
    "m_pu238 = m_pu238_1 + m_pu238_2 + m_pu238_3 + m_pu238_6 + m_pu238_7\n",
    "p_pu238 = (m_pu238[n_repeticion_pasos] - m_pu238[0])/1000\n",
    "p_pu238 # kg"
   ]
  },
  {
   "cell_type": "code",
   "execution_count": null,
   "id": "74c5c2ba-da1d-4d39-b73a-a244228af788",
   "metadata": {},
   "outputs": [],
   "source": [
    "_, m_pu239_1 = results.get_mass(\"1\", \"Pu239\")\n",
    "_, m_pu239_2 = results.get_mass(\"2\", \"Pu239\")\n",
    "_, m_pu239_3 = results.get_mass(\"3\", \"Pu239\")\n",
    "_, m_pu239_6 = results.get_mass(\"6\", \"Pu239\")\n",
    "_, m_pu239_7 = results.get_mass(\"7\", \"Pu239\")\n",
    "m_pu239 = m_pu239_1 + m_pu239_2 + m_pu239_3 + m_pu239_6 + m_pu239_7\n",
    "p_pu239 = (m_pu239[n_repeticion_pasos] - m_pu239[0])/1000\n",
    "p_pu239 # kg"
   ]
  },
  {
   "cell_type": "code",
   "execution_count": null,
   "id": "2277643d-5e05-4e41-b020-f000a3fc9def",
   "metadata": {},
   "outputs": [],
   "source": [
    "_, m_pu240_1 = results.get_mass(\"1\", \"Pu240\")\n",
    "_, m_pu240_2 = results.get_mass(\"2\", \"Pu240\")\n",
    "_, m_pu240_3 = results.get_mass(\"3\", \"Pu240\")\n",
    "_, m_pu240_6 = results.get_mass(\"6\", \"Pu240\")\n",
    "_, m_pu240_7 = results.get_mass(\"7\", \"Pu240\")\n",
    "m_pu240 = m_pu240_1 + m_pu240_2 + m_pu240_3 + m_pu240_6 + m_pu240_7\n",
    "p_pu240 = (m_pu240[n_repeticion_pasos] - m_pu240[0])/1000\n",
    "p_pu240 #kg"
   ]
  },
  {
   "cell_type": "code",
   "execution_count": null,
   "id": "9ab0355a-fb97-4daf-8f2b-aa67b5b0548e",
   "metadata": {},
   "outputs": [],
   "source": [
    "_, m_pu241_1 = results.get_mass(\"1\", \"Pu241\")\n",
    "_, m_pu241_2 = results.get_mass(\"2\", \"Pu241\")\n",
    "_, m_pu241_3 = results.get_mass(\"3\", \"Pu241\")\n",
    "_, m_pu241_6 = results.get_mass(\"6\", \"Pu241\")\n",
    "_, m_pu241_7 = results.get_mass(\"7\", \"Pu241\")\n",
    "m_pu241 = m_pu241_1 + m_pu241_2 + m_pu241_3  + m_pu241_6 + m_pu241_7\n",
    "p_pu241 = (m_pu241[n_repeticion_pasos] - m_pu241[0])/1000\n",
    "p_pu241 #kg"
   ]
  },
  {
   "cell_type": "code",
   "execution_count": null,
   "id": "cafb774d-db5f-4afc-8beb-e7e1f01c9dc2",
   "metadata": {},
   "outputs": [],
   "source": [
    "_, m_pu242_1 = results.get_mass(\"1\", \"Pu242\")\n",
    "_, m_pu242_2 = results.get_mass(\"2\", \"Pu242\")\n",
    "_, m_pu242_3 = results.get_mass(\"3\", \"Pu242\")\n",
    "_, m_pu242_6 = results.get_mass(\"6\", \"Pu242\")\n",
    "_, m_pu242_7 = results.get_mass(\"7\", \"Pu242\")\n",
    "m_pu242 = m_pu242_1 + m_pu242_2 + m_pu242_3 + m_pu242_6 + m_pu242_7\n",
    "p_pu242 = (m_pu242[n_repeticion_pasos] - m_pu242[0])/1000\n",
    "p_pu242 #kg"
   ]
  },
  {
   "cell_type": "code",
   "execution_count": null,
   "id": "baa3dc37-4ddc-4dc6-87cf-c0daec39558b",
   "metadata": {},
   "outputs": [],
   "source": [
    "pyplot.plot(time, m_pu238/1000, label=\"Pu238\")\n",
    "pyplot.plot(time, m_pu239/1000, label=\"Pu239\")\n",
    "pyplot.plot(time, m_pu240/1000, label=\"Pu240\")\n",
    "pyplot.plot(time, m_pu241/1000, label=\"Pu241\")\n",
    "pyplot.plot(time, m_pu242/1000, label=\"Pu242\")\n",
    "pyplot.xlabel(\"Tiempo [días]\")\n",
    "pyplot.ylabel(\"Masa (kg)\")\n",
    "pyplot.legend(loc=\"upper left\")\n",
    "pyplot.show()"
   ]
  },
  {
   "cell_type": "markdown",
   "id": "f46647ec-debb-41b5-bdcd-7d922eac35fb",
   "metadata": {},
   "source": [
    "#### Np"
   ]
  },
  {
   "cell_type": "code",
   "execution_count": null,
   "id": "463401b9-9478-4335-bbe0-3634f00edbda",
   "metadata": {},
   "outputs": [],
   "source": [
    "_, m_np237_1 = results.get_mass(\"1\", \"Np237\")\n",
    "_, m_np237_2 = results.get_mass(\"2\", \"Np237\")\n",
    "_, m_np237_3 = results.get_mass(\"3\", \"Np237\")\n",
    "_, m_np237_6 = results.get_mass(\"6\", \"Np237\")\n",
    "_, m_np237_7 = results.get_mass(\"7\", \"Np237\")\n",
    "m_np237 = m_np237_1 + m_np237_2 + m_np237_3 + m_np237_6 + m_np237_7\n",
    "p_np237 = (m_np237[n_repeticion_pasos] - m_np237[0])/1000\n",
    "p_np237 #kg"
   ]
  },
  {
   "cell_type": "code",
   "execution_count": null,
   "id": "dbdf5ff0-83c2-4ec5-abb4-4fc7bb25d383",
   "metadata": {},
   "outputs": [],
   "source": [
    "m_np237[n_repeticion_pasos]"
   ]
  },
  {
   "cell_type": "code",
   "execution_count": null,
   "id": "288b4c34-a328-4549-ae35-e037b0e9bb81",
   "metadata": {},
   "outputs": [],
   "source": [
    "pyplot.plot(time, m_np237/1000, label=\"Np237\")\n",
    "pyplot.xlabel(\"Tiempo [días]\")\n",
    "pyplot.ylabel(\"Masa (kg)\");"
   ]
  },
  {
   "cell_type": "markdown",
   "id": "9635b7f3-d874-44d4-9661-9739ebdd9fd8",
   "metadata": {},
   "source": [
    "#### Am"
   ]
  },
  {
   "cell_type": "code",
   "execution_count": null,
   "id": "6dc4870f-9075-42d1-bb71-b8a3a2e0c6de",
   "metadata": {},
   "outputs": [],
   "source": [
    "_, m_am241_1 = results.get_mass(\"1\", \"Am241\")\n",
    "_, m_am241_2 = results.get_mass(\"2\", \"Am241\")\n",
    "_, m_am241_3 = results.get_mass(\"3\", \"Am241\")\n",
    "_, m_am241_6 = results.get_mass(\"6\", \"Am241\")\n",
    "_, m_am241_7 = results.get_mass(\"7\", \"Am241\")\n",
    "m_am241 = m_am241_1 + m_am241_2 + m_am241_3 + m_am241_6 + m_am241_7\n",
    "p_am241 = (m_am241[n_repeticion_pasos] - m_am241[0])/1000\n",
    "p_am241"
   ]
  },
  {
   "cell_type": "code",
   "execution_count": null,
   "id": "29128be4-9690-40c7-8e07-f024e00b91e8",
   "metadata": {},
   "outputs": [],
   "source": [
    "_, m_am243_1 = results.get_mass(\"1\", \"Am243\")\n",
    "_, m_am243_2 = results.get_mass(\"2\", \"Am243\")\n",
    "_, m_am243_3 = results.get_mass(\"3\", \"Am243\")\n",
    "_, m_am243_6 = results.get_mass(\"6\", \"Am243\")\n",
    "_, m_am243_7 = results.get_mass(\"7\", \"Am243\")\n",
    "m_am243 = m_am243_1 + m_am243_2 + m_am243_3 + m_am243_6 + m_am243_7\n",
    "p_am243 = (m_am243[n_repeticion_pasos] - m_am243[0])/1000\n",
    "p_am243"
   ]
  },
  {
   "cell_type": "code",
   "execution_count": null,
   "id": "70d6c827-2749-4e27-b91f-38db168d8ff5",
   "metadata": {},
   "outputs": [],
   "source": [
    "pyplot.plot(time, m_am241/1000, label=\"Am241\")\n",
    "pyplot.plot(time, m_am243/1000, label=\"Am243\")\n",
    "pyplot.xlabel(\"Tiempo [días]\")\n",
    "pyplot.ylabel(\"Masa (kg)\")\n",
    "pyplot.legend(loc=\"upper left\")\n",
    "pyplot.show()"
   ]
  },
  {
   "cell_type": "raw",
   "id": "1f87b59e-48b8-40c9-aec6-caa7529dd115",
   "metadata": {},
   "source": [
    "_, am241_1 = results.get_activity(\"6\", 'Bq/cm3', True)"
   ]
  },
  {
   "cell_type": "markdown",
   "id": "78200af8-126d-4d77-8b18-a7febe198255",
   "metadata": {},
   "source": [
    "#### Cm"
   ]
  },
  {
   "cell_type": "code",
   "execution_count": null,
   "id": "bbf3ed42-3672-44f9-a29e-f6641139c0c2",
   "metadata": {},
   "outputs": [],
   "source": [
    "_, m_cm244_1 = results.get_mass(\"1\", \"Cm244\")\n",
    "_, m_cm244_2 = results.get_mass(\"2\", \"Cm244\")\n",
    "_, m_cm244_3 = results.get_mass(\"3\", \"Cm244\")\n",
    "_, m_cm244_6 = results.get_mass(\"6\", \"Cm244\")\n",
    "_, m_cm244_7 = results.get_mass(\"7\", \"Cm244\")\n",
    "m_cm244 = m_cm244_1 + m_cm244_2 + m_cm244_3 + m_cm244_6 + m_cm244_7\n",
    "p_cm244 = m_cm244[n_repeticion_pasos] - m_cm244[0]\n",
    "p_cm244"
   ]
  },
  {
   "cell_type": "code",
   "execution_count": null,
   "id": "ae5119fb-0711-4395-b2f8-798a402ff1a1",
   "metadata": {},
   "outputs": [],
   "source": [
    "_, m_cm245_1 = results.get_mass(\"1\", \"Cm245\")\n",
    "_, m_cm245_2 = results.get_mass(\"2\", \"Cm245\")\n",
    "_, m_cm245_3 = results.get_mass(\"3\", \"Cm245\")\n",
    "_, m_cm245_6 = results.get_mass(\"6\", \"Cm245\")\n",
    "_, m_cm245_7 = results.get_mass(\"7\", \"Cm245\")\n",
    "m_cm245 = m_cm245_1 + m_cm245_2 + m_cm245_3 + m_cm245_6 + m_cm245_7\n",
    "p_cm245 = m_cm245[n_repeticion_pasos] - m_cm245[0]\n",
    "p_cm245"
   ]
  },
  {
   "cell_type": "code",
   "execution_count": null,
   "id": "d913bb2a-061e-4cd6-916e-963245777868",
   "metadata": {},
   "outputs": [],
   "source": [
    "pyplot.plot(time, m_cm244, label=\"Cm244\")\n",
    "pyplot.plot(time, m_cm245, label=\"Cm245\")\n",
    "pyplot.xlabel(\"Tiempo [días]\")\n",
    "pyplot.ylabel(\"Masa (g)\")\n",
    "pyplot.legend(loc=\"upper left\")\n",
    "pyplot.show()"
   ]
  },
  {
   "cell_type": "markdown",
   "id": "bcd8a326-b0b2-433a-bbfa-4962cd0fbb39",
   "metadata": {},
   "source": [
    "---"
   ]
  }
 ],
 "metadata": {
  "kernelspec": {
   "display_name": "Python 3 (ipykernel)",
   "language": "python",
   "name": "python3"
  },
  "language_info": {
   "codemirror_mode": {
    "name": "ipython",
    "version": 3
   },
   "file_extension": ".py",
   "mimetype": "text/x-python",
   "name": "python",
   "nbconvert_exporter": "python",
   "pygments_lexer": "ipython3",
   "version": "3.10.12"
  }
 },
 "nbformat": 4,
 "nbformat_minor": 5
}
